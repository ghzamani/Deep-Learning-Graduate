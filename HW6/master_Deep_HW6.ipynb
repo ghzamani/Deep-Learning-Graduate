{
  "cells": [
    {
      "cell_type": "markdown",
      "metadata": {
        "id": "x1nTxwNGJpMy"
      },
      "source": [
        "# Setup"
      ]
    },
    {
      "cell_type": "code",
      "execution_count": 1,
      "metadata": {
        "id": "6Yu-bQAmJqDE",
        "ExecuteTime": {
          "end_time": "2023-05-16T21:01:54.159064900Z",
          "start_time": "2023-05-16T21:01:52.855488600Z"
        }
      },
      "outputs": [],
      "source": [
        "import torch\n",
        "import torch.nn as nn\n",
        "import torch.optim as optim \n",
        "import torch.utils.data as data"
      ]
    },
    {
      "cell_type": "code",
      "execution_count": 2,
      "metadata": {
        "id": "nLPfFASBSUBm",
        "ExecuteTime": {
          "end_time": "2023-05-16T21:01:54.393098600Z",
          "start_time": "2023-05-16T21:01:54.162022200Z"
        }
      },
      "outputs": [],
      "source": [
        "import torchvision.datasets as datasets\n",
        "import torchvision.models as models\n",
        "import torchvision.transforms as T\n",
        "import torchvision.ops as ops"
      ]
    },
    {
      "cell_type": "code",
      "execution_count": 3,
      "metadata": {
        "ExecuteTime": {
          "end_time": "2023-05-16T21:01:54.413232400Z",
          "start_time": "2023-05-16T21:01:54.394093500Z"
        },
        "id": "05wvzjEXZ2Sc"
      },
      "outputs": [],
      "source": [
        "from PIL import Image"
      ]
    },
    {
      "cell_type": "code",
      "execution_count": 4,
      "metadata": {
        "ExecuteTime": {
          "end_time": "2023-05-16T21:01:54.791191400Z",
          "start_time": "2023-05-16T21:01:54.417772800Z"
        },
        "id": "JEpQZnRuZ2Sd"
      },
      "outputs": [],
      "source": [
        "import matplotlib.pyplot as plt"
      ]
    },
    {
      "cell_type": "code",
      "execution_count": 5,
      "metadata": {
        "ExecuteTime": {
          "end_time": "2023-05-16T21:01:54.897394400Z",
          "start_time": "2023-05-16T21:01:54.797768600Z"
        },
        "id": "szL2beqEZ2Sd"
      },
      "outputs": [],
      "source": [
        "from scipy.ndimage import zoom"
      ]
    },
    {
      "cell_type": "markdown",
      "metadata": {
        "id": "PiYufBDJZ2Sd"
      },
      "source": [
        "A couple of libraries that we need aren't preinstalled on Colab."
      ]
    },
    {
      "cell_type": "code",
      "execution_count": 6,
      "metadata": {
        "id": "OxB7YzP9BcOf"
      },
      "outputs": [],
      "source": [
        "%%capture\n",
        "!pip install pynvml\n",
        "!pip install pytorch-ignite"
      ]
    },
    {
      "cell_type": "code",
      "execution_count": 7,
      "metadata": {
        "id": "r6-RdpncBcOf",
        "ExecuteTime": {
          "end_time": "2023-05-16T21:01:59.219349600Z",
          "start_time": "2023-05-16T21:01:58.927834400Z"
        }
      },
      "outputs": [],
      "source": [
        "from ignite.engine.events import Events\n",
        "from ignite.metrics import Accuracy, RunningAverage\n",
        "from ignite.engine import create_supervised_trainer\n",
        "from ignite.engine import create_supervised_evaluator\n",
        "from ignite.contrib.handlers.tqdm_logger import ProgressBar"
      ]
    },
    {
      "cell_type": "markdown",
      "metadata": {
        "id": "eVTMe-pQJqQx"
      },
      "source": [
        "# Data\n",
        "\n",
        "For this assignment, we will be working with the **[Linnaeus 5](http://chaladze.com/l5/)** dataset. This dataset comes in several variations, each with different image sizes. We will download the 128x128 variant:"
      ]
    },
    {
      "cell_type": "code",
      "execution_count": 8,
      "metadata": {
        "colab": {
          "base_uri": "https://localhost:8080/"
        },
        "id": "fgISeRg_Jql2",
        "outputId": "1a2d5f5b-dd27-48eb-aa28-1e436c7bb30b"
      },
      "outputs": [
        {
          "output_type": "stream",
          "name": "stdout",
          "text": [
            "--2023-06-03 18:25:35--  http://chaladze.com/l5/img/Linnaeus%205%20128X128.rar\n",
            "Resolving chaladze.com (chaladze.com)... 74.208.236.157, 2607:f1c0:100f:f000::25c\n",
            "Connecting to chaladze.com (chaladze.com)|74.208.236.157|:80... connected.\n",
            "HTTP request sent, awaiting response... 200 OK\n",
            "Length: 138983573 (133M) [application/rar]\n",
            "Saving to: ‘Linnaeus 5 128X128.rar’\n",
            "\n",
            "Linnaeus 5 128X128. 100%[===================>] 132.54M   111MB/s    in 1.2s    \n",
            "\n",
            "2023-06-03 18:25:37 (111 MB/s) - ‘Linnaeus 5 128X128.rar’ saved [138983573/138983573]\n",
            "\n"
          ]
        }
      ],
      "source": [
        "!wget -c \"http://chaladze.com/l5/img/Linnaeus%205%20128X128.rar\""
      ]
    },
    {
      "cell_type": "markdown",
      "metadata": {
        "id": "Qsb27vCmSV3U"
      },
      "source": [
        "We need to extract this file:"
      ]
    },
    {
      "cell_type": "code",
      "execution_count": 9,
      "metadata": {
        "id": "w69jJTh3SY0L"
      },
      "outputs": [],
      "source": [
        "!unrar x \"Linnaeus 5 128X128.rar\" -idq"
      ]
    },
    {
      "cell_type": "markdown",
      "metadata": {
        "id": "vaDtzGAySD2Z"
      },
      "source": [
        "which creates \"Linnaeus 5 128X128.rar\" with two subfolders: `train` and `test`. We won't be needing a validation set, so loading these two would suffice."
      ]
    },
    {
      "cell_type": "markdown",
      "metadata": {
        "id": "OSHseL4HBcOi"
      },
      "source": [
        "The dataset is not that large and ViTs are extremely data-hungry. Therefore, it's crucial that we use a technique like Transfer Learning. Otherwise, the model is unlikely to learn anything. Assuming that we will use a model that has been trained on ImageNet, we can use the following means and stds to normalize our inputs:"
      ]
    },
    {
      "cell_type": "code",
      "execution_count": 10,
      "metadata": {
        "id": "GEntRbpNBcOi",
        "ExecuteTime": {
          "end_time": "2023-05-16T21:02:03.862685Z",
          "start_time": "2023-05-16T21:02:03.845843Z"
        }
      },
      "outputs": [],
      "source": [
        "transform = T.Compose([\n",
        "    T.ToTensor(),\n",
        "    T.Normalize(\n",
        "        mean=[0.485, 0.456, 0.406],\n",
        "        std=[0.229, 0.224, 0.225],\n",
        "    )\n",
        "])"
      ]
    },
    {
      "cell_type": "markdown",
      "metadata": {
        "id": "qdkHxL9TBcOj"
      },
      "source": [
        "Putting it all together:"
      ]
    },
    {
      "cell_type": "code",
      "execution_count": 11,
      "metadata": {
        "id": "zG4EmsLnS0Oi",
        "ExecuteTime": {
          "end_time": "2023-05-16T21:02:05.336926Z",
          "start_time": "2023-05-16T21:02:05.295862600Z"
        }
      },
      "outputs": [],
      "source": [
        "train_set = datasets.ImageFolder('Linnaeus 5 128X128/train', transform=transform)\n",
        "test_set = datasets.ImageFolder('Linnaeus 5 128X128/test', transform=transform)"
      ]
    },
    {
      "cell_type": "markdown",
      "metadata": {
        "id": "dFWj2ebDJqzF"
      },
      "source": [
        "# Modeling\n",
        "\n",
        "We highly recommend checking out the [original paper](https://arxiv.org/pdf/2010.11929.pdf) and [Google's implementation](https://github.com/google-research/vision_transformer) to learn more about this model."
      ]
    },
    {
      "cell_type": "markdown",
      "metadata": {
        "id": "flZ6YmFlBcOk"
      },
      "source": [
        "## Architecture\n",
        "\n",
        "The model is quite simple to implement. You only need a `Conv2D` layer to break down the image into patches and project each individually, followed by a transformer encoder and a prediction head. Let's begin with the encoder. We have to first implement an encoder layer. \n",
        "\n",
        "The block isn't that different to a conventional encoder block in a Transformer. We only need to add one element to the outputs of its `forward()` method, and that is the attention weights. We recommend using [`nn.MultiheadAttention`](https://pytorch.org/docs/stable/generated/torch.nn.MultiheadAttention.html) which will provide you with the weights quite easily.\n",
        "\n",
        "**Do not change the name of the attributes.**"
      ]
    },
    {
      "cell_type": "code",
      "execution_count": 12,
      "metadata": {
        "id": "242kC9hVBcOk",
        "ExecuteTime": {
          "end_time": "2023-05-16T21:02:09.477837800Z",
          "start_time": "2023-05-16T21:02:09.456640Z"
        }
      },
      "outputs": [],
      "source": [
        "class EncoderBlock(nn.Module):\n",
        "\n",
        "    def __init__(self, num_heads, d_model, d_feedforward, dropout=0.0):\n",
        "        super().__init__()\n",
        "        self.num_heads = num_heads\n",
        "        # Fill in the missing modules.\n",
        "        self.ln_1 = nn.LayerNorm(d_model)\n",
        "        self.self_attention = nn.MultiheadAttention(d_model, num_heads, dropout, batch_first=True)\n",
        "        self.dropout = nn.Dropout(dropout)\n",
        "        self.ln_2 = nn.LayerNorm(d_model)\n",
        "        # self.mlp = ops.MLP(d_model, [d_feedforward, d_model])\n",
        "        self.mlp = nn.Sequential(\n",
        "            nn.Linear(d_model, d_feedforward),\n",
        "            nn.GELU(),\n",
        "            nn.Dropout(dropout),\n",
        "            nn.Linear(d_feedforward, d_model),\n",
        "            nn.Sigmoid()\n",
        "        )\n",
        "\n",
        "    def forward(self, inputs):\n",
        "        # Your code goes here.\n",
        "        # You need to output the encoded values and the attention weights.\n",
        "        \n",
        "        x = self.ln_1(inputs)\n",
        "        x, W = self.self_attention(x, x, x)\n",
        "        x = self.dropout(x)\n",
        "        x = x + inputs\n",
        "        y = self.ln_2(x)\n",
        "        y = self.mlp(y)\n",
        "\n",
        "        return x + y, W\n"
      ]
    },
    {
      "cell_type": "markdown",
      "metadata": {
        "id": "aV0Ee-yBBcOk"
      },
      "source": [
        "Next, we'll use this layer to build up the encoder network. Note that unlike conventional transformers, ViTs work better with learned positional encodings rather than generated ones. That's why we have introduced the `pos_embedding` parameter which will be optimized just like any other weight in the network."
      ]
    },
    {
      "cell_type": "code",
      "execution_count": 13,
      "metadata": {
        "id": "dWkShThDBcOk",
        "ExecuteTime": {
          "end_time": "2023-05-16T21:02:11.216236500Z",
          "start_time": "2023-05-16T21:02:11.175685200Z"
        }
      },
      "outputs": [],
      "source": [
        "class Encoder(nn.Module):\n",
        "\n",
        "    def __init__(self, seq_length, num_layers, num_heads, d_model, d_feedforward, dropout=0.0):\n",
        "        super().__init__()\n",
        "        self.pos_embedding = nn.Parameter(torch.randn(1, seq_length, d_model).normal_(std=0.02))\n",
        "        # Fill in the missing modules.\n",
        "        self.dropout = nn.Dropout(dropout)\n",
        "        self.layers = nn.ModuleList()\n",
        "        for i in range(num_layers):\n",
        "            layer = EncoderBlock(num_heads, d_model, d_feedforward, dropout)\n",
        "            self.layers.append(layer)\n",
        "        self.ln = nn.LayerNorm(d_model)\n",
        "\n",
        "    def forward(self, inputs):\n",
        "        # Your code goes here.\n",
        "        # You need to output the encoded values and a list of attention weights.\n",
        "        \n",
        "        x = self.pos_embedding + inputs\n",
        "        x = self.dropout(x)\n",
        "        \n",
        "        W = [None] * len(list(self.layers))\n",
        "        for i, blk in enumerate(self.layers):\n",
        "            x, attn_output_weights = blk(x)\n",
        "            W[i] = attn_output_weights\n",
        "\n",
        "        x = self.ln(x)\n",
        "        return x, W"
      ]
    },
    {
      "cell_type": "markdown",
      "metadata": {
        "id": "TJjkl1jkBcOl"
      },
      "source": [
        "We're all set! Let's now build the ViT itself. We'll need another learnable parameter: the `cls` token."
      ]
    },
    {
      "cell_type": "code",
      "execution_count": 14,
      "metadata": {
        "id": "9v-yTzL4BcOl",
        "ExecuteTime": {
          "end_time": "2023-05-16T21:02:12.404553500Z",
          "start_time": "2023-05-16T21:02:12.395588700Z"
        }
      },
      "outputs": [],
      "source": [
        "class ViT(nn.Module):\n",
        "\n",
        "    def __init__(self, image_size, patch_size, num_classes, num_layers, num_heads, d_model, d_feedforward, dropout=0.0):\n",
        "        super().__init__()\n",
        "        self.patch_size = patch_size\n",
        "        seq_length = (image_size // patch_size) ** 2\n",
        "        # Fill in the missing modules.\n",
        "        self.conv_proj = nn.Conv2d(3, d_model, kernel_size=patch_size, stride=patch_size)\n",
        "        self.encoder = Encoder(seq_length+1, num_layers, num_heads, d_model, d_feedforward, dropout)\n",
        "        self.head = nn.Linear(d_model, num_classes) \n",
        "        self.class_token = nn.Parameter(torch.zeros(1, 1, d_model))\n",
        "\n",
        "    def process_input(self, x):\n",
        "        x = self.conv_proj(x)\n",
        "        x = x.flatten(2, 3)\n",
        "        x = x.permute(0, 2, 1)\n",
        "        return x\n",
        "\n",
        "    def forward(self, x, need_weights=False):\n",
        "        # Your code goes here.\n",
        "        # You need to output the encoded values and a list of attention weights.\n",
        "        batched_cls_token = self.class_token.expand(x.size(0), -1, -1)\n",
        "        patches_embedding = self.process_input(x)\n",
        "        patches_embedding = torch.cat((batched_cls_token, patches_embedding), dim=1)\n",
        "\n",
        "        x, W = self.encoder(patches_embedding)\n",
        "        x = x[:, 0]\n",
        "        x = self.head(x)\n",
        "        \n",
        "        return (x, W) if need_weights else x"
      ]
    },
    {
      "cell_type": "markdown",
      "metadata": {
        "id": "Tf3ftKgQBcOl"
      },
      "source": [
        "Let's now instantiate the model. The `B/32` variant is a suitable architecture for our dataset:"
      ]
    },
    {
      "cell_type": "code",
      "execution_count": 15,
      "metadata": {
        "id": "jKP21D8gBcOl",
        "ExecuteTime": {
          "end_time": "2023-05-16T21:02:14.241376600Z",
          "start_time": "2023-05-16T21:02:13.640840600Z"
        }
      },
      "outputs": [],
      "source": [
        "network = ViT(\n",
        "    image_size=128,\n",
        "    patch_size=32,\n",
        "    num_classes=5,\n",
        "    num_layers=12,\n",
        "    num_heads=12,\n",
        "    d_model=768,\n",
        "    d_feedforward=3072,\n",
        "    # dropout=0.2\n",
        ")"
      ]
    },
    {
      "cell_type": "markdown",
      "metadata": {
        "id": "pg0Le0UiBcOl"
      },
      "source": [
        "## Transfer Learning\n",
        "\n",
        "Download the ImageNet weights from [here](https://drive.google.com/file/d/1P5iEZgLueotpOYVsRkeMxjVWf6Z0zckr/view?usp=share_link) and load them into the model:"
      ]
    },
    {
      "cell_type": "code",
      "execution_count": 16,
      "metadata": {
        "colab": {
          "base_uri": "https://localhost:8080/"
        },
        "id": "9h9-OTQuBcOm",
        "outputId": "e9b42c86-bf8b-425b-82bb-7da47daec1e4"
      },
      "outputs": [
        {
          "output_type": "stream",
          "name": "stdout",
          "text": [
            "Downloading...\n",
            "From: https://drive.google.com/uc?id=1P5iEZgLueotpOYVsRkeMxjVWf6Z0zckr\n",
            "To: /content/state_dict.pt\n",
            "100% 353M/353M [00:03<00:00, 103MB/s]\n"
          ]
        }
      ],
      "source": [
        "!gdown \"1P5iEZgLueotpOYVsRkeMxjVWf6Z0zckr\""
      ]
    },
    {
      "cell_type": "code",
      "execution_count": 17,
      "metadata": {
        "colab": {
          "base_uri": "https://localhost:8080/"
        },
        "id": "zqpBG0XNBcOm",
        "outputId": "c254f0cd-aa36-4f7a-8d6e-94691740b40b",
        "ExecuteTime": {
          "end_time": "2023-05-16T21:02:18.682736400Z",
          "start_time": "2023-05-16T21:02:18.486455400Z"
        }
      },
      "outputs": [
        {
          "output_type": "execute_result",
          "data": {
            "text/plain": [
              "<All keys matched successfully>"
            ]
          },
          "metadata": {},
          "execution_count": 17
        }
      ],
      "source": [
        "state_dict = torch.load('state_dict.pt')\n",
        "network.load_state_dict(state_dict)"
      ]
    },
    {
      "cell_type": "markdown",
      "metadata": {
        "id": "v9TxTkWQBcOm"
      },
      "source": [
        "## Training\n",
        "\n",
        "We will use Torch Ignite to expedite the process. Since you have already learned about this model, there isn't much for you to do here!"
      ]
    },
    {
      "cell_type": "code",
      "execution_count": 18,
      "metadata": {
        "id": "msnpYKp4BcOm",
        "ExecuteTime": {
          "end_time": "2023-05-16T21:02:20.142557800Z",
          "start_time": "2023-05-16T21:02:20.130936400Z"
        }
      },
      "outputs": [],
      "source": [
        "batch_size = 16\n",
        "learning_rate = 2e-4"
      ]
    },
    {
      "cell_type": "code",
      "execution_count": 19,
      "metadata": {
        "id": "WTC743E7BcOm",
        "scrolled": true,
        "ExecuteTime": {
          "end_time": "2023-05-16T21:02:20.528462300Z",
          "start_time": "2023-05-16T21:02:20.509081300Z"
        }
      },
      "outputs": [],
      "source": [
        "train_loader = data.DataLoader(train_set, batch_size, shuffle=True)\n",
        "eval_loader = data.DataLoader(train_set, batch_size, shuffle=False)"
      ]
    },
    {
      "cell_type": "code",
      "execution_count": 20,
      "metadata": {
        "id": "57q5LdgHBcOm",
        "ExecuteTime": {
          "end_time": "2023-05-16T21:02:21.095895200Z",
          "start_time": "2023-05-16T21:02:20.864554400Z"
        }
      },
      "outputs": [],
      "source": [
        "device = torch.device(\"cuda\" if torch.cuda.is_available() else \"cpu\")\n",
        "network = network.to(device)"
      ]
    },
    {
      "cell_type": "code",
      "source": [
        "# Fill in the missing modules.\n",
        "criterion = nn.CrossEntropyLoss()\n",
        "optimizer = optim.AdamW(network.parameters(), lr=learning_rate)"
      ],
      "metadata": {
        "id": "SQq9IE5ehO5t"
      },
      "execution_count": 21,
      "outputs": []
    },
    {
      "cell_type": "code",
      "execution_count": 22,
      "metadata": {
        "id": "YZEkLplKBcOn",
        "ExecuteTime": {
          "end_time": "2023-05-16T21:02:21.832683200Z",
          "start_time": "2023-05-16T21:02:21.813524500Z"
        }
      },
      "outputs": [],
      "source": [
        "trainer = create_supervised_trainer(network, optimizer, criterion, device)\n",
        "evaluator = create_supervised_evaluator(network, metrics={'accuracy': Accuracy()}, device=device)"
      ]
    },
    {
      "cell_type": "code",
      "execution_count": 23,
      "metadata": {
        "id": "BKCmJ3JkBcOn",
        "ExecuteTime": {
          "end_time": "2023-05-16T21:02:22.408838300Z",
          "start_time": "2023-05-16T21:02:22.381535100Z"
        }
      },
      "outputs": [],
      "source": [
        "@trainer.on(Events.EPOCH_COMPLETED)\n",
        "def evaluate(engine):\n",
        "    evaluator.run(eval_loader)\n",
        "    print(f'accuracy: {evaluator.state.metrics[\"accuracy\"]:.2f}')"
      ]
    },
    {
      "cell_type": "code",
      "execution_count": 24,
      "metadata": {
        "id": "eRfEEJpXBcOn",
        "ExecuteTime": {
          "end_time": "2023-05-16T21:02:23.271890700Z",
          "start_time": "2023-05-16T21:02:23.247245600Z"
        },
        "colab": {
          "base_uri": "https://localhost:8080/"
        },
        "outputId": "7b2ecef8-78ce-43af-fd67-b6ca859619ec"
      },
      "outputs": [
        {
          "output_type": "stream",
          "name": "stderr",
          "text": [
            "/usr/local/lib/python3.10/dist-packages/ignite/contrib/handlers/tqdm_logger.py:127: TqdmExperimentalWarning: Using `tqdm.autonotebook.tqdm` in notebook mode. Use `tqdm.tqdm` instead to force console mode (e.g. in jupyter console)\n",
            "  from tqdm.autonotebook import tqdm\n"
          ]
        }
      ],
      "source": [
        "RunningAverage(output_transform=lambda x: x).attach(trainer, 'loss')\n",
        "ProgressBar().attach(trainer, ['loss'])"
      ]
    },
    {
      "cell_type": "markdown",
      "metadata": {
        "id": "9vMQ2ocHBcOn"
      },
      "source": [
        "Luckily, we don't need to train for too long. With just one epoch:"
      ]
    },
    {
      "cell_type": "code",
      "execution_count": 25,
      "metadata": {
        "colab": {
          "base_uri": "https://localhost:8080/",
          "height": 309,
          "referenced_widgets": [
            "72fa41e9918145fdb0396866e16c7918",
            "c31d758ed3404f8aaeab8b8572530d66",
            "3cf6f16fc9d34356aa0342267536a5f8",
            "932153a13e3b43af91291d05830fe2e1",
            "c87e77a0de5f4b1ba6c280479043faf1",
            "f41f95c9ac614b4aa1a258583a02c690",
            "8add7e8b2ddd42a1a5c366aa97292626",
            "481c072917374bcba77557f2f1c66e32",
            "9ec7b5eb0f4d4bd893041f760b60b689",
            "794c25bc678448c8a4265bf9e32d3b35",
            "79370f0f1079494fa49af90cd2b9ecd3",
            "4c9e288bbee7406ea6142367eb17cd15",
            "d0cbf01d91924ba99a95b785484a6739",
            "c57875b524dc410fa7a04c0a2eed58e9",
            "6edfcba9407541699b516618d28b0700",
            "004005550563470d846ea49a956bdc90",
            "6a279f87da104fc6bfca4d9f0ebdb0d6",
            "fd07a48cc4e446b3bcdbc6b055dce0a3",
            "a0b4c780a779484aa80a2eb263ba7dc4",
            "bdef7ac7ffaa467a832aeefe79107379",
            "637549c42d9146a7a05c15721367aa0b",
            "c1f94c80d0c5448db0b8863f10d30a2d",
            "c1584015f76342c4a59aa2bb7bcfe813",
            "e82d448fdf8448c8b05c634688a84aad",
            "50105fdeaf0145f5b9f39cd23bc8c8bf",
            "e03d173cbb8e4ef085d9788bf01bb21e",
            "64463ebe74d9411f838fa734c8ebc808",
            "73ed8ad8e370426f805c4afae9b6e1fb",
            "2409953e5b3a45928cd5ec26cfb9e764",
            "24d9d02eea8e4c52b0579970dd49e055",
            "bce8ae69663f439aa9953655733fc682",
            "a177cf29ff13419ab7fa5d73c2206979",
            "67ffeceff3cd4842a3ac8f8cddfc5903",
            "2a342ea8aeee44a68736556c20f06ff7",
            "bf9efa190f49432792b4cab5f4775bf6",
            "2af4c6615d6047adb3edf7dfaa0c42bf",
            "3e4693fd2d284ce09b35521e2d4ce963",
            "87a309d9f5174b88aaf772b345c6cc60",
            "6dfad1e214f74758a1cc1588f1cb92de",
            "a55cd7b7dd894d9d9eb3b78be0666ed4",
            "e16720d9e0b64b738058f48af1878085",
            "39dc59153d784417941959f5c0308296",
            "5435715e93eb4846852022a599f4d1d5",
            "a0d2ee8bd74c4ee0a18ef4f38edc4172",
            "052e5ab27f5943a4b043b5f21eef38a8",
            "b00e8666be344a7e8909715d7e5ab4b8",
            "edd85ab4dce94a76ab15b0c7d13cbf80",
            "46d3f9fd192e4814abf1a34ab81de058",
            "b80b2525e44d411cbd7360649299fe22",
            "9f822069107a494d91c251644cc02f92",
            "7b58cc4096ca47528b349b5fc047eb23",
            "d97416d0897f4f97a3091b2e78bb7347",
            "62d8e6009fa6450ba8f5c2d418f40014",
            "373e9bd4ab8740fd94db5d9c826912a2",
            "f90bb443c6fa44f092dbb3cd24040d40"
          ]
        },
        "id": "etcvK65bBcOn",
        "outputId": "ca2c6eaf-1719-4acf-b6ec-bc8338bdbe0b",
        "ExecuteTime": {
          "end_time": "2023-05-16T21:08:06.120725300Z",
          "start_time": "2023-05-16T21:02:26.569272800Z"
        }
      },
      "outputs": [
        {
          "output_type": "display_data",
          "data": {
            "text/plain": [
              "[1/375]   0%|           [00:00<?]"
            ],
            "application/vnd.jupyter.widget-view+json": {
              "version_major": 2,
              "version_minor": 0,
              "model_id": "72fa41e9918145fdb0396866e16c7918"
            }
          },
          "metadata": {}
        },
        {
          "output_type": "stream",
          "name": "stdout",
          "text": [
            "accuracy: 0.51\n"
          ]
        },
        {
          "output_type": "display_data",
          "data": {
            "text/plain": [
              "[1/375]   0%|           [00:00<?]"
            ],
            "application/vnd.jupyter.widget-view+json": {
              "version_major": 2,
              "version_minor": 0,
              "model_id": "4c9e288bbee7406ea6142367eb17cd15"
            }
          },
          "metadata": {}
        },
        {
          "output_type": "stream",
          "name": "stdout",
          "text": [
            "accuracy: 0.57\n"
          ]
        },
        {
          "output_type": "display_data",
          "data": {
            "text/plain": [
              "[1/375]   0%|           [00:00<?]"
            ],
            "application/vnd.jupyter.widget-view+json": {
              "version_major": 2,
              "version_minor": 0,
              "model_id": "c1584015f76342c4a59aa2bb7bcfe813"
            }
          },
          "metadata": {}
        },
        {
          "output_type": "stream",
          "name": "stdout",
          "text": [
            "accuracy: 0.65\n"
          ]
        },
        {
          "output_type": "display_data",
          "data": {
            "text/plain": [
              "[1/375]   0%|           [00:00<?]"
            ],
            "application/vnd.jupyter.widget-view+json": {
              "version_major": 2,
              "version_minor": 0,
              "model_id": "2a342ea8aeee44a68736556c20f06ff7"
            }
          },
          "metadata": {}
        },
        {
          "output_type": "stream",
          "name": "stdout",
          "text": [
            "accuracy: 0.69\n"
          ]
        },
        {
          "output_type": "display_data",
          "data": {
            "text/plain": [
              "[1/375]   0%|           [00:00<?]"
            ],
            "application/vnd.jupyter.widget-view+json": {
              "version_major": 2,
              "version_minor": 0,
              "model_id": "052e5ab27f5943a4b043b5f21eef38a8"
            }
          },
          "metadata": {}
        },
        {
          "output_type": "stream",
          "name": "stdout",
          "text": [
            "accuracy: 0.74\n"
          ]
        },
        {
          "output_type": "execute_result",
          "data": {
            "text/plain": [
              "State:\n",
              "\titeration: 1875\n",
              "\tepoch: 5\n",
              "\tepoch_length: 375\n",
              "\tmax_epochs: 5\n",
              "\toutput: 1.6819865703582764\n",
              "\tbatch: <class 'list'>\n",
              "\tmetrics: <class 'dict'>\n",
              "\tdataloader: <class 'torch.utils.data.dataloader.DataLoader'>\n",
              "\tseed: <class 'NoneType'>\n",
              "\ttimes: <class 'dict'>"
            ]
          },
          "metadata": {},
          "execution_count": 25
        }
      ],
      "source": [
        "trainer.run(train_loader, max_epochs=5)"
      ]
    },
    {
      "cell_type": "markdown",
      "metadata": {
        "id": "LNp5yMfFBhd1"
      },
      "source": [
        "## Self-Attention\n",
        "\n",
        "We can now inspect the attention values in the model to verify exactly what the model is looking at when making a prediction. This is extensively studied in Section 4.5 in the [original paper](https://arxiv.org/pdf/2010.11929.pdf), but for this assignment, we are going to focus on a simpler version of this study.\n",
        "\n",
        "As you know, we concatenate a learned `cls` token to the extracted image patches, and take out its corresponding token from the encoder network to then predict the category of the image. With this design, the self-attention weights in each layer of the model can tell us which patches were the most crucial ones in making that prediction.\n",
        "\n",
        "Let's pick a random image and inspect the attention weights."
      ]
    },
    {
      "cell_type": "code",
      "execution_count": 26,
      "metadata": {
        "ExecuteTime": {
          "end_time": "2023-05-16T21:08:16.466574800Z",
          "start_time": "2023-05-16T21:08:16.455053100Z"
        },
        "id": "SOJWzZtkZ2Sn"
      },
      "outputs": [],
      "source": [
        "filepath = 'Linnaeus 5 128X128/test/bird/40_128.jpg'"
      ]
    },
    {
      "cell_type": "code",
      "execution_count": 27,
      "metadata": {
        "ExecuteTime": {
          "end_time": "2023-05-16T21:08:20.344996700Z",
          "start_time": "2023-05-16T21:08:16.796472100Z"
        },
        "colab": {
          "base_uri": "https://localhost:8080/",
          "height": 145
        },
        "id": "EJRFsReuZ2Sn",
        "outputId": "e9614114-0e17-4edc-bcc6-381512f83116"
      },
      "outputs": [
        {
          "output_type": "display_data",
          "data": {
            "text/plain": [
              "<PIL.JpegImagePlugin.JpegImageFile image mode=RGB size=128x128 at 0x7F1E211EE560>"
            ],
            "image/png": "[encoded data removed]"
          },
          "metadata": {}
        }
      ],
      "source": [
        "im = Image.open(filepath)\n",
        "im.show()"
      ]
    },
    {
      "cell_type": "code",
      "execution_count": 28,
      "metadata": {
        "ExecuteTime": {
          "end_time": "2023-05-16T21:08:22.040043400Z",
          "start_time": "2023-05-16T21:08:22.011805600Z"
        },
        "id": "qKi6cC-GZ2Sn"
      },
      "outputs": [],
      "source": [
        "sample = transform(im)\n",
        "batch = sample.unsqueeze(0)\n",
        "batch = batch.to(device)"
      ]
    },
    {
      "cell_type": "code",
      "execution_count": 29,
      "metadata": {
        "ExecuteTime": {
          "end_time": "2023-05-16T21:08:22.657622Z",
          "start_time": "2023-05-16T21:08:22.615369400Z"
        },
        "id": "VAyfQWeMZ2Sn"
      },
      "outputs": [],
      "source": [
        "logits, weights = network(batch, need_weights=True)"
      ]
    },
    {
      "cell_type": "markdown",
      "metadata": {
        "id": "4OmMNxmjZ2Sn"
      },
      "source": [
        "We can quickly check that the model has made the right prediction:"
      ]
    },
    {
      "cell_type": "code",
      "execution_count": 30,
      "metadata": {
        "ExecuteTime": {
          "end_time": "2023-05-16T21:08:24.045057600Z",
          "start_time": "2023-05-16T21:08:24.030992600Z"
        },
        "colab": {
          "base_uri": "https://localhost:8080/"
        },
        "id": "gHhjPTU3Z2So",
        "outputId": "6d414440-7642-4be7-e303-cf38ded827f9"
      },
      "outputs": [
        {
          "output_type": "stream",
          "name": "stdout",
          "text": [
            "tensor(4, device='cuda:0')\n"
          ]
        }
      ],
      "source": [
        "# Pass the logits through sigmoid and get the index of the largest score.\n",
        "sig = nn.Sigmoid()\n",
        "output = sig(logits)\n",
        "prediction = torch.argmax(output)\n",
        "print(prediction)"
      ]
    },
    {
      "cell_type": "markdown",
      "metadata": {
        "id": "pXVVXcReZ2So"
      },
      "source": [
        "To see what this index represents, we have to check the dataset:"
      ]
    },
    {
      "cell_type": "code",
      "execution_count": 31,
      "metadata": {
        "ExecuteTime": {
          "end_time": "2023-05-16T21:08:26.863150500Z",
          "start_time": "2023-05-16T21:08:26.845738400Z"
        },
        "colab": {
          "base_uri": "https://localhost:8080/"
        },
        "id": "O5UI0XsEZ2So",
        "outputId": "33584411-f36a-4b7f-e45f-a423b0e2dd60"
      },
      "outputs": [
        {
          "output_type": "execute_result",
          "data": {
            "text/plain": [
              "{'berry': 0, 'bird': 1, 'dog': 2, 'flower': 3, 'other': 4}"
            ]
          },
          "metadata": {},
          "execution_count": 31
        }
      ],
      "source": [
        "train_set.class_to_idx"
      ]
    },
    {
      "cell_type": "markdown",
      "metadata": {
        "id": "vSUwR-IOZ2So"
      },
      "source": [
        "That seems to be correct. We should now the weights. The model's output, `weights`, is a list containing 12 tensors that are all shaped as `(1, 17, 17)`. As previously discussed, we'll solely focus on the final output. Let's extract that:"
      ]
    },
    {
      "cell_type": "code",
      "execution_count": 32,
      "metadata": {
        "ExecuteTime": {
          "end_time": "2023-05-16T21:08:29.335165300Z",
          "start_time": "2023-05-16T21:08:29.315020Z"
        },
        "id": "M-EFRz-VZ2Sp",
        "colab": {
          "base_uri": "https://localhost:8080/"
        },
        "outputId": "9af80207-bbc2-4909-e75f-7feda535e6a6"
      },
      "outputs": [
        {
          "output_type": "stream",
          "name": "stdout",
          "text": [
            "torch.Size([1, 17, 17])\n"
          ]
        }
      ],
      "source": [
        "w = weights[-1]\n",
        "print(w.shape)"
      ]
    },
    {
      "cell_type": "markdown",
      "metadata": {
        "id": "0Gtp_mNyZ2Sp"
      },
      "source": [
        "and take a look at the weights associated with the `cls` token, which is:"
      ]
    },
    {
      "cell_type": "code",
      "execution_count": 33,
      "metadata": {
        "ExecuteTime": {
          "end_time": "2023-05-16T21:08:31.370290400Z",
          "start_time": "2023-05-16T21:08:31.356619100Z"
        },
        "id": "SL69Bd6XZ2Sp",
        "colab": {
          "base_uri": "https://localhost:8080/"
        },
        "outputId": "ac217715-fead-4954-a575-272f25c77ae3"
      },
      "outputs": [
        {
          "output_type": "stream",
          "name": "stdout",
          "text": [
            "torch.Size([4, 4])\n"
          ]
        }
      ],
      "source": [
        "w = w[0, 0, 1:].view(4, 4)  # Extract the last 16 elements from the first column and reshape it as 4x4.\n",
        "print(w.shape)"
      ]
    },
    {
      "cell_type": "markdown",
      "metadata": {
        "id": "xExhuK5VZ2Sp"
      },
      "source": [
        "and finally, we can overlay the two. To do so, they need to be of the same size. Scipy can help with that:"
      ]
    },
    {
      "cell_type": "code",
      "execution_count": 34,
      "metadata": {
        "ExecuteTime": {
          "end_time": "2023-05-16T21:08:32.449941100Z",
          "start_time": "2023-05-16T21:08:32.435911400Z"
        },
        "id": "bV7sJ_qjZ2Sp"
      },
      "outputs": [],
      "source": [
        "w = zoom(w.cpu().detach(), zoom=32, mode='nearest')"
      ]
    },
    {
      "cell_type": "markdown",
      "metadata": {
        "id": "b6XRYki8Z2Sp"
      },
      "source": [
        "Finally:"
      ]
    },
    {
      "cell_type": "code",
      "execution_count": 35,
      "metadata": {
        "ExecuteTime": {
          "end_time": "2023-05-16T21:09:00.397751900Z",
          "start_time": "2023-05-16T21:09:00.132158700Z"
        },
        "colab": {
          "base_uri": "https://localhost:8080/",
          "height": 452
        },
        "id": "OaKjjJ7xZ2Sq",
        "outputId": "0e8b94bd-fc39-4b43-81e6-dfc851f25ac8"
      },
      "outputs": [
        {
          "output_type": "execute_result",
          "data": {
            "text/plain": [
              "<matplotlib.colorbar.Colorbar at 0x7f1e2115e320>"
            ]
          },
          "metadata": {},
          "execution_count": 35
        },
        {
          "output_type": "display_data",
          "data": {
            "text/plain": [
              "<Figure size 640x480 with 2 Axes>"
            ],
            "image/png": "[encoded data removed]"
          },
          "metadata": {}
        }
      ],
      "source": [
        "plt.imshow(im)\n",
        "plt.imshow(w, cmap='viridis', alpha=0.5)\n",
        "plt.colorbar()"
      ]
    },
    {
      "cell_type": "markdown",
      "source": [
        "The model is clearly focusing on the bird. Can you imagine how we can use this property to create weakly supervised solutions?"
      ],
      "metadata": {
        "id": "6-exfdAbaVHe"
      }
    }
  ],
  "metadata": {
    "accelerator": "GPU",
    "colab": {
      "gpuType": "T4",
      "provenance": [],
      "toc_visible": true
    },
    "kernelspec": {
      "display_name": "Python 3",
      "name": "python3"
    },
    "language_info": {
      "codemirror_mode": {
        "name": "ipython",
        "version": 3
      },
      "file_extension": ".py",
      "mimetype": "text/x-python",
      "name": "python",
      "nbconvert_exporter": "python",
      "pygments_lexer": "ipython3",
      "version": "3.10.11"
    },
    "widgets": {
      "application/vnd.jupyter.widget-state+json": {
        "72fa41e9918145fdb0396866e16c7918": {
          "model_module": "@jupyter-widgets/controls",
          "model_name": "HBoxModel",
          "model_module_version": "1.5.0",
          "state": {
            "_dom_classes": [],
            "_model_module": "@jupyter-widgets/controls",
            "_model_module_version": "1.5.0",
            "_model_name": "HBoxModel",
            "_view_count": null,
            "_view_module": "@jupyter-widgets/controls",
            "_view_module_version": "1.5.0",
            "_view_name": "HBoxView",
            "box_style": "",
            "children": [
              "IPY_MODEL_c31d758ed3404f8aaeab8b8572530d66",
              "IPY_MODEL_3cf6f16fc9d34356aa0342267536a5f8",
              "IPY_MODEL_932153a13e3b43af91291d05830fe2e1"
            ],
            "layout": "IPY_MODEL_c87e77a0de5f4b1ba6c280479043faf1"
          }
        },
        "c31d758ed3404f8aaeab8b8572530d66": {
          "model_module": "@jupyter-widgets/controls",
          "model_name": "HTMLModel",
          "model_module_version": "1.5.0",
          "state": {
            "_dom_classes": [],
            "_model_module": "@jupyter-widgets/controls",
            "_model_module_version": "1.5.0",
            "_model_name": "HTMLModel",
            "_view_count": null,
            "_view_module": "@jupyter-widgets/controls",
            "_view_module_version": "1.5.0",
            "_view_name": "HTMLView",
            "description": "",
            "description_tooltip": null,
            "layout": "IPY_MODEL_f41f95c9ac614b4aa1a258583a02c690",
            "placeholder": "​",
            "style": "IPY_MODEL_8add7e8b2ddd42a1a5c366aa97292626",
            "value": "Epoch [1/5]: [375/375] 100%"
          }
        },
        "3cf6f16fc9d34356aa0342267536a5f8": {
          "model_module": "@jupyter-widgets/controls",
          "model_name": "FloatProgressModel",
          "model_module_version": "1.5.0",
          "state": {
            "_dom_classes": [],
            "_model_module": "@jupyter-widgets/controls",
            "_model_module_version": "1.5.0",
            "_model_name": "FloatProgressModel",
            "_view_count": null,
            "_view_module": "@jupyter-widgets/controls",
            "_view_module_version": "1.5.0",
            "_view_name": "ProgressView",
            "bar_style": "",
            "description": "",
            "description_tooltip": null,
            "layout": "IPY_MODEL_481c072917374bcba77557f2f1c66e32",
            "max": 375,
            "min": 0,
            "orientation": "horizontal",
            "style": "IPY_MODEL_9ec7b5eb0f4d4bd893041f760b60b689",
            "value": 375
          }
        },
        "932153a13e3b43af91291d05830fe2e1": {
          "model_module": "@jupyter-widgets/controls",
          "model_name": "HTMLModel",
          "model_module_version": "1.5.0",
          "state": {
            "_dom_classes": [],
            "_model_module": "@jupyter-widgets/controls",
            "_model_module_version": "1.5.0",
            "_model_name": "HTMLModel",
            "_view_count": null,
            "_view_module": "@jupyter-widgets/controls",
            "_view_module_version": "1.5.0",
            "_view_name": "HTMLView",
            "description": "",
            "description_tooltip": null,
            "layout": "IPY_MODEL_794c25bc678448c8a4265bf9e32d3b35",
            "placeholder": "​",
            "style": "IPY_MODEL_79370f0f1079494fa49af90cd2b9ecd3",
            "value": ", loss=1.26 [00:50&lt;00:00]"
          }
        },
        "c87e77a0de5f4b1ba6c280479043faf1": {
          "model_module": "@jupyter-widgets/base",
          "model_name": "LayoutModel",
          "model_module_version": "1.2.0",
          "state": {
            "_model_module": "@jupyter-widgets/base",
            "_model_module_version": "1.2.0",
            "_model_name": "LayoutModel",
            "_view_count": null,
            "_view_module": "@jupyter-widgets/base",
            "_view_module_version": "1.2.0",
            "_view_name": "LayoutView",
            "align_content": null,
            "align_items": null,
            "align_self": null,
            "border": null,
            "bottom": null,
            "display": null,
            "flex": null,
            "flex_flow": null,
            "grid_area": null,
            "grid_auto_columns": null,
            "grid_auto_flow": null,
            "grid_auto_rows": null,
            "grid_column": null,
            "grid_gap": null,
            "grid_row": null,
            "grid_template_areas": null,
            "grid_template_columns": null,
            "grid_template_rows": null,
            "height": null,
            "justify_content": null,
            "justify_items": null,
            "left": null,
            "margin": null,
            "max_height": null,
            "max_width": null,
            "min_height": null,
            "min_width": null,
            "object_fit": null,
            "object_position": null,
            "order": null,
            "overflow": null,
            "overflow_x": null,
            "overflow_y": null,
            "padding": null,
            "right": null,
            "top": null,
            "visibility": "hidden",
            "width": null
          }
        },
        "f41f95c9ac614b4aa1a258583a02c690": {
          "model_module": "@jupyter-widgets/base",
          "model_name": "LayoutModel",
          "model_module_version": "1.2.0",
          "state": {
            "_model_module": "@jupyter-widgets/base",
            "_model_module_version": "1.2.0",
            "_model_name": "LayoutModel",
            "_view_count": null,
            "_view_module": "@jupyter-widgets/base",
            "_view_module_version": "1.2.0",
            "_view_name": "LayoutView",
            "align_content": null,
            "align_items": null,
            "align_self": null,
            "border": null,
            "bottom": null,
            "display": null,
            "flex": null,
            "flex_flow": null,
            "grid_area": null,
            "grid_auto_columns": null,
            "grid_auto_flow": null,
            "grid_auto_rows": null,
            "grid_column": null,
            "grid_gap": null,
            "grid_row": null,
            "grid_template_areas": null,
            "grid_template_columns": null,
            "grid_template_rows": null,
            "height": null,
            "justify_content": null,
            "justify_items": null,
            "left": null,
            "margin": null,
            "max_height": null,
            "max_width": null,
            "min_height": null,
            "min_width": null,
            "object_fit": null,
            "object_position": null,
            "order": null,
            "overflow": null,
            "overflow_x": null,
            "overflow_y": null,
            "padding": null,
            "right": null,
            "top": null,
            "visibility": null,
            "width": null
          }
        },
        "8add7e8b2ddd42a1a5c366aa97292626": {
          "model_module": "@jupyter-widgets/controls",
          "model_name": "DescriptionStyleModel",
          "model_module_version": "1.5.0",
          "state": {
            "_model_module": "@jupyter-widgets/controls",
            "_model_module_version": "1.5.0",
            "_model_name": "DescriptionStyleModel",
            "_view_count": null,
            "_view_module": "@jupyter-widgets/base",
            "_view_module_version": "1.2.0",
            "_view_name": "StyleView",
            "description_width": ""
          }
        },
        "481c072917374bcba77557f2f1c66e32": {
          "model_module": "@jupyter-widgets/base",
          "model_name": "LayoutModel",
          "model_module_version": "1.2.0",
          "state": {
            "_model_module": "@jupyter-widgets/base",
            "_model_module_version": "1.2.0",
            "_model_name": "LayoutModel",
            "_view_count": null,
            "_view_module": "@jupyter-widgets/base",
            "_view_module_version": "1.2.0",
            "_view_name": "LayoutView",
            "align_content": null,
            "align_items": null,
            "align_self": null,
            "border": null,
            "bottom": null,
            "display": null,
            "flex": null,
            "flex_flow": null,
            "grid_area": null,
            "grid_auto_columns": null,
            "grid_auto_flow": null,
            "grid_auto_rows": null,
            "grid_column": null,
            "grid_gap": null,
            "grid_row": null,
            "grid_template_areas": null,
            "grid_template_columns": null,
            "grid_template_rows": null,
            "height": null,
            "justify_content": null,
            "justify_items": null,
            "left": null,
            "margin": null,
            "max_height": null,
            "max_width": null,
            "min_height": null,
            "min_width": null,
            "object_fit": null,
            "object_position": null,
            "order": null,
            "overflow": null,
            "overflow_x": null,
            "overflow_y": null,
            "padding": null,
            "right": null,
            "top": null,
            "visibility": null,
            "width": null
          }
        },
        "9ec7b5eb0f4d4bd893041f760b60b689": {
          "model_module": "@jupyter-widgets/controls",
          "model_name": "ProgressStyleModel",
          "model_module_version": "1.5.0",
          "state": {
            "_model_module": "@jupyter-widgets/controls",
            "_model_module_version": "1.5.0",
            "_model_name": "ProgressStyleModel",
            "_view_count": null,
            "_view_module": "@jupyter-widgets/base",
            "_view_module_version": "1.2.0",
            "_view_name": "StyleView",
            "bar_color": null,
            "description_width": ""
          }
        },
        "794c25bc678448c8a4265bf9e32d3b35": {
          "model_module": "@jupyter-widgets/base",
          "model_name": "LayoutModel",
          "model_module_version": "1.2.0",
          "state": {
            "_model_module": "@jupyter-widgets/base",
            "_model_module_version": "1.2.0",
            "_model_name": "LayoutModel",
            "_view_count": null,
            "_view_module": "@jupyter-widgets/base",
            "_view_module_version": "1.2.0",
            "_view_name": "LayoutView",
            "align_content": null,
            "align_items": null,
            "align_self": null,
            "border": null,
            "bottom": null,
            "display": null,
            "flex": null,
            "flex_flow": null,
            "grid_area": null,
            "grid_auto_columns": null,
            "grid_auto_flow": null,
            "grid_auto_rows": null,
            "grid_column": null,
            "grid_gap": null,
            "grid_row": null,
            "grid_template_areas": null,
            "grid_template_columns": null,
            "grid_template_rows": null,
            "height": null,
            "justify_content": null,
            "justify_items": null,
            "left": null,
            "margin": null,
            "max_height": null,
            "max_width": null,
            "min_height": null,
            "min_width": null,
            "object_fit": null,
            "object_position": null,
            "order": null,
            "overflow": null,
            "overflow_x": null,
            "overflow_y": null,
            "padding": null,
            "right": null,
            "top": null,
            "visibility": null,
            "width": null
          }
        },
        "79370f0f1079494fa49af90cd2b9ecd3": {
          "model_module": "@jupyter-widgets/controls",
          "model_name": "DescriptionStyleModel",
          "model_module_version": "1.5.0",
          "state": {
            "_model_module": "@jupyter-widgets/controls",
            "_model_module_version": "1.5.0",
            "_model_name": "DescriptionStyleModel",
            "_view_count": null,
            "_view_module": "@jupyter-widgets/base",
            "_view_module_version": "1.2.0",
            "_view_name": "StyleView",
            "description_width": ""
          }
        },
        "4c9e288bbee7406ea6142367eb17cd15": {
          "model_module": "@jupyter-widgets/controls",
          "model_name": "HBoxModel",
          "model_module_version": "1.5.0",
          "state": {
            "_dom_classes": [],
            "_model_module": "@jupyter-widgets/controls",
            "_model_module_version": "1.5.0",
            "_model_name": "HBoxModel",
            "_view_count": null,
            "_view_module": "@jupyter-widgets/controls",
            "_view_module_version": "1.5.0",
            "_view_name": "HBoxView",
            "box_style": "",
            "children": [
              "IPY_MODEL_d0cbf01d91924ba99a95b785484a6739",
              "IPY_MODEL_c57875b524dc410fa7a04c0a2eed58e9",
              "IPY_MODEL_6edfcba9407541699b516618d28b0700"
            ],
            "layout": "IPY_MODEL_004005550563470d846ea49a956bdc90"
          }
        },
        "d0cbf01d91924ba99a95b785484a6739": {
          "model_module": "@jupyter-widgets/controls",
          "model_name": "HTMLModel",
          "model_module_version": "1.5.0",
          "state": {
            "_dom_classes": [],
            "_model_module": "@jupyter-widgets/controls",
            "_model_module_version": "1.5.0",
            "_model_name": "HTMLModel",
            "_view_count": null,
            "_view_module": "@jupyter-widgets/controls",
            "_view_module_version": "1.5.0",
            "_view_name": "HTMLView",
            "description": "",
            "description_tooltip": null,
            "layout": "IPY_MODEL_6a279f87da104fc6bfca4d9f0ebdb0d6",
            "placeholder": "​",
            "style": "IPY_MODEL_fd07a48cc4e446b3bcdbc6b055dce0a3",
            "value": "Epoch [2/5]: [375/375] 100%"
          }
        },
        "c57875b524dc410fa7a04c0a2eed58e9": {
          "model_module": "@jupyter-widgets/controls",
          "model_name": "FloatProgressModel",
          "model_module_version": "1.5.0",
          "state": {
            "_dom_classes": [],
            "_model_module": "@jupyter-widgets/controls",
            "_model_module_version": "1.5.0",
            "_model_name": "FloatProgressModel",
            "_view_count": null,
            "_view_module": "@jupyter-widgets/controls",
            "_view_module_version": "1.5.0",
            "_view_name": "ProgressView",
            "bar_style": "",
            "description": "",
            "description_tooltip": null,
            "layout": "IPY_MODEL_a0b4c780a779484aa80a2eb263ba7dc4",
            "max": 375,
            "min": 0,
            "orientation": "horizontal",
            "style": "IPY_MODEL_bdef7ac7ffaa467a832aeefe79107379",
            "value": 375
          }
        },
        "6edfcba9407541699b516618d28b0700": {
          "model_module": "@jupyter-widgets/controls",
          "model_name": "HTMLModel",
          "model_module_version": "1.5.0",
          "state": {
            "_dom_classes": [],
            "_model_module": "@jupyter-widgets/controls",
            "_model_module_version": "1.5.0",
            "_model_name": "HTMLModel",
            "_view_count": null,
            "_view_module": "@jupyter-widgets/controls",
            "_view_module_version": "1.5.0",
            "_view_name": "HTMLView",
            "description": "",
            "description_tooltip": null,
            "layout": "IPY_MODEL_637549c42d9146a7a05c15721367aa0b",
            "placeholder": "​",
            "style": "IPY_MODEL_c1f94c80d0c5448db0b8863f10d30a2d",
            "value": ", loss=1.17 [00:49&lt;00:00]"
          }
        },
        "004005550563470d846ea49a956bdc90": {
          "model_module": "@jupyter-widgets/base",
          "model_name": "LayoutModel",
          "model_module_version": "1.2.0",
          "state": {
            "_model_module": "@jupyter-widgets/base",
            "_model_module_version": "1.2.0",
            "_model_name": "LayoutModel",
            "_view_count": null,
            "_view_module": "@jupyter-widgets/base",
            "_view_module_version": "1.2.0",
            "_view_name": "LayoutView",
            "align_content": null,
            "align_items": null,
            "align_self": null,
            "border": null,
            "bottom": null,
            "display": null,
            "flex": null,
            "flex_flow": null,
            "grid_area": null,
            "grid_auto_columns": null,
            "grid_auto_flow": null,
            "grid_auto_rows": null,
            "grid_column": null,
            "grid_gap": null,
            "grid_row": null,
            "grid_template_areas": null,
            "grid_template_columns": null,
            "grid_template_rows": null,
            "height": null,
            "justify_content": null,
            "justify_items": null,
            "left": null,
            "margin": null,
            "max_height": null,
            "max_width": null,
            "min_height": null,
            "min_width": null,
            "object_fit": null,
            "object_position": null,
            "order": null,
            "overflow": null,
            "overflow_x": null,
            "overflow_y": null,
            "padding": null,
            "right": null,
            "top": null,
            "visibility": "hidden",
            "width": null
          }
        },
        "6a279f87da104fc6bfca4d9f0ebdb0d6": {
          "model_module": "@jupyter-widgets/base",
          "model_name": "LayoutModel",
          "model_module_version": "1.2.0",
          "state": {
            "_model_module": "@jupyter-widgets/base",
            "_model_module_version": "1.2.0",
            "_model_name": "LayoutModel",
            "_view_count": null,
            "_view_module": "@jupyter-widgets/base",
            "_view_module_version": "1.2.0",
            "_view_name": "LayoutView",
            "align_content": null,
            "align_items": null,
            "align_self": null,
            "border": null,
            "bottom": null,
            "display": null,
            "flex": null,
            "flex_flow": null,
            "grid_area": null,
            "grid_auto_columns": null,
            "grid_auto_flow": null,
            "grid_auto_rows": null,
            "grid_column": null,
            "grid_gap": null,
            "grid_row": null,
            "grid_template_areas": null,
            "grid_template_columns": null,
            "grid_template_rows": null,
            "height": null,
            "justify_content": null,
            "justify_items": null,
            "left": null,
            "margin": null,
            "max_height": null,
            "max_width": null,
            "min_height": null,
            "min_width": null,
            "object_fit": null,
            "object_position": null,
            "order": null,
            "overflow": null,
            "overflow_x": null,
            "overflow_y": null,
            "padding": null,
            "right": null,
            "top": null,
            "visibility": null,
            "width": null
          }
        },
        "fd07a48cc4e446b3bcdbc6b055dce0a3": {
          "model_module": "@jupyter-widgets/controls",
          "model_name": "DescriptionStyleModel",
          "model_module_version": "1.5.0",
          "state": {
            "_model_module": "@jupyter-widgets/controls",
            "_model_module_version": "1.5.0",
            "_model_name": "DescriptionStyleModel",
            "_view_count": null,
            "_view_module": "@jupyter-widgets/base",
            "_view_module_version": "1.2.0",
            "_view_name": "StyleView",
            "description_width": ""
          }
        },
        "a0b4c780a779484aa80a2eb263ba7dc4": {
          "model_module": "@jupyter-widgets/base",
          "model_name": "LayoutModel",
          "model_module_version": "1.2.0",
          "state": {
            "_model_module": "@jupyter-widgets/base",
            "_model_module_version": "1.2.0",
            "_model_name": "LayoutModel",
            "_view_count": null,
            "_view_module": "@jupyter-widgets/base",
            "_view_module_version": "1.2.0",
            "_view_name": "LayoutView",
            "align_content": null,
            "align_items": null,
            "align_self": null,
            "border": null,
            "bottom": null,
            "display": null,
            "flex": null,
            "flex_flow": null,
            "grid_area": null,
            "grid_auto_columns": null,
            "grid_auto_flow": null,
            "grid_auto_rows": null,
            "grid_column": null,
            "grid_gap": null,
            "grid_row": null,
            "grid_template_areas": null,
            "grid_template_columns": null,
            "grid_template_rows": null,
            "height": null,
            "justify_content": null,
            "justify_items": null,
            "left": null,
            "margin": null,
            "max_height": null,
            "max_width": null,
            "min_height": null,
            "min_width": null,
            "object_fit": null,
            "object_position": null,
            "order": null,
            "overflow": null,
            "overflow_x": null,
            "overflow_y": null,
            "padding": null,
            "right": null,
            "top": null,
            "visibility": null,
            "width": null
          }
        },
        "bdef7ac7ffaa467a832aeefe79107379": {
          "model_module": "@jupyter-widgets/controls",
          "model_name": "ProgressStyleModel",
          "model_module_version": "1.5.0",
          "state": {
            "_model_module": "@jupyter-widgets/controls",
            "_model_module_version": "1.5.0",
            "_model_name": "ProgressStyleModel",
            "_view_count": null,
            "_view_module": "@jupyter-widgets/base",
            "_view_module_version": "1.2.0",
            "_view_name": "StyleView",
            "bar_color": null,
            "description_width": ""
          }
        },
        "637549c42d9146a7a05c15721367aa0b": {
          "model_module": "@jupyter-widgets/base",
          "model_name": "LayoutModel",
          "model_module_version": "1.2.0",
          "state": {
            "_model_module": "@jupyter-widgets/base",
            "_model_module_version": "1.2.0",
            "_model_name": "LayoutModel",
            "_view_count": null,
            "_view_module": "@jupyter-widgets/base",
            "_view_module_version": "1.2.0",
            "_view_name": "LayoutView",
            "align_content": null,
            "align_items": null,
            "align_self": null,
            "border": null,
            "bottom": null,
            "display": null,
            "flex": null,
            "flex_flow": null,
            "grid_area": null,
            "grid_auto_columns": null,
            "grid_auto_flow": null,
            "grid_auto_rows": null,
            "grid_column": null,
            "grid_gap": null,
            "grid_row": null,
            "grid_template_areas": null,
            "grid_template_columns": null,
            "grid_template_rows": null,
            "height": null,
            "justify_content": null,
            "justify_items": null,
            "left": null,
            "margin": null,
            "max_height": null,
            "max_width": null,
            "min_height": null,
            "min_width": null,
            "object_fit": null,
            "object_position": null,
            "order": null,
            "overflow": null,
            "overflow_x": null,
            "overflow_y": null,
            "padding": null,
            "right": null,
            "top": null,
            "visibility": null,
            "width": null
          }
        },
        "c1f94c80d0c5448db0b8863f10d30a2d": {
          "model_module": "@jupyter-widgets/controls",
          "model_name": "DescriptionStyleModel",
          "model_module_version": "1.5.0",
          "state": {
            "_model_module": "@jupyter-widgets/controls",
            "_model_module_version": "1.5.0",
            "_model_name": "DescriptionStyleModel",
            "_view_count": null,
            "_view_module": "@jupyter-widgets/base",
            "_view_module_version": "1.2.0",
            "_view_name": "StyleView",
            "description_width": ""
          }
        },
        "c1584015f76342c4a59aa2bb7bcfe813": {
          "model_module": "@jupyter-widgets/controls",
          "model_name": "HBoxModel",
          "model_module_version": "1.5.0",
          "state": {
            "_dom_classes": [],
            "_model_module": "@jupyter-widgets/controls",
            "_model_module_version": "1.5.0",
            "_model_name": "HBoxModel",
            "_view_count": null,
            "_view_module": "@jupyter-widgets/controls",
            "_view_module_version": "1.5.0",
            "_view_name": "HBoxView",
            "box_style": "",
            "children": [
              "IPY_MODEL_e82d448fdf8448c8b05c634688a84aad",
              "IPY_MODEL_50105fdeaf0145f5b9f39cd23bc8c8bf",
              "IPY_MODEL_e03d173cbb8e4ef085d9788bf01bb21e"
            ],
            "layout": "IPY_MODEL_64463ebe74d9411f838fa734c8ebc808"
          }
        },
        "e82d448fdf8448c8b05c634688a84aad": {
          "model_module": "@jupyter-widgets/controls",
          "model_name": "HTMLModel",
          "model_module_version": "1.5.0",
          "state": {
            "_dom_classes": [],
            "_model_module": "@jupyter-widgets/controls",
            "_model_module_version": "1.5.0",
            "_model_name": "HTMLModel",
            "_view_count": null,
            "_view_module": "@jupyter-widgets/controls",
            "_view_module_version": "1.5.0",
            "_view_name": "HTMLView",
            "description": "",
            "description_tooltip": null,
            "layout": "IPY_MODEL_73ed8ad8e370426f805c4afae9b6e1fb",
            "placeholder": "​",
            "style": "IPY_MODEL_2409953e5b3a45928cd5ec26cfb9e764",
            "value": "Epoch [3/5]: [375/375] 100%"
          }
        },
        "50105fdeaf0145f5b9f39cd23bc8c8bf": {
          "model_module": "@jupyter-widgets/controls",
          "model_name": "FloatProgressModel",
          "model_module_version": "1.5.0",
          "state": {
            "_dom_classes": [],
            "_model_module": "@jupyter-widgets/controls",
            "_model_module_version": "1.5.0",
            "_model_name": "FloatProgressModel",
            "_view_count": null,
            "_view_module": "@jupyter-widgets/controls",
            "_view_module_version": "1.5.0",
            "_view_name": "ProgressView",
            "bar_style": "",
            "description": "",
            "description_tooltip": null,
            "layout": "IPY_MODEL_24d9d02eea8e4c52b0579970dd49e055",
            "max": 375,
            "min": 0,
            "orientation": "horizontal",
            "style": "IPY_MODEL_bce8ae69663f439aa9953655733fc682",
            "value": 375
          }
        },
        "e03d173cbb8e4ef085d9788bf01bb21e": {
          "model_module": "@jupyter-widgets/controls",
          "model_name": "HTMLModel",
          "model_module_version": "1.5.0",
          "state": {
            "_dom_classes": [],
            "_model_module": "@jupyter-widgets/controls",
            "_model_module_version": "1.5.0",
            "_model_name": "HTMLModel",
            "_view_count": null,
            "_view_module": "@jupyter-widgets/controls",
            "_view_module_version": "1.5.0",
            "_view_name": "HTMLView",
            "description": "",
            "description_tooltip": null,
            "layout": "IPY_MODEL_a177cf29ff13419ab7fa5d73c2206979",
            "placeholder": "​",
            "style": "IPY_MODEL_67ffeceff3cd4842a3ac8f8cddfc5903",
            "value": ", loss=1.08 [00:49&lt;00:00]"
          }
        },
        "64463ebe74d9411f838fa734c8ebc808": {
          "model_module": "@jupyter-widgets/base",
          "model_name": "LayoutModel",
          "model_module_version": "1.2.0",
          "state": {
            "_model_module": "@jupyter-widgets/base",
            "_model_module_version": "1.2.0",
            "_model_name": "LayoutModel",
            "_view_count": null,
            "_view_module": "@jupyter-widgets/base",
            "_view_module_version": "1.2.0",
            "_view_name": "LayoutView",
            "align_content": null,
            "align_items": null,
            "align_self": null,
            "border": null,
            "bottom": null,
            "display": null,
            "flex": null,
            "flex_flow": null,
            "grid_area": null,
            "grid_auto_columns": null,
            "grid_auto_flow": null,
            "grid_auto_rows": null,
            "grid_column": null,
            "grid_gap": null,
            "grid_row": null,
            "grid_template_areas": null,
            "grid_template_columns": null,
            "grid_template_rows": null,
            "height": null,
            "justify_content": null,
            "justify_items": null,
            "left": null,
            "margin": null,
            "max_height": null,
            "max_width": null,
            "min_height": null,
            "min_width": null,
            "object_fit": null,
            "object_position": null,
            "order": null,
            "overflow": null,
            "overflow_x": null,
            "overflow_y": null,
            "padding": null,
            "right": null,
            "top": null,
            "visibility": "hidden",
            "width": null
          }
        },
        "73ed8ad8e370426f805c4afae9b6e1fb": {
          "model_module": "@jupyter-widgets/base",
          "model_name": "LayoutModel",
          "model_module_version": "1.2.0",
          "state": {
            "_model_module": "@jupyter-widgets/base",
            "_model_module_version": "1.2.0",
            "_model_name": "LayoutModel",
            "_view_count": null,
            "_view_module": "@jupyter-widgets/base",
            "_view_module_version": "1.2.0",
            "_view_name": "LayoutView",
            "align_content": null,
            "align_items": null,
            "align_self": null,
            "border": null,
            "bottom": null,
            "display": null,
            "flex": null,
            "flex_flow": null,
            "grid_area": null,
            "grid_auto_columns": null,
            "grid_auto_flow": null,
            "grid_auto_rows": null,
            "grid_column": null,
            "grid_gap": null,
            "grid_row": null,
            "grid_template_areas": null,
            "grid_template_columns": null,
            "grid_template_rows": null,
            "height": null,
            "justify_content": null,
            "justify_items": null,
            "left": null,
            "margin": null,
            "max_height": null,
            "max_width": null,
            "min_height": null,
            "min_width": null,
            "object_fit": null,
            "object_position": null,
            "order": null,
            "overflow": null,
            "overflow_x": null,
            "overflow_y": null,
            "padding": null,
            "right": null,
            "top": null,
            "visibility": null,
            "width": null
          }
        },
        "2409953e5b3a45928cd5ec26cfb9e764": {
          "model_module": "@jupyter-widgets/controls",
          "model_name": "DescriptionStyleModel",
          "model_module_version": "1.5.0",
          "state": {
            "_model_module": "@jupyter-widgets/controls",
            "_model_module_version": "1.5.0",
            "_model_name": "DescriptionStyleModel",
            "_view_count": null,
            "_view_module": "@jupyter-widgets/base",
            "_view_module_version": "1.2.0",
            "_view_name": "StyleView",
            "description_width": ""
          }
        },
        "24d9d02eea8e4c52b0579970dd49e055": {
          "model_module": "@jupyter-widgets/base",
          "model_name": "LayoutModel",
          "model_module_version": "1.2.0",
          "state": {
            "_model_module": "@jupyter-widgets/base",
            "_model_module_version": "1.2.0",
            "_model_name": "LayoutModel",
            "_view_count": null,
            "_view_module": "@jupyter-widgets/base",
            "_view_module_version": "1.2.0",
            "_view_name": "LayoutView",
            "align_content": null,
            "align_items": null,
            "align_self": null,
            "border": null,
            "bottom": null,
            "display": null,
            "flex": null,
            "flex_flow": null,
            "grid_area": null,
            "grid_auto_columns": null,
            "grid_auto_flow": null,
            "grid_auto_rows": null,
            "grid_column": null,
            "grid_gap": null,
            "grid_row": null,
            "grid_template_areas": null,
            "grid_template_columns": null,
            "grid_template_rows": null,
            "height": null,
            "justify_content": null,
            "justify_items": null,
            "left": null,
            "margin": null,
            "max_height": null,
            "max_width": null,
            "min_height": null,
            "min_width": null,
            "object_fit": null,
            "object_position": null,
            "order": null,
            "overflow": null,
            "overflow_x": null,
            "overflow_y": null,
            "padding": null,
            "right": null,
            "top": null,
            "visibility": null,
            "width": null
          }
        },
        "bce8ae69663f439aa9953655733fc682": {
          "model_module": "@jupyter-widgets/controls",
          "model_name": "ProgressStyleModel",
          "model_module_version": "1.5.0",
          "state": {
            "_model_module": "@jupyter-widgets/controls",
            "_model_module_version": "1.5.0",
            "_model_name": "ProgressStyleModel",
            "_view_count": null,
            "_view_module": "@jupyter-widgets/base",
            "_view_module_version": "1.2.0",
            "_view_name": "StyleView",
            "bar_color": null,
            "description_width": ""
          }
        },
        "a177cf29ff13419ab7fa5d73c2206979": {
          "model_module": "@jupyter-widgets/base",
          "model_name": "LayoutModel",
          "model_module_version": "1.2.0",
          "state": {
            "_model_module": "@jupyter-widgets/base",
            "_model_module_version": "1.2.0",
            "_model_name": "LayoutModel",
            "_view_count": null,
            "_view_module": "@jupyter-widgets/base",
            "_view_module_version": "1.2.0",
            "_view_name": "LayoutView",
            "align_content": null,
            "align_items": null,
            "align_self": null,
            "border": null,
            "bottom": null,
            "display": null,
            "flex": null,
            "flex_flow": null,
            "grid_area": null,
            "grid_auto_columns": null,
            "grid_auto_flow": null,
            "grid_auto_rows": null,
            "grid_column": null,
            "grid_gap": null,
            "grid_row": null,
            "grid_template_areas": null,
            "grid_template_columns": null,
            "grid_template_rows": null,
            "height": null,
            "justify_content": null,
            "justify_items": null,
            "left": null,
            "margin": null,
            "max_height": null,
            "max_width": null,
            "min_height": null,
            "min_width": null,
            "object_fit": null,
            "object_position": null,
            "order": null,
            "overflow": null,
            "overflow_x": null,
            "overflow_y": null,
            "padding": null,
            "right": null,
            "top": null,
            "visibility": null,
            "width": null
          }
        },
        "67ffeceff3cd4842a3ac8f8cddfc5903": {
          "model_module": "@jupyter-widgets/controls",
          "model_name": "DescriptionStyleModel",
          "model_module_version": "1.5.0",
          "state": {
            "_model_module": "@jupyter-widgets/controls",
            "_model_module_version": "1.5.0",
            "_model_name": "DescriptionStyleModel",
            "_view_count": null,
            "_view_module": "@jupyter-widgets/base",
            "_view_module_version": "1.2.0",
            "_view_name": "StyleView",
            "description_width": ""
          }
        },
        "2a342ea8aeee44a68736556c20f06ff7": {
          "model_module": "@jupyter-widgets/controls",
          "model_name": "HBoxModel",
          "model_module_version": "1.5.0",
          "state": {
            "_dom_classes": [],
            "_model_module": "@jupyter-widgets/controls",
            "_model_module_version": "1.5.0",
            "_model_name": "HBoxModel",
            "_view_count": null,
            "_view_module": "@jupyter-widgets/controls",
            "_view_module_version": "1.5.0",
            "_view_name": "HBoxView",
            "box_style": "",
            "children": [
              "IPY_MODEL_bf9efa190f49432792b4cab5f4775bf6",
              "IPY_MODEL_2af4c6615d6047adb3edf7dfaa0c42bf",
              "IPY_MODEL_3e4693fd2d284ce09b35521e2d4ce963"
            ],
            "layout": "IPY_MODEL_87a309d9f5174b88aaf772b345c6cc60"
          }
        },
        "bf9efa190f49432792b4cab5f4775bf6": {
          "model_module": "@jupyter-widgets/controls",
          "model_name": "HTMLModel",
          "model_module_version": "1.5.0",
          "state": {
            "_dom_classes": [],
            "_model_module": "@jupyter-widgets/controls",
            "_model_module_version": "1.5.0",
            "_model_name": "HTMLModel",
            "_view_count": null,
            "_view_module": "@jupyter-widgets/controls",
            "_view_module_version": "1.5.0",
            "_view_name": "HTMLView",
            "description": "",
            "description_tooltip": null,
            "layout": "IPY_MODEL_6dfad1e214f74758a1cc1588f1cb92de",
            "placeholder": "​",
            "style": "IPY_MODEL_a55cd7b7dd894d9d9eb3b78be0666ed4",
            "value": "Epoch [4/5]: [375/375] 100%"
          }
        },
        "2af4c6615d6047adb3edf7dfaa0c42bf": {
          "model_module": "@jupyter-widgets/controls",
          "model_name": "FloatProgressModel",
          "model_module_version": "1.5.0",
          "state": {
            "_dom_classes": [],
            "_model_module": "@jupyter-widgets/controls",
            "_model_module_version": "1.5.0",
            "_model_name": "FloatProgressModel",
            "_view_count": null,
            "_view_module": "@jupyter-widgets/controls",
            "_view_module_version": "1.5.0",
            "_view_name": "ProgressView",
            "bar_style": "",
            "description": "",
            "description_tooltip": null,
            "layout": "IPY_MODEL_e16720d9e0b64b738058f48af1878085",
            "max": 375,
            "min": 0,
            "orientation": "horizontal",
            "style": "IPY_MODEL_39dc59153d784417941959f5c0308296",
            "value": 375
          }
        },
        "3e4693fd2d284ce09b35521e2d4ce963": {
          "model_module": "@jupyter-widgets/controls",
          "model_name": "HTMLModel",
          "model_module_version": "1.5.0",
          "state": {
            "_dom_classes": [],
            "_model_module": "@jupyter-widgets/controls",
            "_model_module_version": "1.5.0",
            "_model_name": "HTMLModel",
            "_view_count": null,
            "_view_module": "@jupyter-widgets/controls",
            "_view_module_version": "1.5.0",
            "_view_name": "HTMLView",
            "description": "",
            "description_tooltip": null,
            "layout": "IPY_MODEL_5435715e93eb4846852022a599f4d1d5",
            "placeholder": "​",
            "style": "IPY_MODEL_a0d2ee8bd74c4ee0a18ef4f38edc4172",
            "value": ", loss=0.987 [00:48&lt;00:00]"
          }
        },
        "87a309d9f5174b88aaf772b345c6cc60": {
          "model_module": "@jupyter-widgets/base",
          "model_name": "LayoutModel",
          "model_module_version": "1.2.0",
          "state": {
            "_model_module": "@jupyter-widgets/base",
            "_model_module_version": "1.2.0",
            "_model_name": "LayoutModel",
            "_view_count": null,
            "_view_module": "@jupyter-widgets/base",
            "_view_module_version": "1.2.0",
            "_view_name": "LayoutView",
            "align_content": null,
            "align_items": null,
            "align_self": null,
            "border": null,
            "bottom": null,
            "display": null,
            "flex": null,
            "flex_flow": null,
            "grid_area": null,
            "grid_auto_columns": null,
            "grid_auto_flow": null,
            "grid_auto_rows": null,
            "grid_column": null,
            "grid_gap": null,
            "grid_row": null,
            "grid_template_areas": null,
            "grid_template_columns": null,
            "grid_template_rows": null,
            "height": null,
            "justify_content": null,
            "justify_items": null,
            "left": null,
            "margin": null,
            "max_height": null,
            "max_width": null,
            "min_height": null,
            "min_width": null,
            "object_fit": null,
            "object_position": null,
            "order": null,
            "overflow": null,
            "overflow_x": null,
            "overflow_y": null,
            "padding": null,
            "right": null,
            "top": null,
            "visibility": "hidden",
            "width": null
          }
        },
        "6dfad1e214f74758a1cc1588f1cb92de": {
          "model_module": "@jupyter-widgets/base",
          "model_name": "LayoutModel",
          "model_module_version": "1.2.0",
          "state": {
            "_model_module": "@jupyter-widgets/base",
            "_model_module_version": "1.2.0",
            "_model_name": "LayoutModel",
            "_view_count": null,
            "_view_module": "@jupyter-widgets/base",
            "_view_module_version": "1.2.0",
            "_view_name": "LayoutView",
            "align_content": null,
            "align_items": null,
            "align_self": null,
            "border": null,
            "bottom": null,
            "display": null,
            "flex": null,
            "flex_flow": null,
            "grid_area": null,
            "grid_auto_columns": null,
            "grid_auto_flow": null,
            "grid_auto_rows": null,
            "grid_column": null,
            "grid_gap": null,
            "grid_row": null,
            "grid_template_areas": null,
            "grid_template_columns": null,
            "grid_template_rows": null,
            "height": null,
            "justify_content": null,
            "justify_items": null,
            "left": null,
            "margin": null,
            "max_height": null,
            "max_width": null,
            "min_height": null,
            "min_width": null,
            "object_fit": null,
            "object_position": null,
            "order": null,
            "overflow": null,
            "overflow_x": null,
            "overflow_y": null,
            "padding": null,
            "right": null,
            "top": null,
            "visibility": null,
            "width": null
          }
        },
        "a55cd7b7dd894d9d9eb3b78be0666ed4": {
          "model_module": "@jupyter-widgets/controls",
          "model_name": "DescriptionStyleModel",
          "model_module_version": "1.5.0",
          "state": {
            "_model_module": "@jupyter-widgets/controls",
            "_model_module_version": "1.5.0",
            "_model_name": "DescriptionStyleModel",
            "_view_count": null,
            "_view_module": "@jupyter-widgets/base",
            "_view_module_version": "1.2.0",
            "_view_name": "StyleView",
            "description_width": ""
          }
        },
        "e16720d9e0b64b738058f48af1878085": {
          "model_module": "@jupyter-widgets/base",
          "model_name": "LayoutModel",
          "model_module_version": "1.2.0",
          "state": {
            "_model_module": "@jupyter-widgets/base",
            "_model_module_version": "1.2.0",
            "_model_name": "LayoutModel",
            "_view_count": null,
            "_view_module": "@jupyter-widgets/base",
            "_view_module_version": "1.2.0",
            "_view_name": "LayoutView",
            "align_content": null,
            "align_items": null,
            "align_self": null,
            "border": null,
            "bottom": null,
            "display": null,
            "flex": null,
            "flex_flow": null,
            "grid_area": null,
            "grid_auto_columns": null,
            "grid_auto_flow": null,
            "grid_auto_rows": null,
            "grid_column": null,
            "grid_gap": null,
            "grid_row": null,
            "grid_template_areas": null,
            "grid_template_columns": null,
            "grid_template_rows": null,
            "height": null,
            "justify_content": null,
            "justify_items": null,
            "left": null,
            "margin": null,
            "max_height": null,
            "max_width": null,
            "min_height": null,
            "min_width": null,
            "object_fit": null,
            "object_position": null,
            "order": null,
            "overflow": null,
            "overflow_x": null,
            "overflow_y": null,
            "padding": null,
            "right": null,
            "top": null,
            "visibility": null,
            "width": null
          }
        },
        "39dc59153d784417941959f5c0308296": {
          "model_module": "@jupyter-widgets/controls",
          "model_name": "ProgressStyleModel",
          "model_module_version": "1.5.0",
          "state": {
            "_model_module": "@jupyter-widgets/controls",
            "_model_module_version": "1.5.0",
            "_model_name": "ProgressStyleModel",
            "_view_count": null,
            "_view_module": "@jupyter-widgets/base",
            "_view_module_version": "1.2.0",
            "_view_name": "StyleView",
            "bar_color": null,
            "description_width": ""
          }
        },
        "5435715e93eb4846852022a599f4d1d5": {
          "model_module": "@jupyter-widgets/base",
          "model_name": "LayoutModel",
          "model_module_version": "1.2.0",
          "state": {
            "_model_module": "@jupyter-widgets/base",
            "_model_module_version": "1.2.0",
            "_model_name": "LayoutModel",
            "_view_count": null,
            "_view_module": "@jupyter-widgets/base",
            "_view_module_version": "1.2.0",
            "_view_name": "LayoutView",
            "align_content": null,
            "align_items": null,
            "align_self": null,
            "border": null,
            "bottom": null,
            "display": null,
            "flex": null,
            "flex_flow": null,
            "grid_area": null,
            "grid_auto_columns": null,
            "grid_auto_flow": null,
            "grid_auto_rows": null,
            "grid_column": null,
            "grid_gap": null,
            "grid_row": null,
            "grid_template_areas": null,
            "grid_template_columns": null,
            "grid_template_rows": null,
            "height": null,
            "justify_content": null,
            "justify_items": null,
            "left": null,
            "margin": null,
            "max_height": null,
            "max_width": null,
            "min_height": null,
            "min_width": null,
            "object_fit": null,
            "object_position": null,
            "order": null,
            "overflow": null,
            "overflow_x": null,
            "overflow_y": null,
            "padding": null,
            "right": null,
            "top": null,
            "visibility": null,
            "width": null
          }
        },
        "a0d2ee8bd74c4ee0a18ef4f38edc4172": {
          "model_module": "@jupyter-widgets/controls",
          "model_name": "DescriptionStyleModel",
          "model_module_version": "1.5.0",
          "state": {
            "_model_module": "@jupyter-widgets/controls",
            "_model_module_version": "1.5.0",
            "_model_name": "DescriptionStyleModel",
            "_view_count": null,
            "_view_module": "@jupyter-widgets/base",
            "_view_module_version": "1.2.0",
            "_view_name": "StyleView",
            "description_width": ""
          }
        },
        "052e5ab27f5943a4b043b5f21eef38a8": {
          "model_module": "@jupyter-widgets/controls",
          "model_name": "HBoxModel",
          "model_module_version": "1.5.0",
          "state": {
            "_dom_classes": [],
            "_model_module": "@jupyter-widgets/controls",
            "_model_module_version": "1.5.0",
            "_model_name": "HBoxModel",
            "_view_count": null,
            "_view_module": "@jupyter-widgets/controls",
            "_view_module_version": "1.5.0",
            "_view_name": "HBoxView",
            "box_style": "",
            "children": [
              "IPY_MODEL_b00e8666be344a7e8909715d7e5ab4b8",
              "IPY_MODEL_edd85ab4dce94a76ab15b0c7d13cbf80",
              "IPY_MODEL_46d3f9fd192e4814abf1a34ab81de058"
            ],
            "layout": "IPY_MODEL_b80b2525e44d411cbd7360649299fe22"
          }
        },
        "b00e8666be344a7e8909715d7e5ab4b8": {
          "model_module": "@jupyter-widgets/controls",
          "model_name": "HTMLModel",
          "model_module_version": "1.5.0",
          "state": {
            "_dom_classes": [],
            "_model_module": "@jupyter-widgets/controls",
            "_model_module_version": "1.5.0",
            "_model_name": "HTMLModel",
            "_view_count": null,
            "_view_module": "@jupyter-widgets/controls",
            "_view_module_version": "1.5.0",
            "_view_name": "HTMLView",
            "description": "",
            "description_tooltip": null,
            "layout": "IPY_MODEL_9f822069107a494d91c251644cc02f92",
            "placeholder": "​",
            "style": "IPY_MODEL_7b58cc4096ca47528b349b5fc047eb23",
            "value": "Epoch [5/5]: [375/375] 100%"
          }
        },
        "edd85ab4dce94a76ab15b0c7d13cbf80": {
          "model_module": "@jupyter-widgets/controls",
          "model_name": "FloatProgressModel",
          "model_module_version": "1.5.0",
          "state": {
            "_dom_classes": [],
            "_model_module": "@jupyter-widgets/controls",
            "_model_module_version": "1.5.0",
            "_model_name": "FloatProgressModel",
            "_view_count": null,
            "_view_module": "@jupyter-widgets/controls",
            "_view_module_version": "1.5.0",
            "_view_name": "ProgressView",
            "bar_style": "",
            "description": "",
            "description_tooltip": null,
            "layout": "IPY_MODEL_d97416d0897f4f97a3091b2e78bb7347",
            "max": 375,
            "min": 0,
            "orientation": "horizontal",
            "style": "IPY_MODEL_62d8e6009fa6450ba8f5c2d418f40014",
            "value": 375
          }
        },
        "46d3f9fd192e4814abf1a34ab81de058": {
          "model_module": "@jupyter-widgets/controls",
          "model_name": "HTMLModel",
          "model_module_version": "1.5.0",
          "state": {
            "_dom_classes": [],
            "_model_module": "@jupyter-widgets/controls",
            "_model_module_version": "1.5.0",
            "_model_name": "HTMLModel",
            "_view_count": null,
            "_view_module": "@jupyter-widgets/controls",
            "_view_module_version": "1.5.0",
            "_view_name": "HTMLView",
            "description": "",
            "description_tooltip": null,
            "layout": "IPY_MODEL_373e9bd4ab8740fd94db5d9c826912a2",
            "placeholder": "​",
            "style": "IPY_MODEL_f90bb443c6fa44f092dbb3cd24040d40",
            "value": ", loss=0.868 [00:47&lt;00:00]"
          }
        },
        "b80b2525e44d411cbd7360649299fe22": {
          "model_module": "@jupyter-widgets/base",
          "model_name": "LayoutModel",
          "model_module_version": "1.2.0",
          "state": {
            "_model_module": "@jupyter-widgets/base",
            "_model_module_version": "1.2.0",
            "_model_name": "LayoutModel",
            "_view_count": null,
            "_view_module": "@jupyter-widgets/base",
            "_view_module_version": "1.2.0",
            "_view_name": "LayoutView",
            "align_content": null,
            "align_items": null,
            "align_self": null,
            "border": null,
            "bottom": null,
            "display": null,
            "flex": null,
            "flex_flow": null,
            "grid_area": null,
            "grid_auto_columns": null,
            "grid_auto_flow": null,
            "grid_auto_rows": null,
            "grid_column": null,
            "grid_gap": null,
            "grid_row": null,
            "grid_template_areas": null,
            "grid_template_columns": null,
            "grid_template_rows": null,
            "height": null,
            "justify_content": null,
            "justify_items": null,
            "left": null,
            "margin": null,
            "max_height": null,
            "max_width": null,
            "min_height": null,
            "min_width": null,
            "object_fit": null,
            "object_position": null,
            "order": null,
            "overflow": null,
            "overflow_x": null,
            "overflow_y": null,
            "padding": null,
            "right": null,
            "top": null,
            "visibility": "hidden",
            "width": null
          }
        },
        "9f822069107a494d91c251644cc02f92": {
          "model_module": "@jupyter-widgets/base",
          "model_name": "LayoutModel",
          "model_module_version": "1.2.0",
          "state": {
            "_model_module": "@jupyter-widgets/base",
            "_model_module_version": "1.2.0",
            "_model_name": "LayoutModel",
            "_view_count": null,
            "_view_module": "@jupyter-widgets/base",
            "_view_module_version": "1.2.0",
            "_view_name": "LayoutView",
            "align_content": null,
            "align_items": null,
            "align_self": null,
            "border": null,
            "bottom": null,
            "display": null,
            "flex": null,
            "flex_flow": null,
            "grid_area": null,
            "grid_auto_columns": null,
            "grid_auto_flow": null,
            "grid_auto_rows": null,
            "grid_column": null,
            "grid_gap": null,
            "grid_row": null,
            "grid_template_areas": null,
            "grid_template_columns": null,
            "grid_template_rows": null,
            "height": null,
            "justify_content": null,
            "justify_items": null,
            "left": null,
            "margin": null,
            "max_height": null,
            "max_width": null,
            "min_height": null,
            "min_width": null,
            "object_fit": null,
            "object_position": null,
            "order": null,
            "overflow": null,
            "overflow_x": null,
            "overflow_y": null,
            "padding": null,
            "right": null,
            "top": null,
            "visibility": null,
            "width": null
          }
        },
        "7b58cc4096ca47528b349b5fc047eb23": {
          "model_module": "@jupyter-widgets/controls",
          "model_name": "DescriptionStyleModel",
          "model_module_version": "1.5.0",
          "state": {
            "_model_module": "@jupyter-widgets/controls",
            "_model_module_version": "1.5.0",
            "_model_name": "DescriptionStyleModel",
            "_view_count": null,
            "_view_module": "@jupyter-widgets/base",
            "_view_module_version": "1.2.0",
            "_view_name": "StyleView",
            "description_width": ""
          }
        },
        "d97416d0897f4f97a3091b2e78bb7347": {
          "model_module": "@jupyter-widgets/base",
          "model_name": "LayoutModel",
          "model_module_version": "1.2.0",
          "state": {
            "_model_module": "@jupyter-widgets/base",
            "_model_module_version": "1.2.0",
            "_model_name": "LayoutModel",
            "_view_count": null,
            "_view_module": "@jupyter-widgets/base",
            "_view_module_version": "1.2.0",
            "_view_name": "LayoutView",
            "align_content": null,
            "align_items": null,
            "align_self": null,
            "border": null,
            "bottom": null,
            "display": null,
            "flex": null,
            "flex_flow": null,
            "grid_area": null,
            "grid_auto_columns": null,
            "grid_auto_flow": null,
            "grid_auto_rows": null,
            "grid_column": null,
            "grid_gap": null,
            "grid_row": null,
            "grid_template_areas": null,
            "grid_template_columns": null,
            "grid_template_rows": null,
            "height": null,
            "justify_content": null,
            "justify_items": null,
            "left": null,
            "margin": null,
            "max_height": null,
            "max_width": null,
            "min_height": null,
            "min_width": null,
            "object_fit": null,
            "object_position": null,
            "order": null,
            "overflow": null,
            "overflow_x": null,
            "overflow_y": null,
            "padding": null,
            "right": null,
            "top": null,
            "visibility": null,
            "width": null
          }
        },
        "62d8e6009fa6450ba8f5c2d418f40014": {
          "model_module": "@jupyter-widgets/controls",
          "model_name": "ProgressStyleModel",
          "model_module_version": "1.5.0",
          "state": {
            "_model_module": "@jupyter-widgets/controls",
            "_model_module_version": "1.5.0",
            "_model_name": "ProgressStyleModel",
            "_view_count": null,
            "_view_module": "@jupyter-widgets/base",
            "_view_module_version": "1.2.0",
            "_view_name": "StyleView",
            "bar_color": null,
            "description_width": ""
          }
        },
        "373e9bd4ab8740fd94db5d9c826912a2": {
          "model_module": "@jupyter-widgets/base",
          "model_name": "LayoutModel",
          "model_module_version": "1.2.0",
          "state": {
            "_model_module": "@jupyter-widgets/base",
            "_model_module_version": "1.2.0",
            "_model_name": "LayoutModel",
            "_view_count": null,
            "_view_module": "@jupyter-widgets/base",
            "_view_module_version": "1.2.0",
            "_view_name": "LayoutView",
            "align_content": null,
            "align_items": null,
            "align_self": null,
            "border": null,
            "bottom": null,
            "display": null,
            "flex": null,
            "flex_flow": null,
            "grid_area": null,
            "grid_auto_columns": null,
            "grid_auto_flow": null,
            "grid_auto_rows": null,
            "grid_column": null,
            "grid_gap": null,
            "grid_row": null,
            "grid_template_areas": null,
            "grid_template_columns": null,
            "grid_template_rows": null,
            "height": null,
            "justify_content": null,
            "justify_items": null,
            "left": null,
            "margin": null,
            "max_height": null,
            "max_width": null,
            "min_height": null,
            "min_width": null,
            "object_fit": null,
            "object_position": null,
            "order": null,
            "overflow": null,
            "overflow_x": null,
            "overflow_y": null,
            "padding": null,
            "right": null,
            "top": null,
            "visibility": null,
            "width": null
          }
        },
        "f90bb443c6fa44f092dbb3cd24040d40": {
          "model_module": "@jupyter-widgets/controls",
          "model_name": "DescriptionStyleModel",
          "model_module_version": "1.5.0",
          "state": {
            "_model_module": "@jupyter-widgets/controls",
            "_model_module_version": "1.5.0",
            "_model_name": "DescriptionStyleModel",
            "_view_count": null,
            "_view_module": "@jupyter-widgets/base",
            "_view_module_version": "1.2.0",
            "_view_name": "StyleView",
            "description_width": ""
          }
        }
      }
    }
  },
  "nbformat": 4,
  "nbformat_minor": 0
}