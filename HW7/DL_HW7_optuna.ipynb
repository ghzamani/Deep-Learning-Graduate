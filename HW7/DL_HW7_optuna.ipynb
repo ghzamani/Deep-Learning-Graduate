{
  "nbformat": 4,
  "nbformat_minor": 0,
  "metadata": {
    "colab": {
      "provenance": [],
      "gpuType": "T4"
    },
    "kernelspec": {
      "name": "python3",
      "display_name": "Python 3"
    },
    "language_info": {
      "name": "python"
    },
    "accelerator": "GPU",
    "widgets": {
      "application/vnd.jupyter.widget-state+json": {
        "244d2dcec1124971872379e8522b4561": {
          "model_module": "@jupyter-widgets/controls",
          "model_name": "HBoxModel",
          "model_module_version": "1.5.0",
          "state": {
            "_dom_classes": [],
            "_model_module": "@jupyter-widgets/controls",
            "_model_module_version": "1.5.0",
            "_model_name": "HBoxModel",
            "_view_count": null,
            "_view_module": "@jupyter-widgets/controls",
            "_view_module_version": "1.5.0",
            "_view_name": "HBoxView",
            "box_style": "",
            "children": [
              "IPY_MODEL_2fdb9beb10764c9fb9d8cbc3b9f9d87d",
              "IPY_MODEL_8b317be6bde142cf8b35778fab126786",
              "IPY_MODEL_139eccfc028b4c5ba0050532ff7cc546"
            ],
            "layout": "IPY_MODEL_ae02eff25afa4e30b7ff952343aac294"
          }
        },
        "2fdb9beb10764c9fb9d8cbc3b9f9d87d": {
          "model_module": "@jupyter-widgets/controls",
          "model_name": "HTMLModel",
          "model_module_version": "1.5.0",
          "state": {
            "_dom_classes": [],
            "_model_module": "@jupyter-widgets/controls",
            "_model_module_version": "1.5.0",
            "_model_name": "HTMLModel",
            "_view_count": null,
            "_view_module": "@jupyter-widgets/controls",
            "_view_module_version": "1.5.0",
            "_view_name": "HTMLView",
            "description": "",
            "description_tooltip": null,
            "layout": "IPY_MODEL_b92c209da2e24b58b179125bf7ea2dd3",
            "placeholder": "​",
            "style": "IPY_MODEL_6ca4596a92ab464ea6e10a9e30f3c093",
            "value": "Best trial: 11. Best value: 0.239:  100%"
          }
        },
        "8b317be6bde142cf8b35778fab126786": {
          "model_module": "@jupyter-widgets/controls",
          "model_name": "FloatProgressModel",
          "model_module_version": "1.5.0",
          "state": {
            "_dom_classes": [],
            "_model_module": "@jupyter-widgets/controls",
            "_model_module_version": "1.5.0",
            "_model_name": "FloatProgressModel",
            "_view_count": null,
            "_view_module": "@jupyter-widgets/controls",
            "_view_module_version": "1.5.0",
            "_view_name": "ProgressView",
            "bar_style": "success",
            "description": "",
            "description_tooltip": null,
            "layout": "IPY_MODEL_87712b8503f04fc2945b8f0634df9495",
            "max": 1800,
            "min": 0,
            "orientation": "horizontal",
            "style": "IPY_MODEL_35e01fcfa8d74863b868cd57076ba25a",
            "value": 1800
          }
        },
        "139eccfc028b4c5ba0050532ff7cc546": {
          "model_module": "@jupyter-widgets/controls",
          "model_name": "HTMLModel",
          "model_module_version": "1.5.0",
          "state": {
            "_dom_classes": [],
            "_model_module": "@jupyter-widgets/controls",
            "_model_module_version": "1.5.0",
            "_model_name": "HTMLModel",
            "_view_count": null,
            "_view_module": "@jupyter-widgets/controls",
            "_view_module_version": "1.5.0",
            "_view_name": "HTMLView",
            "description": "",
            "description_tooltip": null,
            "layout": "IPY_MODEL_b229fb6703254c63bef3e10ef86fa5bd",
            "placeholder": "​",
            "style": "IPY_MODEL_018e6302a73a460f845234fb4530f0ba",
            "value": " 30:08/30:00"
          }
        },
        "ae02eff25afa4e30b7ff952343aac294": {
          "model_module": "@jupyter-widgets/base",
          "model_name": "LayoutModel",
          "model_module_version": "1.2.0",
          "state": {
            "_model_module": "@jupyter-widgets/base",
            "_model_module_version": "1.2.0",
            "_model_name": "LayoutModel",
            "_view_count": null,
            "_view_module": "@jupyter-widgets/base",
            "_view_module_version": "1.2.0",
            "_view_name": "LayoutView",
            "align_content": null,
            "align_items": null,
            "align_self": null,
            "border": null,
            "bottom": null,
            "display": null,
            "flex": null,
            "flex_flow": null,
            "grid_area": null,
            "grid_auto_columns": null,
            "grid_auto_flow": null,
            "grid_auto_rows": null,
            "grid_column": null,
            "grid_gap": null,
            "grid_row": null,
            "grid_template_areas": null,
            "grid_template_columns": null,
            "grid_template_rows": null,
            "height": null,
            "justify_content": null,
            "justify_items": null,
            "left": null,
            "margin": null,
            "max_height": null,
            "max_width": null,
            "min_height": null,
            "min_width": null,
            "object_fit": null,
            "object_position": null,
            "order": null,
            "overflow": null,
            "overflow_x": null,
            "overflow_y": null,
            "padding": null,
            "right": null,
            "top": null,
            "visibility": null,
            "width": null
          }
        },
        "b92c209da2e24b58b179125bf7ea2dd3": {
          "model_module": "@jupyter-widgets/base",
          "model_name": "LayoutModel",
          "model_module_version": "1.2.0",
          "state": {
            "_model_module": "@jupyter-widgets/base",
            "_model_module_version": "1.2.0",
            "_model_name": "LayoutModel",
            "_view_count": null,
            "_view_module": "@jupyter-widgets/base",
            "_view_module_version": "1.2.0",
            "_view_name": "LayoutView",
            "align_content": null,
            "align_items": null,
            "align_self": null,
            "border": null,
            "bottom": null,
            "display": null,
            "flex": null,
            "flex_flow": null,
            "grid_area": null,
            "grid_auto_columns": null,
            "grid_auto_flow": null,
            "grid_auto_rows": null,
            "grid_column": null,
            "grid_gap": null,
            "grid_row": null,
            "grid_template_areas": null,
            "grid_template_columns": null,
            "grid_template_rows": null,
            "height": null,
            "justify_content": null,
            "justify_items": null,
            "left": null,
            "margin": null,
            "max_height": null,
            "max_width": null,
            "min_height": null,
            "min_width": null,
            "object_fit": null,
            "object_position": null,
            "order": null,
            "overflow": null,
            "overflow_x": null,
            "overflow_y": null,
            "padding": null,
            "right": null,
            "top": null,
            "visibility": null,
            "width": null
          }
        },
        "6ca4596a92ab464ea6e10a9e30f3c093": {
          "model_module": "@jupyter-widgets/controls",
          "model_name": "DescriptionStyleModel",
          "model_module_version": "1.5.0",
          "state": {
            "_model_module": "@jupyter-widgets/controls",
            "_model_module_version": "1.5.0",
            "_model_name": "DescriptionStyleModel",
            "_view_count": null,
            "_view_module": "@jupyter-widgets/base",
            "_view_module_version": "1.2.0",
            "_view_name": "StyleView",
            "description_width": ""
          }
        },
        "87712b8503f04fc2945b8f0634df9495": {
          "model_module": "@jupyter-widgets/base",
          "model_name": "LayoutModel",
          "model_module_version": "1.2.0",
          "state": {
            "_model_module": "@jupyter-widgets/base",
            "_model_module_version": "1.2.0",
            "_model_name": "LayoutModel",
            "_view_count": null,
            "_view_module": "@jupyter-widgets/base",
            "_view_module_version": "1.2.0",
            "_view_name": "LayoutView",
            "align_content": null,
            "align_items": null,
            "align_self": null,
            "border": null,
            "bottom": null,
            "display": null,
            "flex": null,
            "flex_flow": null,
            "grid_area": null,
            "grid_auto_columns": null,
            "grid_auto_flow": null,
            "grid_auto_rows": null,
            "grid_column": null,
            "grid_gap": null,
            "grid_row": null,
            "grid_template_areas": null,
            "grid_template_columns": null,
            "grid_template_rows": null,
            "height": null,
            "justify_content": null,
            "justify_items": null,
            "left": null,
            "margin": null,
            "max_height": null,
            "max_width": null,
            "min_height": null,
            "min_width": null,
            "object_fit": null,
            "object_position": null,
            "order": null,
            "overflow": null,
            "overflow_x": null,
            "overflow_y": null,
            "padding": null,
            "right": null,
            "top": null,
            "visibility": null,
            "width": null
          }
        },
        "35e01fcfa8d74863b868cd57076ba25a": {
          "model_module": "@jupyter-widgets/controls",
          "model_name": "ProgressStyleModel",
          "model_module_version": "1.5.0",
          "state": {
            "_model_module": "@jupyter-widgets/controls",
            "_model_module_version": "1.5.0",
            "_model_name": "ProgressStyleModel",
            "_view_count": null,
            "_view_module": "@jupyter-widgets/base",
            "_view_module_version": "1.2.0",
            "_view_name": "StyleView",
            "bar_color": null,
            "description_width": ""
          }
        },
        "b229fb6703254c63bef3e10ef86fa5bd": {
          "model_module": "@jupyter-widgets/base",
          "model_name": "LayoutModel",
          "model_module_version": "1.2.0",
          "state": {
            "_model_module": "@jupyter-widgets/base",
            "_model_module_version": "1.2.0",
            "_model_name": "LayoutModel",
            "_view_count": null,
            "_view_module": "@jupyter-widgets/base",
            "_view_module_version": "1.2.0",
            "_view_name": "LayoutView",
            "align_content": null,
            "align_items": null,
            "align_self": null,
            "border": null,
            "bottom": null,
            "display": null,
            "flex": null,
            "flex_flow": null,
            "grid_area": null,
            "grid_auto_columns": null,
            "grid_auto_flow": null,
            "grid_auto_rows": null,
            "grid_column": null,
            "grid_gap": null,
            "grid_row": null,
            "grid_template_areas": null,
            "grid_template_columns": null,
            "grid_template_rows": null,
            "height": null,
            "justify_content": null,
            "justify_items": null,
            "left": null,
            "margin": null,
            "max_height": null,
            "max_width": null,
            "min_height": null,
            "min_width": null,
            "object_fit": null,
            "object_position": null,
            "order": null,
            "overflow": null,
            "overflow_x": null,
            "overflow_y": null,
            "padding": null,
            "right": null,
            "top": null,
            "visibility": null,
            "width": null
          }
        },
        "018e6302a73a460f845234fb4530f0ba": {
          "model_module": "@jupyter-widgets/controls",
          "model_name": "DescriptionStyleModel",
          "model_module_version": "1.5.0",
          "state": {
            "_model_module": "@jupyter-widgets/controls",
            "_model_module_version": "1.5.0",
            "_model_name": "DescriptionStyleModel",
            "_view_count": null,
            "_view_module": "@jupyter-widgets/base",
            "_view_module_version": "1.2.0",
            "_view_name": "StyleView",
            "description_width": ""
          }
        }
      }
    }
  },
  "cells": [
    {
      "cell_type": "code",
      "execution_count": null,
      "metadata": {
        "id": "1Hhs0WtsK4Ky",
        "colab": {
          "base_uri": "https://localhost:8080/"
        },
        "outputId": "7daae5d4-8b16-485e-ffa6-d72c8af63189"
      },
      "outputs": [
        {
          "output_type": "stream",
          "name": "stdout",
          "text": [
            "\u001b[2K     \u001b[90m━━━━━━━━━━━━━━━━━━━━━━━━━━━━━━━━━━━━━━━\u001b[0m \u001b[32m390.6/390.6 kB\u001b[0m \u001b[31m8.5 MB/s\u001b[0m eta \u001b[36m0:00:00\u001b[0m\n",
            "\u001b[2K     \u001b[90m━━━━━━━━━━━━━━━━━━━━━━━━━━━━━━━━━━━━━━\u001b[0m \u001b[32m224.5/224.5 kB\u001b[0m \u001b[31m26.5 MB/s\u001b[0m eta \u001b[36m0:00:00\u001b[0m\n",
            "\u001b[2K     \u001b[90m━━━━━━━━━━━━━━━━━━━━━━━━━━━━━━━━━━━━━━━━\u001b[0m \u001b[32m78.7/78.7 kB\u001b[0m \u001b[31m7.7 MB/s\u001b[0m eta \u001b[36m0:00:00\u001b[0m\n",
            "\u001b[?25h"
          ]
        }
      ],
      "source": [
        "!pip install -q optuna"
      ]
    },
    {
      "cell_type": "code",
      "source": [
        "import optuna\n",
        "from optuna.trial import TrialState\n",
        "import matplotlib.pyplot as plt\n",
        "import numpy as np\n",
        "import torch\n",
        "import torchvision\n",
        "import torchvision.transforms as transforms\n",
        "from torchvision.datasets import CIFAR100\n",
        "from torch.utils.data import DataLoader\n",
        "import torch.nn as nn\n",
        "import torch.nn.functional as F\n",
        "import torch.optim as optim"
      ],
      "metadata": {
        "id": "alcO5IIuRtNA"
      },
      "execution_count": null,
      "outputs": []
    },
    {
      "cell_type": "markdown",
      "source": [
        "# Prepare data"
      ],
      "metadata": {
        "id": "5OTznVySSrPD"
      }
    },
    {
      "cell_type": "code",
      "source": [
        "transform = transforms.Compose(\n",
        "    [transforms.ToTensor(),\n",
        "     transforms.Normalize((0.5, 0.5, 0.5), (0.5, 0.5, 0.5))])\n",
        "\n",
        "batch_size = 64\n",
        "\n",
        "trainset = CIFAR100(root='./data', train=True,\n",
        "                    download=True, transform=transform)\n",
        "train_loader = DataLoader(trainset, batch_size=batch_size,\n",
        "                                          shuffle=True, num_workers=2)\n",
        "\n",
        "testset = CIFAR100(root='./data', train=False,\n",
        "                   download=True, transform=transform)\n",
        "test_loader = DataLoader(testset, batch_size=batch_size,\n",
        "                                         shuffle=False, num_workers=2)"
      ],
      "metadata": {
        "colab": {
          "base_uri": "https://localhost:8080/"
        },
        "id": "lG2cIV9ISvgt",
        "outputId": "70454e7f-c240-4ba7-cbea-3f56ed08b050"
      },
      "execution_count": null,
      "outputs": [
        {
          "output_type": "stream",
          "name": "stdout",
          "text": [
            "Files already downloaded and verified\n",
            "Files already downloaded and verified\n"
          ]
        }
      ]
    },
    {
      "cell_type": "code",
      "source": [
        "device = torch.device('cuda:0' if torch.cuda.is_available() else 'cpu')\n",
        "print(device)"
      ],
      "metadata": {
        "colab": {
          "base_uri": "https://localhost:8080/"
        },
        "id": "9YOZkZTdVSzZ",
        "outputId": "65c04071-2a6b-4e29-8cbd-4ac5ea649cee"
      },
      "execution_count": null,
      "outputs": [
        {
          "output_type": "stream",
          "name": "stdout",
          "text": [
            "cuda:0\n"
          ]
        }
      ]
    },
    {
      "cell_type": "code",
      "source": [
        "epochs = 10\n",
        "classes = 100"
      ],
      "metadata": {
        "id": "WecVaOWsXeq0"
      },
      "execution_count": null,
      "outputs": []
    },
    {
      "cell_type": "markdown",
      "source": [
        "# Define Model"
      ],
      "metadata": {
        "id": "u1qxoZX83l4K"
      }
    },
    {
      "cell_type": "code",
      "source": [
        "class Net(nn.Module):\n",
        "\n",
        "    def __init__(self, trial, num_conv_layers, num_fc_layers, num_filters, num_neurons):\n",
        "\n",
        "        super(Net, self).__init__()\n",
        "        input_size = 32\n",
        "        kernel_size = 3\n",
        "\n",
        "        # define the convolutional layers\n",
        "        self.convs = nn.ModuleList([nn.Conv2d(3, num_filters[0], kernel_size=kernel_size)])\n",
        "        # output size of cnn is needed for fc\n",
        "        out_size = input_size - kernel_size + 1\n",
        "\n",
        "        for i in range(1, num_conv_layers):\n",
        "            self.convs.append(nn.Conv2d(in_channels=num_filters[i-1], out_channels=num_filters[i], kernel_size=kernel_size))\n",
        "            out_size = out_size - kernel_size + 1\n",
        "\n",
        "        # define fully connected layers\n",
        "        self.fcs = nn.ModuleList([])\n",
        "        self.out_feature = num_filters[-1] * out_size * out_size\n",
        "        num_neurons = [self.out_feature] + num_neurons\n",
        "\n",
        "        for i in range(1, num_fc_layers):\n",
        "            self.fcs.append(nn.Linear(num_neurons[i-1], num_neurons[i]))\n",
        "\n",
        "        self.fcs.append(nn.Linear(num_neurons[-1], classes))\n",
        "\n",
        "\n",
        "    def forward(self, x):\n",
        "\n",
        "        for i, conv_i in enumerate(self.convs):\n",
        "            x = F.relu(conv_i(x))\n",
        "\n",
        "        x = x.view(-1, self.out_feature)\n",
        "        for fc in self.fcs:\n",
        "            x = F.relu(fc(x))\n",
        "\n",
        "        return x\n"
      ],
      "metadata": {
        "id": "9_66PRg0YJqy"
      },
      "execution_count": null,
      "outputs": []
    },
    {
      "cell_type": "markdown",
      "source": [
        "# objective function"
      ],
      "metadata": {
        "id": "Lq6VIPWb3wsE"
      }
    },
    {
      "cell_type": "code",
      "source": [
        "def objective(trial):\n",
        "    \"\"\"\n",
        "    Hyperparameters:\n",
        "    number of convolutional layers --> MAX: 4\n",
        "    number of dense layers --> MAX: 3\n",
        "    number of filters of convolutional layers --> MAX: 64\n",
        "    number of neurons of fully connected layers --> MAX: 64\n",
        "    learning rate --> MAX: 0.01\n",
        "    optimizer\n",
        "    \"\"\"\n",
        "\n",
        "    # Define range of values\n",
        "    num_conv_layers = trial.suggest_int(\"num_conv_layers\", 1, 4)\n",
        "    num_fc_layers = trial.suggest_int(\"num_fc_layers\", 1, 3)\n",
        "    num_filters = [int(trial.suggest_float(\"num_filter_\"+str(i), 40, 64, step=8))\n",
        "                   for i in range(num_conv_layers)]              # 40, 48, 56, 64\n",
        "\n",
        "    # number of out features of last fc layer is fix:100\n",
        "    num_neurons = [int(trial.suggest_float(\"num_neurons_\"+str(i), 32, 64, step=16))\n",
        "                   for i in range(num_fc_layers-1)]\n",
        "\n",
        "    # Generate the model\n",
        "    model = Net(trial, num_conv_layers, num_fc_layers, num_filters, num_neurons).to(device)\n",
        "    print(model)\n",
        "\n",
        "    # Generate the optimizers\n",
        "    optimizer_name = trial.suggest_categorical(\"optimizer\", [\"Adam\", \"RMSprop\", \"SGD\"])\n",
        "    lr = trial.suggest_float(\"lr\", 1e-3, 1e-2, log=True)\n",
        "    optimizer = getattr(optim, optimizer_name)(model.parameters(), lr=lr)\n",
        "    # loss function\n",
        "    criterion = nn.CrossEntropyLoss()\n",
        "\n",
        "    # Training loop\n",
        "    for epoch in range(epochs):\n",
        "\n",
        "        model.train()\n",
        "        for batch_i, (x, y) in enumerate(train_loader):\n",
        "            optimizer.zero_grad()\n",
        "            output = model(x.to(device))\n",
        "            loss = criterion(output, y.to(device))\n",
        "            loss.backward()\n",
        "            optimizer.step()\n",
        "\n",
        "        model.eval()\n",
        "        correct = 0\n",
        "        total = 0\n",
        "        with torch.no_grad():\n",
        "            for batch_i, (x, y) in enumerate(test_loader):\n",
        "                x = x.to(device)\n",
        "                y = y.to(device)\n",
        "\n",
        "                output = model(x)\n",
        "                _, predicted = torch.max(output.data, 1)\n",
        "                total += y.size(0)\n",
        "                correct += (predicted == y).sum().item()\n",
        "\n",
        "        accuracy_test = correct / total\n",
        "\n",
        "    return accuracy_test"
      ],
      "metadata": {
        "id": "zz-1qHzdVOpz"
      },
      "execution_count": null,
      "outputs": []
    },
    {
      "cell_type": "markdown",
      "source": [
        "# Optuna optimizing"
      ],
      "metadata": {
        "id": "-8qbQ2uhfnEJ"
      }
    },
    {
      "cell_type": "code",
      "source": [
        "# Create an Optuna study to maximize test accuracy\n",
        "study = optuna.create_study(direction=\"maximize\")\n",
        "study.optimize(objective, timeout=1800) #30-minute timout\n",
        "\n",
        "trial = study.best_trial\n",
        "print(\"Best trial:\")\n",
        "print(\"  Test accuracy: \", trial.value)\n",
        "print(\"  Params: \")\n",
        "for key, value in trial.params.items():\n",
        "    print(f\"{key}: {value}\")"
      ],
      "metadata": {
        "colab": {
          "base_uri": "https://localhost:8080/"
        },
        "id": "mY9lldEYr5qy",
        "outputId": "ca28d2d0-1726-4572-cfb2-c721c7de37cf"
      },
      "execution_count": null,
      "outputs": [
        {
          "output_type": "stream",
          "name": "stderr",
          "text": [
            "[I 2023-07-02 07:20:00,041] A new study created in memory with name: no-name-06ee0e95-009f-4070-9a1a-bb0012cd5701\n"
          ]
        },
        {
          "output_type": "stream",
          "name": "stdout",
          "text": [
            "Net(\n",
            "  (convs): ModuleList(\n",
            "    (0): Conv2d(3, 40, kernel_size=(3, 3), stride=(1, 1))\n",
            "    (1): Conv2d(40, 40, kernel_size=(3, 3), stride=(1, 1))\n",
            "  )\n",
            "  (fcs): ModuleList(\n",
            "    (0): Linear(in_features=31360, out_features=32, bias=True)\n",
            "    (1): Linear(in_features=32, out_features=100, bias=True)\n",
            "  )\n",
            ")\n"
          ]
        },
        {
          "output_type": "stream",
          "name": "stderr",
          "text": [
            "[I 2023-07-02 07:23:12,830] Trial 0 finished with value: 0.1468 and parameters: {'num_conv_layers': 2, 'num_fc_layers': 2, 'num_filter_0': 40.0, 'num_filter_1': 40.0, 'num_neurons_0': 32.0, 'optimizer': 'Adam', 'lr': 0.0015173493739106339}. Best is trial 0 with value: 0.1468.\n"
          ]
        },
        {
          "output_type": "stream",
          "name": "stdout",
          "text": [
            "Net(\n",
            "  (convs): ModuleList(\n",
            "    (0): Conv2d(3, 40, kernel_size=(3, 3), stride=(1, 1))\n",
            "    (1): Conv2d(40, 56, kernel_size=(3, 3), stride=(1, 1))\n",
            "  )\n",
            "  (fcs): ModuleList(\n",
            "    (0): Linear(in_features=43904, out_features=64, bias=True)\n",
            "    (1): Linear(in_features=64, out_features=64, bias=True)\n",
            "    (2): Linear(in_features=64, out_features=100, bias=True)\n",
            "  )\n",
            ")\n"
          ]
        },
        {
          "output_type": "stream",
          "name": "stderr",
          "text": [
            "[I 2023-07-02 07:26:30,164] Trial 1 finished with value: 0.1503 and parameters: {'num_conv_layers': 2, 'num_fc_layers': 3, 'num_filter_0': 40.0, 'num_filter_1': 56.0, 'num_neurons_0': 64.0, 'num_neurons_1': 64.0, 'optimizer': 'SGD', 'lr': 0.004030697198501452}. Best is trial 1 with value: 0.1503.\n"
          ]
        },
        {
          "output_type": "stream",
          "name": "stdout",
          "text": [
            "Net(\n",
            "  (convs): ModuleList(\n",
            "    (0): Conv2d(3, 64, kernel_size=(3, 3), stride=(1, 1))\n",
            "    (1): Conv2d(64, 64, kernel_size=(3, 3), stride=(1, 1))\n",
            "    (2): Conv2d(64, 56, kernel_size=(3, 3), stride=(1, 1))\n",
            "  )\n",
            "  (fcs): ModuleList(\n",
            "    (0): Linear(in_features=37856, out_features=100, bias=True)\n",
            "  )\n",
            ")\n"
          ]
        },
        {
          "output_type": "stream",
          "name": "stderr",
          "text": [
            "[I 2023-07-02 07:29:47,856] Trial 2 finished with value: 0.01 and parameters: {'num_conv_layers': 3, 'num_fc_layers': 1, 'num_filter_0': 64.0, 'num_filter_1': 64.0, 'num_filter_2': 56.0, 'optimizer': 'RMSprop', 'lr': 0.0016332773338419513}. Best is trial 1 with value: 0.1503.\n"
          ]
        },
        {
          "output_type": "stream",
          "name": "stdout",
          "text": [
            "Net(\n",
            "  (convs): ModuleList(\n",
            "    (0): Conv2d(3, 40, kernel_size=(3, 3), stride=(1, 1))\n",
            "    (1): Conv2d(40, 64, kernel_size=(3, 3), stride=(1, 1))\n",
            "    (2): Conv2d(64, 64, kernel_size=(3, 3), stride=(1, 1))\n",
            "    (3): Conv2d(64, 56, kernel_size=(3, 3), stride=(1, 1))\n",
            "  )\n",
            "  (fcs): ModuleList(\n",
            "    (0): Linear(in_features=32256, out_features=64, bias=True)\n",
            "    (1): Linear(in_features=64, out_features=100, bias=True)\n",
            "  )\n",
            ")\n"
          ]
        },
        {
          "output_type": "stream",
          "name": "stderr",
          "text": [
            "[I 2023-07-02 07:33:07,992] Trial 3 finished with value: 0.2013 and parameters: {'num_conv_layers': 4, 'num_fc_layers': 2, 'num_filter_0': 40.0, 'num_filter_1': 64.0, 'num_filter_2': 64.0, 'num_filter_3': 56.0, 'num_neurons_0': 64.0, 'optimizer': 'SGD', 'lr': 0.008895056069512136}. Best is trial 3 with value: 0.2013.\n"
          ]
        },
        {
          "output_type": "stream",
          "name": "stdout",
          "text": [
            "Net(\n",
            "  (convs): ModuleList(\n",
            "    (0): Conv2d(3, 40, kernel_size=(3, 3), stride=(1, 1))\n",
            "    (1): Conv2d(40, 56, kernel_size=(3, 3), stride=(1, 1))\n",
            "    (2): Conv2d(56, 40, kernel_size=(3, 3), stride=(1, 1))\n",
            "    (3): Conv2d(40, 48, kernel_size=(3, 3), stride=(1, 1))\n",
            "  )\n",
            "  (fcs): ModuleList(\n",
            "    (0): Linear(in_features=27648, out_features=100, bias=True)\n",
            "  )\n",
            ")\n"
          ]
        },
        {
          "output_type": "stream",
          "name": "stderr",
          "text": [
            "[I 2023-07-02 07:36:30,852] Trial 4 finished with value: 0.2362 and parameters: {'num_conv_layers': 4, 'num_fc_layers': 1, 'num_filter_0': 40.0, 'num_filter_1': 56.0, 'num_filter_2': 40.0, 'num_filter_3': 48.0, 'optimizer': 'SGD', 'lr': 0.008092387757307865}. Best is trial 4 with value: 0.2362.\n"
          ]
        },
        {
          "output_type": "stream",
          "name": "stdout",
          "text": [
            "Net(\n",
            "  (convs): ModuleList(\n",
            "    (0): Conv2d(3, 56, kernel_size=(3, 3), stride=(1, 1))\n",
            "    (1): Conv2d(56, 48, kernel_size=(3, 3), stride=(1, 1))\n",
            "    (2): Conv2d(48, 64, kernel_size=(3, 3), stride=(1, 1))\n",
            "    (3): Conv2d(64, 56, kernel_size=(3, 3), stride=(1, 1))\n",
            "  )\n",
            "  (fcs): ModuleList(\n",
            "    (0): Linear(in_features=32256, out_features=100, bias=True)\n",
            "  )\n",
            ")\n"
          ]
        },
        {
          "output_type": "stream",
          "name": "stderr",
          "text": [
            "[I 2023-07-02 07:39:56,879] Trial 5 finished with value: 0.0597 and parameters: {'num_conv_layers': 4, 'num_fc_layers': 1, 'num_filter_0': 56.0, 'num_filter_1': 48.0, 'num_filter_2': 64.0, 'num_filter_3': 56.0, 'optimizer': 'Adam', 'lr': 0.001221976402072722}. Best is trial 4 with value: 0.2362.\n"
          ]
        },
        {
          "output_type": "stream",
          "name": "stdout",
          "text": [
            "Net(\n",
            "  (convs): ModuleList(\n",
            "    (0): Conv2d(3, 40, kernel_size=(3, 3), stride=(1, 1))\n",
            "  )\n",
            "  (fcs): ModuleList(\n",
            "    (0): Linear(in_features=36000, out_features=100, bias=True)\n",
            "  )\n",
            ")\n"
          ]
        },
        {
          "output_type": "stream",
          "name": "stderr",
          "text": [
            "[I 2023-07-02 07:43:02,120] Trial 6 finished with value: 0.01 and parameters: {'num_conv_layers': 1, 'num_fc_layers': 1, 'num_filter_0': 40.0, 'optimizer': 'Adam', 'lr': 0.002152056786264147}. Best is trial 4 with value: 0.2362.\n"
          ]
        },
        {
          "output_type": "stream",
          "name": "stdout",
          "text": [
            "Net(\n",
            "  (convs): ModuleList(\n",
            "    (0): Conv2d(3, 64, kernel_size=(3, 3), stride=(1, 1))\n",
            "    (1): Conv2d(64, 40, kernel_size=(3, 3), stride=(1, 1))\n",
            "    (2-3): 2 x Conv2d(40, 40, kernel_size=(3, 3), stride=(1, 1))\n",
            "  )\n",
            "  (fcs): ModuleList(\n",
            "    (0): Linear(in_features=23040, out_features=48, bias=True)\n",
            "    (1): Linear(in_features=48, out_features=48, bias=True)\n",
            "    (2): Linear(in_features=48, out_features=100, bias=True)\n",
            "  )\n",
            ")\n"
          ]
        },
        {
          "output_type": "stream",
          "name": "stderr",
          "text": [
            "[I 2023-07-02 07:46:22,407] Trial 7 finished with value: 0.01 and parameters: {'num_conv_layers': 4, 'num_fc_layers': 3, 'num_filter_0': 64.0, 'num_filter_1': 40.0, 'num_filter_2': 40.0, 'num_filter_3': 40.0, 'num_neurons_0': 48.0, 'num_neurons_1': 48.0, 'optimizer': 'SGD', 'lr': 0.00185497613891723}. Best is trial 4 with value: 0.2362.\n"
          ]
        },
        {
          "output_type": "stream",
          "name": "stdout",
          "text": [
            "Net(\n",
            "  (convs): ModuleList(\n",
            "    (0): Conv2d(3, 56, kernel_size=(3, 3), stride=(1, 1))\n",
            "    (1): Conv2d(56, 48, kernel_size=(3, 3), stride=(1, 1))\n",
            "    (2): Conv2d(48, 64, kernel_size=(3, 3), stride=(1, 1))\n",
            "  )\n",
            "  (fcs): ModuleList(\n",
            "    (0): Linear(in_features=43264, out_features=64, bias=True)\n",
            "    (1): Linear(in_features=64, out_features=32, bias=True)\n",
            "    (2): Linear(in_features=32, out_features=100, bias=True)\n",
            "  )\n",
            ")\n"
          ]
        },
        {
          "output_type": "stream",
          "name": "stderr",
          "text": [
            "[I 2023-07-02 07:49:42,597] Trial 8 finished with value: 0.1093 and parameters: {'num_conv_layers': 3, 'num_fc_layers': 3, 'num_filter_0': 56.0, 'num_filter_1': 48.0, 'num_filter_2': 64.0, 'num_neurons_0': 64.0, 'num_neurons_1': 32.0, 'optimizer': 'Adam', 'lr': 0.0034548331611034917}. Best is trial 4 with value: 0.2362.\n"
          ]
        },
        {
          "output_type": "stream",
          "name": "stdout",
          "text": [
            "Net(\n",
            "  (convs): ModuleList(\n",
            "    (0): Conv2d(3, 40, kernel_size=(3, 3), stride=(1, 1))\n",
            "    (1): Conv2d(40, 64, kernel_size=(3, 3), stride=(1, 1))\n",
            "    (2): Conv2d(64, 48, kernel_size=(3, 3), stride=(1, 1))\n",
            "  )\n",
            "  (fcs): ModuleList(\n",
            "    (0): Linear(in_features=32448, out_features=64, bias=True)\n",
            "    (1): Linear(in_features=64, out_features=64, bias=True)\n",
            "    (2): Linear(in_features=64, out_features=100, bias=True)\n",
            "  )\n",
            ")\n"
          ]
        },
        {
          "output_type": "stream",
          "name": "stderr",
          "text": [
            "[I 2023-07-02 07:53:03,321] Trial 9 finished with value: 0.0418 and parameters: {'num_conv_layers': 3, 'num_fc_layers': 3, 'num_filter_0': 40.0, 'num_filter_1': 64.0, 'num_filter_2': 48.0, 'num_neurons_0': 64.0, 'num_neurons_1': 64.0, 'optimizer': 'SGD', 'lr': 0.00237670750923284}. Best is trial 4 with value: 0.2362.\n"
          ]
        },
        {
          "output_type": "stream",
          "name": "stdout",
          "text": [
            "Best trial:\n",
            "  Test accuracy:  0.2362\n",
            "  Params: \n",
            "num_conv_layers: 4\n",
            "num_fc_layers: 1\n",
            "num_filter_0: 40.0\n",
            "num_filter_1: 56.0\n",
            "num_filter_2: 40.0\n",
            "num_filter_3: 48.0\n",
            "optimizer: SGD\n",
            "lr: 0.008092387757307865\n"
          ]
        }
      ]
    },
    {
      "cell_type": "markdown",
      "source": [
        "# Part B, optimize with pruning"
      ],
      "metadata": {
        "id": "OhXF5Bn2hw3b"
      }
    },
    {
      "cell_type": "code",
      "source": [
        "def objective(trial):\n",
        "    \"\"\"\n",
        "    Hyperparameters to be optimized:\n",
        "    number of convolutional layers --> MAX: 4\n",
        "    number of dense layers --> MAX: 3\n",
        "    number of filters of convolutional layers --> MAX: 64\n",
        "    number of neurons of fully connected layers --> MAX: 64\n",
        "    learning rate --> MAX: 0.01\n",
        "    optimizer\n",
        "    \"\"\"\n",
        "\n",
        "    # Define range of values\n",
        "    num_conv_layers = trial.suggest_int(\"num_conv_layers\", 1, 4)\n",
        "    num_fc_layers = trial.suggest_int(\"num_fc_layers\", 1, 3)\n",
        "    num_filters = [int(trial.suggest_float(\"num_filter_\"+str(i), 40, 64, step=8))\n",
        "                   for i in range(num_conv_layers)]              # 40, 48, 56, 64\n",
        "\n",
        "    # number of out features of last fc layer is fix:100\n",
        "    num_neurons = [int(trial.suggest_float(\"num_neurons_\"+str(i), 32, 64, step=16))\n",
        "                   for i in range(num_fc_layers-1)]\n",
        "\n",
        "    # Generate the model\n",
        "    model = Net(trial, num_conv_layers, num_fc_layers, num_filters, num_neurons).to(device)\n",
        "    # print(model)\n",
        "\n",
        "    # Generate the optimizers\n",
        "    optimizer_name = trial.suggest_categorical(\"optimizer\", [\"Adam\", \"RMSprop\", \"SGD\"])\n",
        "    lr = trial.suggest_float(\"lr\", 1e-3, 1e-2, log=True)\n",
        "    optimizer = getattr(optim, optimizer_name)(model.parameters(), lr=lr)\n",
        "    # loss function\n",
        "    criterion = nn.CrossEntropyLoss()\n",
        "\n",
        "    # Training loop\n",
        "    for epoch in range(epochs):\n",
        "\n",
        "        model.train()\n",
        "        for batch_i, (x, y) in enumerate(train_loader):\n",
        "            optimizer.zero_grad()\n",
        "            output = model(x.to(device))\n",
        "            loss = criterion(output, y.to(device))\n",
        "            loss.backward()\n",
        "            optimizer.step()\n",
        "\n",
        "        model.eval()\n",
        "        correct = 0\n",
        "        total = 0\n",
        "        with torch.no_grad():\n",
        "            for batch_i, (x, y) in enumerate(test_loader):\n",
        "                x = x.to(device)\n",
        "                y = y.to(device)\n",
        "\n",
        "                output = model(x)\n",
        "                _, predicted = torch.max(output.data, 1)\n",
        "                total += y.size(0)\n",
        "                correct += (predicted == y).sum().item()\n",
        "\n",
        "        accuracy_test = correct / total\n",
        "\n",
        "        # pruning\n",
        "        trial.report(accuracy_test, epoch)\n",
        "        if trial.should_prune():\n",
        "            raise optuna.exceptions.TrialPruned()\n",
        "\n",
        "    return accuracy_test"
      ],
      "metadata": {
        "id": "_IloGrU6h7ss"
      },
      "execution_count": null,
      "outputs": []
    },
    {
      "cell_type": "code",
      "source": [
        "# Create an Optuna study to maximize test accuracy\n",
        "study2 = optuna.create_study(direction=\"maximize\")\n",
        "study2.optimize(objective, timeout=1800, show_progress_bar=True) #30-minute timout\n",
        "\n",
        "trial = study2.best_trial\n",
        "print(\"Best trial:\")\n",
        "print(\"  Test accuracy: \", trial.value)\n",
        "print(\"  Params: \")\n",
        "for key, value in trial.params.items():\n",
        "    print(f\"{key}: {value}\")"
      ],
      "metadata": {
        "colab": {
          "base_uri": "https://localhost:8080/",
          "height": 451,
          "referenced_widgets": [
            "244d2dcec1124971872379e8522b4561",
            "2fdb9beb10764c9fb9d8cbc3b9f9d87d",
            "8b317be6bde142cf8b35778fab126786",
            "139eccfc028b4c5ba0050532ff7cc546",
            "ae02eff25afa4e30b7ff952343aac294",
            "b92c209da2e24b58b179125bf7ea2dd3",
            "6ca4596a92ab464ea6e10a9e30f3c093",
            "87712b8503f04fc2945b8f0634df9495",
            "35e01fcfa8d74863b868cd57076ba25a",
            "b229fb6703254c63bef3e10ef86fa5bd",
            "018e6302a73a460f845234fb4530f0ba"
          ]
        },
        "outputId": "8910d1b1-23f2-4a7c-8368-e7e852d520af",
        "id": "KVLkjnrih7su"
      },
      "execution_count": null,
      "outputs": [
        {
          "output_type": "stream",
          "name": "stderr",
          "text": [
            "[I 2023-07-02 08:09:43,896] A new study created in memory with name: no-name-192339f4-ef6e-4ede-9b01-4f3ac89ac245\n"
          ]
        },
        {
          "output_type": "display_data",
          "data": {
            "text/plain": [
              "   0%|          | 00:00/30:00"
            ],
            "application/vnd.jupyter.widget-view+json": {
              "version_major": 2,
              "version_minor": 0,
              "model_id": "244d2dcec1124971872379e8522b4561"
            }
          },
          "metadata": {}
        },
        {
          "output_type": "stream",
          "name": "stdout",
          "text": [
            "[I 2023-07-02 08:13:03,611] Trial 0 finished with value: 0.01 and parameters: {'num_conv_layers': 2, 'num_fc_layers': 2, 'num_filter_0': 48.0, 'num_filter_1': 64.0, 'num_neurons_0': 48.0, 'optimizer': 'Adam', 'lr': 0.008858099275235802}. Best is trial 0 with value: 0.01.\n",
            "[I 2023-07-02 08:16:25,564] Trial 1 finished with value: 0.1211 and parameters: {'num_conv_layers': 4, 'num_fc_layers': 3, 'num_filter_0': 64.0, 'num_filter_1': 56.0, 'num_filter_2': 64.0, 'num_filter_3': 40.0, 'num_neurons_0': 64.0, 'num_neurons_1': 32.0, 'optimizer': 'Adam', 'lr': 0.002821839393933318}. Best is trial 1 with value: 0.1211.\n",
            "[I 2023-07-02 08:19:33,456] Trial 2 finished with value: 0.2171 and parameters: {'num_conv_layers': 2, 'num_fc_layers': 1, 'num_filter_0': 56.0, 'num_filter_1': 48.0, 'optimizer': 'SGD', 'lr': 0.0037485950603076837}. Best is trial 2 with value: 0.2171.\n",
            "[I 2023-07-02 08:22:54,138] Trial 3 finished with value: 0.01 and parameters: {'num_conv_layers': 4, 'num_fc_layers': 1, 'num_filter_0': 64.0, 'num_filter_1': 48.0, 'num_filter_2': 64.0, 'num_filter_3': 40.0, 'optimizer': 'Adam', 'lr': 0.007576621453209066}. Best is trial 2 with value: 0.2171.\n",
            "[I 2023-07-02 08:26:14,610] Trial 4 finished with value: 0.01 and parameters: {'num_conv_layers': 4, 'num_fc_layers': 3, 'num_filter_0': 48.0, 'num_filter_1': 64.0, 'num_filter_2': 56.0, 'num_filter_3': 48.0, 'num_neurons_0': 64.0, 'num_neurons_1': 64.0, 'optimizer': 'RMSprop', 'lr': 0.007569651148775075}. Best is trial 2 with value: 0.2171.\n",
            "[I 2023-07-02 08:29:24,780] Trial 5 finished with value: 0.1779 and parameters: {'num_conv_layers': 1, 'num_fc_layers': 3, 'num_filter_0': 64.0, 'num_neurons_0': 64.0, 'num_neurons_1': 64.0, 'optimizer': 'Adam', 'lr': 0.001492729135589034}. Best is trial 2 with value: 0.2171.\n",
            "[I 2023-07-02 08:29:44,550] Trial 6 pruned. \n",
            "[I 2023-07-02 08:30:04,613] Trial 7 pruned. \n",
            "[I 2023-07-02 08:30:23,341] Trial 8 pruned. \n",
            "[I 2023-07-02 08:33:26,899] Trial 9 finished with value: 0.2167 and parameters: {'num_conv_layers': 1, 'num_fc_layers': 1, 'num_filter_0': 64.0, 'optimizer': 'SGD', 'lr': 0.003123983454173225}. Best is trial 2 with value: 0.2171.\n",
            "[I 2023-07-02 08:33:47,151] Trial 10 pruned. \n",
            "[I 2023-07-02 08:36:49,637] Trial 11 finished with value: 0.239 and parameters: {'num_conv_layers': 1, 'num_fc_layers': 1, 'num_filter_0': 56.0, 'optimizer': 'SGD', 'lr': 0.004400992296891414}. Best is trial 11 with value: 0.239.\n",
            "[I 2023-07-02 08:39:52,414] Trial 12 finished with value: 0.2342 and parameters: {'num_conv_layers': 1, 'num_fc_layers': 1, 'num_filter_0': 56.0, 'optimizer': 'SGD', 'lr': 0.004754710529083507}. Best is trial 11 with value: 0.239.\n",
            "Best trial:\n",
            "  Test accuracy:  0.239\n",
            "  Params: \n",
            "num_conv_layers: 1\n",
            "num_fc_layers: 1\n",
            "num_filter_0: 56.0\n",
            "optimizer: SGD\n",
            "lr: 0.004400992296891414\n"
          ]
        }
      ]
    }
  ]
}