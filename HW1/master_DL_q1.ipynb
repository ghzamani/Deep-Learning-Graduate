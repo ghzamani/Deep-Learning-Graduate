{
  "nbformat": 4,
  "nbformat_minor": 0,
  "metadata": {
    "colab": {
      "provenance": []
    },
    "kernelspec": {
      "name": "python3",
      "display_name": "Python 3"
    },
    "language_info": {
      "name": "python"
    },
    "gpuClass": "standard"
  },
  "cells": [
    {
      "cell_type": "code",
      "source": [
        "import numpy as np\n",
        "\n",
        "def softmax(x, i):\n",
        "    return np.exp(x[i]) / np.sum(np.exp(x))\n",
        "\n",
        "def cross_entropy(y, y_hat):\n",
        "    return -np.sum(y * np.log(y_hat))\n",
        "\n",
        "def sigmoid(x):\n",
        "    return 1 / (1 + np.exp(-x))\n",
        "\n",
        "def bce(y, y_hat):\n",
        "    return -np.sum(y * np.log(y_hat) + (1-y) * np.log(1-y_hat))\n"
      ],
      "metadata": {
        "id": "kXwY2sfaSLJL"
      },
      "execution_count": null,
      "outputs": []
    },
    {
      "cell_type": "code",
      "source": [
        "logits = np.array([4, 6, -10, -20])\n",
        "Y = np.array([1, 0, 0, 0])"
      ],
      "metadata": {
        "id": "6TzGtvLz7KZO"
      },
      "execution_count": null,
      "outputs": []
    },
    {
      "cell_type": "code",
      "source": [
        "prediction = np.array([softmax(logits, i) for i in range(logits.shape[0])])\n",
        "print(\"predictions:\", prediction)\n",
        "loss = cross_entropy(Y, prediction)\n",
        "print(\"loss:\", loss)\n",
        "grads = np.array([softmax(logits, i) for i in range(logits.shape[0])]) - Y\n",
        "print(\"gradients:\", grads)"
      ],
      "metadata": {
        "colab": {
          "base_uri": "https://localhost:8080/"
        },
        "id": "txoL8k5eQI73",
        "outputId": "5383f94c-f03d-4a9a-ce9e-4feb7651e5a3"
      },
      "execution_count": null,
      "outputs": [
        {
          "output_type": "stream",
          "name": "stdout",
          "text": [
            "predictions: [1.19202910e-01 8.80796991e-01 9.91206432e-08 4.50007024e-12]\n",
            "loss: 2.126928110168121\n",
            "gradients: [-8.80797090e-01  8.80796991e-01  9.91206432e-08  4.50007024e-12]\n"
          ]
        }
      ]
    },
    {
      "cell_type": "code",
      "source": [
        "prediction2 = sigmoid(logits)\n",
        "print(\"predictions:\", prediction2)\n",
        "loss2 = bce(Y, prediction2)\n",
        "print(\"loss:\", loss2)\n",
        "grads2 = -(Y - prediction2) * sigmoid(logits) * (1 - sigmoid(logits)) / (prediction2 * (1 - prediction2))\n",
        "print(\"gradients:\", grads2)"
      ],
      "metadata": {
        "colab": {
          "base_uri": "https://localhost:8080/"
        },
        "id": "ShghUPohQLEC",
        "outputId": "4b8a2a0b-f581-41e0-e707-0ec1b4c0468d"
      },
      "execution_count": null,
      "outputs": [
        {
          "output_type": "stream",
          "name": "stdout",
          "text": [
            "predictions: [9.82013790e-01 9.97527377e-01 4.53978687e-05 2.06115362e-09]\n",
            "loss: 6.020671014015958\n",
            "gradients: [-1.79862100e-02  9.97527377e-01  4.53978687e-05  2.06115362e-09]\n"
          ]
        }
      ]
    }
  ]
}