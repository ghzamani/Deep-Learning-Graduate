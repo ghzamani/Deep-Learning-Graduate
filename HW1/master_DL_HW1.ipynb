{
  "cells": [
    {
      "cell_type": "code",
      "execution_count": null,
      "metadata": {
        "id": "pkALL9GbELwu"
      },
      "outputs": [],
      "source": [
        "from torchvision import datasets as dt\n",
        "import matplotlib.pyplot as plt\n",
        "from torchvision import transforms\n",
        "import torch\n",
        "import torch.nn as nn\n",
        "import torch.optim as optim"
      ]
    },
    {
      "cell_type": "markdown",
      "metadata": {
        "id": "POtuoma8YjKB"
      },
      "source": [
        "# **Q3:**"
      ]
    },
    {
      "cell_type": "markdown",
      "metadata": {
        "id": "6GlQi7SyEPUw"
      },
      "source": [
        "## Dataset"
      ]
    },
    {
      "cell_type": "code",
      "execution_count": null,
      "metadata": {
        "id": "ifB-7yRFEOqh",
        "colab": {
          "base_uri": "https://localhost:8080/",
          "height": 423,
          "referenced_widgets": [
            "e33bf35657524681b00ecd3f7dee5f58",
            "cf548dfa224e46fcb04d20db44062442",
            "fb5fe4f1726f4b439850a1460c8665f4",
            "d96ec3929375495ca702d6ce41d61989",
            "a56ced8ba1b94205bbbe776b73a5e51e",
            "fd5a962054304c439b94f92531a0e904",
            "712dbd76a96544508a04d6c26aabd7ee",
            "ba1caca230e24ba8a0882dffa0ac98d0",
            "e43d0a569d184257a639df37479272e1",
            "badf81bb813248c98abc34a103cd5802",
            "35767ab49bd04846aa9090de839b7b14",
            "a3d62494d4224474bde9f87734275e5e",
            "eadb248b93b440a2b3e7917e22c1be97",
            "f49d89c6a4d443e89055874e04a51b9d",
            "a4b470baf24d487689e79e75783cbaa2",
            "4c72060cabe945c98e1a9acbe6e60348",
            "701863fa5bc340ee83d7efa99ba14164",
            "8acd6d19d7ff4fff853e3fbd52621719",
            "4a415a350f764b278bbd3907c24d2b17",
            "3b5d879cebe242c990f085bb54de756c",
            "c4face4fd08b4611a5af3067a0e54f8f",
            "9c454aa2a5ff4edab82398c3c389c593",
            "5a9badebc6014f41aada84be03375343",
            "ff1c69bc5deb46f7a6d9d1947247517d",
            "0c7bd7ad012b4b88a82849550812d4db",
            "4db1b6d726ee43ab9580568a5c46fa58",
            "0d9c57da8fa34c8987caa2ce0ad3bffe",
            "89ee1238297141b2967fdc75d99a1ce6",
            "208248ad7a714291baa9ddbd7a5808c3",
            "af12a464ee2741eea0a48b95ccba6933",
            "f8daf17141254208833989de839a1456",
            "52cd936a261e4690af94b3e59f564ada",
            "c5daaf9314e140fcb95f7fb0028e9f5f",
            "67ce6bb2d8864640bd0283279f8e2e7d",
            "a2130c2ae74d41dc99b09f05e5727b72",
            "a6b927818a0b4e589d348e95e649735c",
            "4cb707a381af4d2b9fb985bdf9a79789",
            "49d0987b07ab4416b6a6c6cb18d45d48",
            "1e3bd22fb0854c14a601dc7ca8f1a4f0",
            "0d5305a661d94fd5920ad36a73351c0a",
            "e4e6013c35df4085b776cdf7b88c292f",
            "656c74ced25a4ccf9dcea96a0c8ff997",
            "70614673c5fe46718a2f6a892e01ea46",
            "905cdaeaf94b4825889486828592e6fa"
          ]
        },
        "outputId": "3f80a879-ccdc-4cbe-b74a-6a7daace93fe"
      },
      "outputs": [
        {
          "output_type": "stream",
          "name": "stdout",
          "text": [
            "Downloading http://yann.lecun.com/exdb/mnist/train-images-idx3-ubyte.gz\n",
            "Downloading http://yann.lecun.com/exdb/mnist/train-images-idx3-ubyte.gz to data/MNIST/raw/train-images-idx3-ubyte.gz\n"
          ]
        },
        {
          "output_type": "display_data",
          "data": {
            "text/plain": [
              "  0%|          | 0/9912422 [00:00<?, ?it/s]"
            ],
            "application/vnd.jupyter.widget-view+json": {
              "version_major": 2,
              "version_minor": 0,
              "model_id": "e33bf35657524681b00ecd3f7dee5f58"
            }
          },
          "metadata": {}
        },
        {
          "output_type": "stream",
          "name": "stdout",
          "text": [
            "Extracting data/MNIST/raw/train-images-idx3-ubyte.gz to data/MNIST/raw\n",
            "\n",
            "Downloading http://yann.lecun.com/exdb/mnist/train-labels-idx1-ubyte.gz\n",
            "Downloading http://yann.lecun.com/exdb/mnist/train-labels-idx1-ubyte.gz to data/MNIST/raw/train-labels-idx1-ubyte.gz\n"
          ]
        },
        {
          "output_type": "display_data",
          "data": {
            "text/plain": [
              "  0%|          | 0/28881 [00:00<?, ?it/s]"
            ],
            "application/vnd.jupyter.widget-view+json": {
              "version_major": 2,
              "version_minor": 0,
              "model_id": "a3d62494d4224474bde9f87734275e5e"
            }
          },
          "metadata": {}
        },
        {
          "output_type": "stream",
          "name": "stdout",
          "text": [
            "Extracting data/MNIST/raw/train-labels-idx1-ubyte.gz to data/MNIST/raw\n",
            "\n",
            "Downloading http://yann.lecun.com/exdb/mnist/t10k-images-idx3-ubyte.gz\n",
            "Downloading http://yann.lecun.com/exdb/mnist/t10k-images-idx3-ubyte.gz to data/MNIST/raw/t10k-images-idx3-ubyte.gz\n"
          ]
        },
        {
          "output_type": "display_data",
          "data": {
            "text/plain": [
              "  0%|          | 0/1648877 [00:00<?, ?it/s]"
            ],
            "application/vnd.jupyter.widget-view+json": {
              "version_major": 2,
              "version_minor": 0,
              "model_id": "5a9badebc6014f41aada84be03375343"
            }
          },
          "metadata": {}
        },
        {
          "output_type": "stream",
          "name": "stdout",
          "text": [
            "Extracting data/MNIST/raw/t10k-images-idx3-ubyte.gz to data/MNIST/raw\n",
            "\n",
            "Downloading http://yann.lecun.com/exdb/mnist/t10k-labels-idx1-ubyte.gz\n",
            "Downloading http://yann.lecun.com/exdb/mnist/t10k-labels-idx1-ubyte.gz to data/MNIST/raw/t10k-labels-idx1-ubyte.gz\n"
          ]
        },
        {
          "output_type": "display_data",
          "data": {
            "text/plain": [
              "  0%|          | 0/4542 [00:00<?, ?it/s]"
            ],
            "application/vnd.jupyter.widget-view+json": {
              "version_major": 2,
              "version_minor": 0,
              "model_id": "67ce6bb2d8864640bd0283279f8e2e7d"
            }
          },
          "metadata": {}
        },
        {
          "output_type": "stream",
          "name": "stdout",
          "text": [
            "Extracting data/MNIST/raw/t10k-labels-idx1-ubyte.gz to data/MNIST/raw\n",
            "\n"
          ]
        }
      ],
      "source": [
        "# load the training data\n",
        "mnist = dt.MNIST('data', train=True, download=True)\n",
        "mnist = list(mnist)[:2500]"
      ]
    },
    {
      "cell_type": "code",
      "execution_count": null,
      "metadata": {
        "colab": {
          "base_uri": "https://localhost:8080/",
          "height": 268
        },
        "id": "zuk_zGO0EUeG",
        "outputId": "f1fa1506-e393-4388-8510-b9971c82f696"
      },
      "outputs": [
        {
          "output_type": "display_data",
          "data": {
            "text/plain": [
              "<Figure size 432x288 with 9 Axes>"
            ],
            "image/png": "[encoded data removed]"
          },
          "metadata": {
            "needs_background": "light"
          }
        }
      ],
      "source": [
        "# plot the first 12 images in the training data\n",
        "import matplotlib.pyplot as plt\n",
        "for k, (image, label) in enumerate(mnist[:9]):\n",
        "  plt.subplot(3, 3, k+1)\n",
        "  plt.imshow(image, cmap='gray')"
      ]
    },
    {
      "cell_type": "code",
      "execution_count": null,
      "metadata": {
        "id": "p36c8NGZEWNw"
      },
      "outputs": [],
      "source": [
        "# transform the image data type to tensor\n",
        "img_to_tensor = transforms.ToTensor()"
      ]
    },
    {
      "cell_type": "code",
      "execution_count": null,
      "metadata": {
        "colab": {
          "base_uri": "https://localhost:8080/"
        },
        "id": "ntOv2eusEbx6",
        "outputId": "c020e9eb-3d05-4585-84ed-56784a5e4c10"
      },
      "outputs": [
        {
          "output_type": "execute_result",
          "data": {
            "text/plain": [
              "torch.Size([1, 28, 28])"
            ]
          },
          "metadata": {},
          "execution_count": 6
        }
      ],
      "source": [
        "# convert the last image we saw into a tensor\n",
        "img_tensor = img_to_tensor(image)\n",
        "img_tensor.shape"
      ]
    },
    {
      "cell_type": "code",
      "execution_count": null,
      "metadata": {
        "id": "JGcRaxCpEdlk"
      },
      "outputs": [],
      "source": [
        "# load the training data as tensor\n",
        "mnist_train = dt.MNIST('data', train=True, transform=img_to_tensor)\n",
        "mnist_train = list(mnist_train)[:2500]"
      ]
    },
    {
      "cell_type": "code",
      "execution_count": null,
      "metadata": {
        "id": "bH7QeYAIEeqf"
      },
      "outputs": [],
      "source": [
        "#split data into training and validation\n",
        "mnist_train, mnist_val = mnist_train[:2000], mnist_train[2000:]"
      ]
    },
    {
      "cell_type": "code",
      "source": [
        "print(len(mnist_train))\n",
        "x1, y1 = mnist_train[0]\n",
        "print(x1.shape)"
      ],
      "metadata": {
        "colab": {
          "base_uri": "https://localhost:8080/"
        },
        "id": "MUSSgUsIDwIn",
        "outputId": "e91a313c-1b69-4515-ac65-2c458cd2f2fc"
      },
      "execution_count": null,
      "outputs": [
        {
          "output_type": "stream",
          "name": "stdout",
          "text": [
            "2000\n",
            "torch.Size([1, 28, 28])\n"
          ]
        }
      ]
    },
    {
      "cell_type": "markdown",
      "metadata": {
        "id": "5SZLq9mhEiwp"
      },
      "source": [
        "## Linear Model in PyTorch"
      ]
    },
    {
      "cell_type": "code",
      "execution_count": null,
      "metadata": {
        "id": "HIU829ynEgwM"
      },
      "outputs": [],
      "source": [
        "# assume 50 features, 1 linear output\n",
        "simple_model = nn.Linear(50, 1)"
      ]
    },
    {
      "cell_type": "code",
      "execution_count": null,
      "metadata": {
        "id": "nYmefVOoElWK"
      },
      "outputs": [],
      "source": [
        "weight, bias = list(simple_model.parameters())"
      ]
    },
    {
      "cell_type": "code",
      "execution_count": null,
      "metadata": {
        "colab": {
          "base_uri": "https://localhost:8080/"
        },
        "id": "CdCfP7AdEmeH",
        "outputId": "50a34f13-ebdf-4f51-f7b2-e8423b2ee106"
      },
      "outputs": [
        {
          "output_type": "stream",
          "name": "stdout",
          "text": [
            "Parameter containing:\n",
            "tensor([[-0.1029,  0.0016, -0.0802,  0.0295, -0.1289, -0.0446,  0.0657, -0.0152,\n",
            "          0.1279, -0.0752, -0.1239, -0.0426, -0.0923,  0.1403, -0.1346,  0.1149,\n",
            "         -0.0173,  0.1366, -0.0826,  0.0375,  0.0046,  0.0137,  0.1071,  0.1413,\n",
            "         -0.1377,  0.0474, -0.0657,  0.1191, -0.0241, -0.0424,  0.1228, -0.0277,\n",
            "          0.0854,  0.1116,  0.0112, -0.0835, -0.1399,  0.0618, -0.0636,  0.0405,\n",
            "         -0.1097, -0.0681,  0.0231, -0.1215,  0.0795,  0.1300,  0.0995,  0.0786,\n",
            "          0.1367,  0.1312]], requires_grad=True)\n",
            "torch.Size([1, 50])\n",
            "Parameter containing:\n",
            "tensor([0.0311], requires_grad=True)\n",
            "torch.Size([1])\n"
          ]
        }
      ],
      "source": [
        "# By default, PyTorch initializes these values to a random number close to 0\n",
        "print(weight)\n",
        "print(weight.shape)\n",
        "print(bias)\n",
        "print(bias.shape)"
      ]
    },
    {
      "cell_type": "markdown",
      "metadata": {
        "id": "_xGjuLR6Etoq"
      },
      "source": [
        "<font color='red'>Like the example above, create the model to solve the MNIST digitclassification problem.</font>"
      ]
    },
    {
      "cell_type": "code",
      "execution_count": null,
      "metadata": {
        "id": "eqm0J3lAEqPk"
      },
      "outputs": [],
      "source": [
        "############\n",
        "# Your code\n",
        "# Start\n",
        "in_features = img_tensor.shape[1] * img_tensor.shape[2]\n",
        "num_classes = 10\n",
        "\n",
        "class MNISTModel(nn.Module):\n",
        "    def __init__(self, in_features=in_features, out=num_classes):\n",
        "        super().__init__()\n",
        "        self.flatten = nn.Flatten()\n",
        "        self.linear = nn.Linear(in_features, num_classes)\n",
        "\n",
        "    def forward(self, x):\n",
        "        x = self.flatten(x)\n",
        "        logits = self.linear(x)\n",
        "        return logits\n",
        "# End\n"
      ]
    },
    {
      "cell_type": "markdown",
      "metadata": {
        "id": "wLSqYRDYFl7S"
      },
      "source": [
        "## Prediction"
      ]
    },
    {
      "cell_type": "code",
      "execution_count": null,
      "metadata": {
        "id": "vfU3tW5LFOgi"
      },
      "outputs": [],
      "source": [
        "def run_gradient_descent(model,batch_size=64,learning_rate=0.01,weight_decay=0,num_epochs=10):\n",
        "    #define the best optimizer and loss function\n",
        "    \n",
        "    ############\n",
        "    # Your code\n",
        "    # Start\n",
        "    optimizer = optim.SGD(model.parameters(), lr=learning_rate)\n",
        "    loss_fn = nn.CrossEntropyLoss()\n",
        "    # End   \n",
        "    \n",
        "    iters, losses = [], []\n",
        "    iters_sub, train_acc, val_acc = [], [] ,[]    \n",
        "\n",
        "    # PyTorch data loader\n",
        "    train_loader = torch.utils.data.DataLoader(\n",
        "        mnist_train,\n",
        "        batch_size=batch_size, # batch size\n",
        "        shuffle=True) # shuffle before each epoch\n",
        "\n",
        "    size = len(train_loader.dataset)\n",
        "    # training\n",
        "    for epoch in range(num_epochs):\n",
        "        \n",
        "        ############\n",
        "        # Your code\n",
        "        # Start\n",
        "        # iterate on batches\n",
        "        print(\"Epoch\", epoch)\n",
        "        epoch_loss = 0\n",
        "        model.train()\n",
        "        for batch, (x, y) in enumerate(train_loader):\n",
        "            # forward propagation\n",
        "            pred = model(x)\n",
        "            loss = loss_fn(pred, y)\n",
        "            epoch_loss += loss.item()\n",
        "\n",
        "            # backward propagation\n",
        "            optimizer.zero_grad()\n",
        "            loss.backward()\n",
        "            optimizer.step()\n",
        "\n",
        "            if batch % 10 == 0:\n",
        "                loss, current = loss.item(), (batch + 1) * len(x)\n",
        "                print(f\"loss: {loss:>7f}  [{current:>5d}/{size:>5d}]\")\n",
        "        print(\"*\"*20)\n",
        "\n",
        "        # save loss for plot\n",
        "        iters.append(epoch)\n",
        "        losses.append(epoch_loss/size)\n",
        "        # save accuracy for plot\n",
        "        iters_sub.append(epoch)\n",
        "        train_acc.append(get_accuracy(model, mnist_train))\n",
        "\n",
        "        # evaluate model:\n",
        "        model.eval()\n",
        "        with torch.no_grad():\n",
        "            val_acc.append(get_accuracy(model, mnist_val))\n",
        "        # End   \n",
        "        \n",
        "\n",
        "    # plotting\n",
        "    plt.title(\"Training Curve (batch_size={}, lr={})\".format(batch_size, learning_rate))\n",
        "    plt.plot(iters, losses, label=\"Train\")\n",
        "    plt.xlabel(\"Iterations\")\n",
        "    plt.ylabel(\"Loss\")\n",
        "    plt.show()\n",
        "\n",
        "    plt.title(\"Training Curve (batch_size={}, lr={})\".format(batch_size, learning_rate))\n",
        "    plt.plot(iters_sub, train_acc, label=\"Train\")\n",
        "    plt.plot(iters_sub, val_acc, label=\"Validation\")\n",
        "    plt.xlabel(\"Iterations\")\n",
        "    plt.ylabel(\"Accuracy\")\n",
        "    plt.legend(loc='best')\n",
        "    plt.show()\n",
        "\n",
        "def get_accuracy(model, data):\n",
        "  loader = torch.utils.data.DataLoader(data, batch_size=500)\n",
        "\n",
        "  correct, total = 0, 0\n",
        "  for xs, ts in loader:\n",
        "      xs = xs.view(-1, 784) # flatten the image\n",
        "      zs = model(xs)\n",
        "      pred = zs.max(1, keepdim=True)[1] # get the index of the max logit\n",
        "      correct += pred.eq(ts.view_as(pred)).sum().item()\n",
        "      total += int(ts.shape[0])\n",
        "      return correct / total"
      ]
    },
    {
      "cell_type": "code",
      "execution_count": null,
      "metadata": {
        "id": "4Q09iEU-G2tL",
        "colab": {
          "base_uri": "https://localhost:8080/",
          "height": 1000
        },
        "outputId": "0887b881-fe51-4c0d-f903-cab95bd7ff3b"
      },
      "outputs": [
        {
          "output_type": "stream",
          "name": "stdout",
          "text": [
            "Epoch 0\n",
            "loss: 2.319465  [   64/ 2000]\n",
            "loss: 2.229431  [  704/ 2000]\n",
            "loss: 2.132955  [ 1344/ 2000]\n",
            "loss: 2.064138  [ 1984/ 2000]\n",
            "********************\n",
            "Epoch 1\n",
            "loss: 1.954598  [   64/ 2000]\n",
            "loss: 1.969585  [  704/ 2000]\n",
            "loss: 1.880140  [ 1344/ 2000]\n",
            "loss: 1.762660  [ 1984/ 2000]\n",
            "********************\n",
            "Epoch 2\n",
            "loss: 1.771670  [   64/ 2000]\n",
            "loss: 1.682876  [  704/ 2000]\n",
            "loss: 1.676434  [ 1344/ 2000]\n",
            "loss: 1.614405  [ 1984/ 2000]\n",
            "********************\n",
            "Epoch 3\n",
            "loss: 1.557897  [   64/ 2000]\n",
            "loss: 1.507629  [  704/ 2000]\n",
            "loss: 1.516667  [ 1344/ 2000]\n",
            "loss: 1.375341  [ 1984/ 2000]\n",
            "********************\n",
            "Epoch 4\n",
            "loss: 1.422207  [   64/ 2000]\n",
            "loss: 1.441802  [  704/ 2000]\n",
            "loss: 1.264468  [ 1344/ 2000]\n",
            "loss: 1.266092  [ 1984/ 2000]\n",
            "********************\n",
            "Epoch 5\n",
            "loss: 1.170196  [   64/ 2000]\n",
            "loss: 1.253586  [  704/ 2000]\n",
            "loss: 1.200905  [ 1344/ 2000]\n",
            "loss: 1.238269  [ 1984/ 2000]\n",
            "********************\n",
            "Epoch 6\n",
            "loss: 1.214502  [   64/ 2000]\n",
            "loss: 1.050314  [  704/ 2000]\n",
            "loss: 1.002373  [ 1344/ 2000]\n",
            "loss: 0.998873  [ 1984/ 2000]\n",
            "********************\n",
            "Epoch 7\n",
            "loss: 1.212255  [   64/ 2000]\n",
            "loss: 1.069430  [  704/ 2000]\n",
            "loss: 0.912991  [ 1344/ 2000]\n",
            "loss: 1.024760  [ 1984/ 2000]\n",
            "********************\n",
            "Epoch 8\n",
            "loss: 0.941414  [   64/ 2000]\n",
            "loss: 0.913626  [  704/ 2000]\n",
            "loss: 0.976745  [ 1344/ 2000]\n",
            "loss: 0.936738  [ 1984/ 2000]\n",
            "********************\n",
            "Epoch 9\n",
            "loss: 0.850828  [   64/ 2000]\n",
            "loss: 0.938331  [  704/ 2000]\n",
            "loss: 1.109273  [ 1344/ 2000]\n",
            "loss: 0.776679  [ 1984/ 2000]\n",
            "********************\n"
          ]
        },
        {
          "output_type": "display_data",
          "data": {
            "text/plain": [
              "<Figure size 432x288 with 1 Axes>"
            ],
            "image/png": "[encoded data removed]"
          },
          "metadata": {
            "needs_background": "light"
          }
        },
        {
          "output_type": "display_data",
          "data": {
            "text/plain": [
              "<Figure size 432x288 with 1 Axes>"
            ],
            "image/png": "[encoded data removed]"
          },
          "metadata": {
            "needs_background": "light"
          }
        }
      ],
      "source": [
        "model = MNISTModel() #create the model\n",
        "run_gradient_descent(model, batch_size=64, learning_rate=0.01, num_epochs=10)"
      ]
    },
    {
      "cell_type": "markdown",
      "metadata": {
        "id": "tn8TFm30SUmz"
      },
      "source": [
        "<font color='red'>plot model weight for each classes</font>\n",
        "\n",
        "weight shape : (784, 10)\n",
        "\n",
        "bias shape : (1, 10)"
      ]
    },
    {
      "cell_type": "code",
      "execution_count": null,
      "metadata": {
        "id": "Dk2vNkLsSUmz",
        "colab": {
          "base_uri": "https://localhost:8080/",
          "height": 1000
        },
        "outputId": "68557940-c6d8-4241-921f-674191d75a60"
      },
      "outputs": [
        {
          "output_type": "stream",
          "name": "stdout",
          "text": [
            "weight shape: torch.Size([10, 784])\n",
            "bias shape: torch.Size([10])\n"
          ]
        },
        {
          "output_type": "display_data",
          "data": {
            "text/plain": [
              "<Figure size 432x288 with 1 Axes>"
            ],
            "image/png": "[encoded data removed]"
          },
          "metadata": {
            "needs_background": "light"
          }
        },
        {
          "output_type": "display_data",
          "data": {
            "text/plain": [
              "<Figure size 432x288 with 1 Axes>"
            ],
            "image/png": "[encoded data removed]"
          },
          "metadata": {
            "needs_background": "light"
          }
        },
        {
          "output_type": "display_data",
          "data": {
            "text/plain": [
              "<Figure size 432x288 with 1 Axes>"
            ],
            "image/png": "[encoded data removed]"
          },
          "metadata": {
            "needs_background": "light"
          }
        },
        {
          "output_type": "display_data",
          "data": {
            "text/plain": [
              "<Figure size 432x288 with 1 Axes>"
            ],
            "image/png": "[encoded data removed]"
          },
          "metadata": {
            "needs_background": "light"
          }
        },
        {
          "output_type": "display_data",
          "data": {
            "text/plain": [
              "<Figure size 432x288 with 1 Axes>"
            ],
            "image/png": "[encoded data removed]"
          },
          "metadata": {
            "needs_background": "light"
          }
        },
        {
          "output_type": "display_data",
          "data": {
            "text/plain": [
              "<Figure size 432x288 with 1 Axes>"
            ],
            "image/png": "[encoded data removed]"
          },
          "metadata": {
            "needs_background": "light"
          }
        },
        {
          "output_type": "display_data",
          "data": {
            "text/plain": [
              "<Figure size 432x288 with 1 Axes>"
            ],
            "image/png": "[encoded data removed]"
          },
          "metadata": {
            "needs_background": "light"
          }
        },
        {
          "output_type": "display_data",
          "data": {
            "text/plain": [
              "<Figure size 432x288 with 1 Axes>"
            ],
            "image/png": "[encoded data removed]"
          },
          "metadata": {
            "needs_background": "light"
          }
        },
        {
          "output_type": "display_data",
          "data": {
            "text/plain": [
              "<Figure size 432x288 with 1 Axes>"
            ],
            "image/png": "[encoded data removed]"
          },
          "metadata": {
            "needs_background": "light"
          }
        },
        {
          "output_type": "display_data",
          "data": {
            "text/plain": [
              "<Figure size 432x288 with 1 Axes>"
            ],
            "image/png": "[encoded data removed]"
          },
          "metadata": {
            "needs_background": "light"
          }
        }
      ],
      "source": [
        "w, b = model.parameters()\n",
        "\n",
        "print(\"weight shape:\", w.shape)\n",
        "print(\"bias shape:\", b.shape)\n",
        "for w_class in w:\n",
        "    w_reshaped = torch.reshape(w_class, (img_tensor.shape[1], img_tensor.shape[2]))\n",
        "    plt.imshow(w_reshaped.detach().numpy())\n",
        "    plt.show()"
      ]
    },
    {
      "cell_type": "markdown",
      "metadata": {
        "id": "egKEg31aYv4M"
      },
      "source": [
        "# **Q4:**"
      ]
    },
    {
      "cell_type": "code",
      "execution_count": null,
      "metadata": {
        "id": "S5QEM59VYzC0"
      },
      "outputs": [],
      "source": [
        "import numpy as np\n",
        "import pandas as pd\n",
        "import matplotlib.pyplot as plt\n",
        "from sklearn.linear_model import LinearRegression\n",
        "from sklearn.model_selection import train_test_split\n",
        "from sklearn.metrics import accuracy_score, mean_squared_error ,mean_absolute_error\n",
        "import torch\n",
        "import warnings\n",
        "warnings.filterwarnings('ignore')"
      ]
    },
    {
      "cell_type": "code",
      "execution_count": null,
      "metadata": {
        "id": "GscwZ4Nii1sK"
      },
      "outputs": [],
      "source": [
        "df = pd.read_csv('./ETA.csv')"
      ]
    },
    {
      "cell_type": "markdown",
      "metadata": {
        "id": "vxTiPkzBgQyO"
      },
      "source": [
        "# ب:"
      ]
    },
    {
      "cell_type": "code",
      "execution_count": null,
      "metadata": {
        "id": "6jcuft9_hcWQ",
        "colab": {
          "base_uri": "https://localhost:8080/"
        },
        "outputId": "ff74b1c4-6ae5-402a-fea4-149a0669db12"
      },
      "outputs": [
        {
          "output_type": "stream",
          "name": "stdout",
          "text": [
            "train shape torch.Size([1600, 3]) torch.Size([1600])\n",
            "test shape torch.Size([400, 3]) torch.Size([400])\n",
            "MSE train 2.827727381547115e-30\n",
            "MAE train 1.3616885397027546e-15\n",
            "MSE test 2.8330891705122892e-30\n",
            "MAE test 1.3786194408282882e-15\n"
          ]
        }
      ],
      "source": [
        "# 1-define X & Y then split train and test\n",
        "# 2-define linear regression model\n",
        "# 3-perdict y_pred\n",
        "# 4-print MSE & MAE\n",
        "#############################\n",
        "      #input your code\n",
        "#############################\n",
        "\n",
        "# prepare data\n",
        "x0 = torch.tensor(df['distance'] / df['speed'])\n",
        "x1 = torch.tensor(df['traffic'])\n",
        "x2 = torch.tensor(df['weather_conditions'])\n",
        "X = torch.cat((torch.unsqueeze(x0, dim=1), torch.unsqueeze(x1, dim=1), torch.unsqueeze(x2, dim=1)), 1)\n",
        "y = torch.tensor(df['Time_Arrival'])\n",
        "\n",
        "# split into train and test\n",
        "X_train, X_test, y_train, y_test = train_test_split(X, y, test_size=0.2, random_state=4)\n",
        "print(\"train shape\", X_train.shape, y_train.shape)\n",
        "print(\"test shape\", X_test.shape, y_test.shape)\n",
        "\n",
        "# linear regression model\n",
        "reg = LinearRegression().fit(X_train, y_train)\n",
        "train_prediction = reg.predict(X_train)\n",
        "train_mse = mean_squared_error(y_train, train_prediction)\n",
        "train_mae = mean_absolute_error(y_train, train_prediction)\n",
        "print(\"MSE train\", train_mse)\n",
        "print(\"MAE train\", train_mae)\n",
        "\n",
        "# predict on test data\n",
        "test_prediction = reg.predict(X_test)\n",
        "test_mse = mean_squared_error(y_test, test_prediction)\n",
        "test_mae = mean_absolute_error(y_test, test_prediction)\n",
        "print(\"MSE test\", test_mse)\n",
        "print(\"MAE test\", test_mae)"
      ]
    },
    {
      "cell_type": "code",
      "execution_count": null,
      "metadata": {
        "id": "uLc04yNUgPdY"
      },
      "outputs": [],
      "source": [
        "# initialize parameter\n",
        "w0 = torch.tensor(10.0, requires_grad=True)\n",
        "w1 = torch.tensor(15.0, requires_grad=True)\n",
        "w2 = torch.tensor(-10.0, requires_grad=True)\n",
        "b = torch.tensor(-20.0, requires_grad=True)\n",
        "step_size = 0.006  #  for optimiser GD\n",
        "epoch = 3500"
      ]
    },
    {
      "cell_type": "markdown",
      "source": [
        "Train model using MSE loss"
      ],
      "metadata": {
        "id": "zJ9zxz6mF_71"
      }
    },
    {
      "cell_type": "code",
      "execution_count": null,
      "metadata": {
        "id": "OvGIKMolgP83",
        "colab": {
          "base_uri": "https://localhost:8080/"
        },
        "outputId": "3eb91f89-bfee-4abe-8f13-a8be962792f6"
      },
      "outputs": [
        {
          "output_type": "stream",
          "name": "stdout",
          "text": [
            "Epoch 0: train MSE loss 17122.408552746467\n",
            "Epoch 100: train MSE loss 32.67808298479283\n",
            "Epoch 200: train MSE loss 27.2307204665066\n",
            "Epoch 300: train MSE loss 23.232975078686465\n",
            "Epoch 400: train MSE loss 20.103561670961902\n",
            "Epoch 500: train MSE loss 17.540723378720344\n",
            "Epoch 600: train MSE loss 15.380171379624729\n",
            "Epoch 700: train MSE loss 13.526364706908153\n",
            "Epoch 800: train MSE loss 11.918950455492368\n",
            "Epoch 900: train MSE loss 10.516482270275016\n",
            "Epoch 1000: train MSE loss 9.288173153023381\n",
            "Epoch 1100: train MSE loss 8.20981642801157\n",
            "Epoch 1200: train MSE loss 7.26156505507573\n",
            "Epoch 1300: train MSE loss 6.42672416945466\n",
            "Epoch 1400: train MSE loss 5.691043296723006\n",
            "Epoch 1500: train MSE loss 5.042224981038125\n",
            "Epoch 1600: train MSE loss 4.469609484386546\n",
            "Epoch 1700: train MSE loss 3.9639119418398674\n",
            "Epoch 1800: train MSE loss 3.5170376448878113\n",
            "Epoch 1900: train MSE loss 3.121912840665345\n",
            "Epoch 2000: train MSE loss 2.772349370704901\n",
            "Epoch 2100: train MSE loss 2.462922576001187\n",
            "Epoch 2200: train MSE loss 2.188883256331293\n",
            "Epoch 2300: train MSE loss 1.9460616846786372\n",
            "Epoch 2400: train MSE loss 1.7307949749030798\n",
            "Epoch 2500: train MSE loss 1.5398670800661471\n",
            "Epoch 2600: train MSE loss 1.3704509489051362\n",
            "Epoch 2700: train MSE loss 1.2200565469371665\n",
            "Epoch 2800: train MSE loss 1.0864922343835877\n",
            "Epoch 2900: train MSE loss 0.9678274499743925\n",
            "Epoch 3000: train MSE loss 0.8623593072499852\n",
            "Epoch 3100: train MSE loss 0.7685846268885657\n",
            "Epoch 3200: train MSE loss 0.6851781728509962\n",
            "Epoch 3300: train MSE loss 0.6109682229045658\n",
            "Epoch 3400: train MSE loss 0.5449196767936839\n",
            "test MSE loss tensor(0.5016, dtype=torch.float64, grad_fn=<MeanBackward0>)\n"
          ]
        }
      ],
      "source": [
        "# 1-difine X & Y \n",
        "# 2-defin forward & loss function\n",
        "# 3-write train loop\n",
        "# 4-print MSE & MAE\n",
        "# 5-plot loss\n",
        "#############################\n",
        "      #input your code\n",
        "#############################\n",
        "\n",
        "# prepare data\n",
        "x0 = torch.tensor(df['distance'] / df['speed'])\n",
        "x1 = torch.tensor(df['traffic'])\n",
        "x2 = torch.tensor(df['weather_conditions'])\n",
        "X = torch.cat((torch.unsqueeze(x0, dim=1), torch.unsqueeze(x1, dim=1), torch.unsqueeze(x2, dim=1)), 1)\n",
        "y = torch.tensor(df['Time_Arrival'])\n",
        "\n",
        "# split into train and test\n",
        "X_train, X_test, y_train, y_test = train_test_split(X, y, test_size=0.2, random_state=4)\n",
        "\n",
        "def mse_loss(output, target):\n",
        "    loss = torch.mean((output - target)**2)\n",
        "    return loss\n",
        "\n",
        "\n",
        "for e in range(epoch):\n",
        "    output = X_train.T[0] * w0 + X_train.T[1] * w1 + X_train.T[2] * w2 + b\n",
        "    # MSE loss function\n",
        "    loss = mse_loss(output, y_train)\n",
        "    if e % 100 == 0:\n",
        "        print(f\"Epoch {e}: train MSE loss {loss}\")\n",
        "\n",
        "    # calculate gradients\n",
        "    loss.backward()\n",
        "    # update parameters\n",
        "    with torch.no_grad():\n",
        "        w0 -= step_size * w0.grad\n",
        "        w1 -= step_size * w1.grad\n",
        "        w2 -= step_size * w2.grad\n",
        "        b -= step_size * b.grad\n",
        "\n",
        "    # zero the gradients\n",
        "    w0.grad.zero_()\n",
        "    w1.grad.zero_()\n",
        "    w2.grad.zero_()\n",
        "    b.grad.zero_()\n",
        "\n",
        "test_prediction = X_test.T[0] * w0 + X_test.T[1] * w1 + X_test.T[2] * w2 + b\n",
        "print(\"test MSE loss\", mse_loss(test_prediction, y_test))"
      ]
    },
    {
      "cell_type": "markdown",
      "source": [
        "Train model using MAE loss"
      ],
      "metadata": {
        "id": "_nGTxdXjGFf3"
      }
    },
    {
      "cell_type": "code",
      "execution_count": null,
      "metadata": {
        "id": "1lRh6XFE_9YD"
      },
      "outputs": [],
      "source": [
        "# initialize parameter\n",
        "w0 = torch.tensor(10.0, requires_grad=True)\n",
        "w1 = torch.tensor(15.0, requires_grad=True)\n",
        "w2 = torch.tensor(-10.0, requires_grad=True)\n",
        "b = torch.tensor(-20.0, requires_grad=True)\n",
        "step_size = 0.006  #  for optimiser GD\n",
        "epoch = 3500"
      ]
    },
    {
      "cell_type": "code",
      "source": [
        "# prepare data\n",
        "x0 = torch.tensor(df['distance'] / df['speed'])\n",
        "x1 = torch.tensor(df['traffic'])\n",
        "x2 = torch.tensor(df['weather_conditions'])\n",
        "X = torch.cat((torch.unsqueeze(x0, dim=1), torch.unsqueeze(x1, dim=1), torch.unsqueeze(x2, dim=1)), 1)\n",
        "y = torch.tensor(df['Time_Arrival'])\n",
        "\n",
        "# split into train and test\n",
        "X_train, X_test, y_train, y_test = train_test_split(X, y, test_size=0.2, random_state=4)\n",
        "\n",
        "def mae_loss(output, target):\n",
        "    loss = torch.mean(torch.abs(output - target))\n",
        "    return loss\n",
        "\n",
        "\n",
        "for e in range(epoch):\n",
        "    output = X_train.T[0] * w0 + X_train.T[1] * w1 + X_train.T[2] * w2 + b\n",
        "    # MAE loss function\n",
        "    loss = mae_loss(output, y_train)\n",
        "    if e % 100 == 0:\n",
        "        print(f\"Epoch {e}: train MAE loss {loss}\")\n",
        "\n",
        "    # calculate gradients\n",
        "    loss.backward()\n",
        "    # update parameters\n",
        "    with torch.no_grad():\n",
        "        w0 -= step_size * w0.grad\n",
        "        w1 -= step_size * w1.grad\n",
        "        w2 -= step_size * w2.grad\n",
        "        b -= step_size * b.grad\n",
        "\n",
        "    # zero the gradients\n",
        "    w0.grad.zero_()\n",
        "    w1.grad.zero_()\n",
        "    w2.grad.zero_()\n",
        "    b.grad.zero_()\n",
        "\n",
        "test_prediction = X_test.T[0] * w0 + X_test.T[1] * w1 + X_test.T[2] * w2 + b\n",
        "print(\"test MAE loss\", mae_loss(test_prediction, y_test))"
      ],
      "metadata": {
        "colab": {
          "base_uri": "https://localhost:8080/"
        },
        "id": "T30M2wq1xzRf",
        "outputId": "7338b560-b63e-49c3-a2e5-cc3a27ac62df"
      },
      "execution_count": null,
      "outputs": [
        {
          "output_type": "stream",
          "name": "stdout",
          "text": [
            "Epoch 0: train MAE loss 118.88770880901967\n",
            "Epoch 100: train MAE loss 48.277304796914635\n",
            "Epoch 200: train MAE loss 5.124812519464308\n",
            "Epoch 300: train MAE loss 5.085509007187506\n",
            "Epoch 400: train MAE loss 5.046660001991217\n",
            "Epoch 500: train MAE loss 5.00829776107772\n",
            "Epoch 600: train MAE loss 4.970594210321275\n",
            "Epoch 700: train MAE loss 4.933638137807737\n",
            "Epoch 800: train MAE loss 4.897210820971126\n",
            "Epoch 900: train MAE loss 4.861437356872408\n",
            "Epoch 1000: train MAE loss 4.826178363048609\n",
            "Epoch 1100: train MAE loss 4.7915538308930685\n",
            "Epoch 1200: train MAE loss 4.757496340540033\n",
            "Epoch 1300: train MAE loss 4.724047644833389\n",
            "Epoch 1400: train MAE loss 4.690739737955052\n",
            "Epoch 1500: train MAE loss 4.658053458304512\n",
            "Epoch 1600: train MAE loss 4.625683446305234\n",
            "Epoch 1700: train MAE loss 4.594087546661146\n",
            "Epoch 1800: train MAE loss 4.56303647805294\n",
            "Epoch 1900: train MAE loss 4.5323453770740025\n",
            "Epoch 2000: train MAE loss 4.502028043237629\n",
            "Epoch 2100: train MAE loss 4.471983263135915\n",
            "Epoch 2200: train MAE loss 4.442340375175237\n",
            "Epoch 2300: train MAE loss 4.412972959628217\n",
            "Epoch 2400: train MAE loss 4.3840512741625535\n",
            "Epoch 2500: train MAE loss 4.355613398342025\n",
            "Epoch 2600: train MAE loss 4.327584027179052\n",
            "Epoch 2700: train MAE loss 4.299590320450364\n",
            "Epoch 2800: train MAE loss 4.2717573855969135\n",
            "Epoch 2900: train MAE loss 4.2442285844623555\n",
            "Epoch 3000: train MAE loss 4.2170274237998475\n",
            "Epoch 3100: train MAE loss 4.190354574000582\n",
            "Epoch 3200: train MAE loss 4.163896581341054\n",
            "Epoch 3300: train MAE loss 4.137517424438196\n",
            "Epoch 3400: train MAE loss 4.1114178849552\n",
            "test MAE loss tensor(4.0898, dtype=torch.float64, grad_fn=<MeanBackward0>)\n"
          ]
        }
      ]
    },
    {
      "cell_type": "markdown",
      "metadata": {
        "id": "TY6sVDSMi482"
      },
      "source": [
        "# ج:"
      ]
    },
    {
      "cell_type": "code",
      "execution_count": null,
      "metadata": {
        "id": "puqYxsHli87V"
      },
      "outputs": [],
      "source": [
        "step_size = 0.006  #  for optimiser GD\n",
        "epoch = 3500"
      ]
    },
    {
      "cell_type": "code",
      "execution_count": null,
      "metadata": {
        "id": "22SG0rzZjCaX"
      },
      "outputs": [],
      "source": [
        "# 1-difine X & Y \n",
        "# 2-define subset of data\n",
        "# 3-write train loop\n",
        "# 4-plot & analysis w0,w1,w2,b,loss\n",
        "#############################\n",
        "      #input your code\n",
        "#############################\n",
        "import random \n",
        "\n",
        "# prepare data\n",
        "x0 = torch.tensor(df['distance'] / df['speed'])\n",
        "x1 = torch.tensor(df['traffic'])\n",
        "x2 = torch.tensor(df['weather_conditions'])\n",
        "X = torch.cat((torch.unsqueeze(x0, dim=1), torch.unsqueeze(x1, dim=1), torch.unsqueeze(x2, dim=1)), 1)\n",
        "y = torch.tensor(df['Time_Arrival'])\n",
        "\n",
        "indices = list(range(X.shape[0]))\n",
        "w0_experiments = []\n",
        "w1_experiments = []\n",
        "w2_experiments = []\n",
        "b_experiments = []\n",
        "\n",
        "def mse_loss(output, target):\n",
        "    loss = torch.mean((output - target)**2)\n",
        "    return loss\n",
        "\n",
        "for experiment in range(100):\n",
        "    rnd_indices = random.sample(indices, 300)\n",
        "    X_train = X[rnd_indices]\n",
        "    y_train = y[rnd_indices]\n",
        "\n",
        "    # reinitialize parameters\n",
        "    w0 = torch.tensor(10.0, requires_grad=True)\n",
        "    w1 = torch.tensor(15.0, requires_grad=True)\n",
        "    w2 = torch.tensor(-10.0, requires_grad=True)\n",
        "    b = torch.tensor(-20.0, requires_grad=True)\n",
        "\n",
        "    for e in range(epoch):\n",
        "        output = X_train.T[0] * w0 + X_train.T[1] * w1 + X_train.T[2] * w2 + b\n",
        "        # MSE loss function\n",
        "        loss = mse_loss(output, y_train)\n",
        "\n",
        "        # calculate gradients\n",
        "        loss.backward()\n",
        "        # update parameters\n",
        "        with torch.no_grad():\n",
        "            w0 -= step_size * w0.grad\n",
        "            w1 -= step_size * w1.grad\n",
        "            w2 -= step_size * w2.grad\n",
        "            b -= step_size * b.grad\n",
        "\n",
        "        # zero the gradients\n",
        "        w0.grad.zero_()\n",
        "        w1.grad.zero_()\n",
        "        w2.grad.zero_()\n",
        "        b.grad.zero_()\n",
        "\n",
        "    w0_experiments.append(w0)\n",
        "    w1_experiments.append(w1)\n",
        "    w2_experiments.append(w2)\n",
        "    b_experiments.append(b)"
      ]
    },
    {
      "cell_type": "code",
      "source": [
        "def plot_weights(weight, title):\n",
        "    w = [x.detach().numpy() for x in weight]\n",
        "    avg = np.mean(w)\n",
        "    var = np.var(w)\n",
        "    print(f'{title} average: {avg}, variance: {var}', '\\n')\n",
        "\n",
        "    plt.plot(w)\n",
        "    plt.xlabel(\"experiment\")\n",
        "    plt.ylabel(title)\n",
        "    plt.show()\n",
        "\n",
        "    print('\\n')\n",
        "\n",
        "plot_weights(w0_experiments, \"w0\")\n",
        "plot_weights(w1_experiments, \"w1\")\n",
        "plot_weights(w2_experiments, \"w2\")\n",
        "plot_weights(b_experiments, \"b\")"
      ],
      "metadata": {
        "id": "DGjt3V2_NSkf",
        "colab": {
          "base_uri": "https://localhost:8080/",
          "height": 1000
        },
        "outputId": "87340d5b-0393-4e98-a14d-9d1d67df1479"
      },
      "execution_count": null,
      "outputs": [
        {
          "output_type": "stream",
          "name": "stdout",
          "text": [
            "w0 average: 3.6332008838653564, variance: 0.13029105961322784 \n",
            "\n"
          ]
        },
        {
          "output_type": "display_data",
          "data": {
            "text/plain": [
              "<Figure size 432x288 with 1 Axes>"
            ],
            "image/png": "[encoded data removed]"
          },
          "metadata": {
            "needs_background": "light"
          }
        },
        {
          "output_type": "stream",
          "name": "stdout",
          "text": [
            "\n",
            "\n",
            "w1 average: 3.186239242553711, variance: 0.05484401062130928 \n",
            "\n"
          ]
        },
        {
          "output_type": "display_data",
          "data": {
            "text/plain": [
              "<Figure size 432x288 with 1 Axes>"
            ],
            "image/png": "[encoded data removed]"
          },
          "metadata": {
            "needs_background": "light"
          }
        },
        {
          "output_type": "stream",
          "name": "stdout",
          "text": [
            "\n",
            "\n",
            "w2 average: 0.03417643532156944, variance: 7.26003127056174e-05 \n",
            "\n"
          ]
        },
        {
          "output_type": "display_data",
          "data": {
            "text/plain": [
              "<Figure size 432x288 with 1 Axes>"
            ],
            "image/png": "[encoded data removed]"
          },
          "metadata": {
            "needs_background": "light"
          }
        },
        {
          "output_type": "stream",
          "name": "stdout",
          "text": [
            "\n",
            "\n",
            "b average: -1.2790424823760986, variance: 0.08018049597740173 \n",
            "\n"
          ]
        },
        {
          "output_type": "display_data",
          "data": {
            "text/plain": [
              "<Figure size 432x288 with 1 Axes>"
            ],
            "image/png": "[encoded data removed]"
          },
          "metadata": {
            "needs_background": "light"
          }
        },
        {
          "output_type": "stream",
          "name": "stdout",
          "text": [
            "\n",
            "\n"
          ]
        }
      ]
    },
    {
      "cell_type": "markdown",
      "metadata": {
        "id": "YMsoXyve_-kE"
      },
      "source": [
        "# Q5"
      ]
    },
    {
      "cell_type": "markdown",
      "metadata": {
        "id": "_LIs9MZn_-kE"
      },
      "source": [
        "Write all the parts yourself"
      ]
    },
    {
      "cell_type": "markdown",
      "metadata": {
        "id": "s_csICpm_-kF"
      },
      "source": [
        "# ت:"
      ]
    },
    {
      "cell_type": "code",
      "execution_count": null,
      "metadata": {
        "id": "Dp68SW-c_-kF",
        "colab": {
          "base_uri": "https://localhost:8080/",
          "height": 270
        },
        "outputId": "ea1ab913-0680-49cc-f32f-e91dff18f4e8"
      },
      "outputs": [
        {
          "output_type": "execute_result",
          "data": {
            "text/plain": [
              "   male  age  education  currentSmoker  cigsPerDay  BPMeds  prevalentStroke  \\\n",
              "0     1   39        4.0              0         0.0     0.0                0   \n",
              "1     0   46        2.0              0         0.0     0.0                0   \n",
              "2     1   48        1.0              1        20.0     0.0                0   \n",
              "3     0   61        3.0              1        30.0     0.0                0   \n",
              "4     0   46        3.0              1        23.0     0.0                0   \n",
              "\n",
              "   prevalentHyp  diabetes  totChol  sysBP  diaBP    BMI  heartRate  glucose  \\\n",
              "0             0         0    195.0  106.0   70.0  26.97       80.0     77.0   \n",
              "1             0         0    250.0  121.0   81.0  28.73       95.0     76.0   \n",
              "2             0         0    245.0  127.5   80.0  25.34       75.0     70.0   \n",
              "3             1         0    225.0  150.0   95.0  28.58       65.0    103.0   \n",
              "4             0         0    285.0  130.0   84.0  23.10       85.0     85.0   \n",
              "\n",
              "   TenYearCHD  \n",
              "0           0  \n",
              "1           0  \n",
              "2           0  \n",
              "3           1  \n",
              "4           0  "
            ],
            "text/html": [
              "\n",
              "  <div id=\"df-b3c4dca8-866f-4727-90b4-b78d5fee7726\">\n",
              "    <div class=\"colab-df-container\">\n",
              "      <div>\n",
              "<style scoped>\n",
              "    .dataframe tbody tr th:only-of-type {\n",
              "        vertical-align: middle;\n",
              "    }\n",
              "\n",
              "    .dataframe tbody tr th {\n",
              "        vertical-align: top;\n",
              "    }\n",
              "\n",
              "    .dataframe thead th {\n",
              "        text-align: right;\n",
              "    }\n",
              "</style>\n",
              "<table border=\"1\" class=\"dataframe\">\n",
              "  <thead>\n",
              "    <tr style=\"text-align: right;\">\n",
              "      <th></th>\n",
              "      <th>male</th>\n",
              "      <th>age</th>\n",
              "      <th>education</th>\n",
              "      <th>currentSmoker</th>\n",
              "      <th>cigsPerDay</th>\n",
              "      <th>BPMeds</th>\n",
              "      <th>prevalentStroke</th>\n",
              "      <th>prevalentHyp</th>\n",
              "      <th>diabetes</th>\n",
              "      <th>totChol</th>\n",
              "      <th>sysBP</th>\n",
              "      <th>diaBP</th>\n",
              "      <th>BMI</th>\n",
              "      <th>heartRate</th>\n",
              "      <th>glucose</th>\n",
              "      <th>TenYearCHD</th>\n",
              "    </tr>\n",
              "  </thead>\n",
              "  <tbody>\n",
              "    <tr>\n",
              "      <th>0</th>\n",
              "      <td>1</td>\n",
              "      <td>39</td>\n",
              "      <td>4.0</td>\n",
              "      <td>0</td>\n",
              "      <td>0.0</td>\n",
              "      <td>0.0</td>\n",
              "      <td>0</td>\n",
              "      <td>0</td>\n",
              "      <td>0</td>\n",
              "      <td>195.0</td>\n",
              "      <td>106.0</td>\n",
              "      <td>70.0</td>\n",
              "      <td>26.97</td>\n",
              "      <td>80.0</td>\n",
              "      <td>77.0</td>\n",
              "      <td>0</td>\n",
              "    </tr>\n",
              "    <tr>\n",
              "      <th>1</th>\n",
              "      <td>0</td>\n",
              "      <td>46</td>\n",
              "      <td>2.0</td>\n",
              "      <td>0</td>\n",
              "      <td>0.0</td>\n",
              "      <td>0.0</td>\n",
              "      <td>0</td>\n",
              "      <td>0</td>\n",
              "      <td>0</td>\n",
              "      <td>250.0</td>\n",
              "      <td>121.0</td>\n",
              "      <td>81.0</td>\n",
              "      <td>28.73</td>\n",
              "      <td>95.0</td>\n",
              "      <td>76.0</td>\n",
              "      <td>0</td>\n",
              "    </tr>\n",
              "    <tr>\n",
              "      <th>2</th>\n",
              "      <td>1</td>\n",
              "      <td>48</td>\n",
              "      <td>1.0</td>\n",
              "      <td>1</td>\n",
              "      <td>20.0</td>\n",
              "      <td>0.0</td>\n",
              "      <td>0</td>\n",
              "      <td>0</td>\n",
              "      <td>0</td>\n",
              "      <td>245.0</td>\n",
              "      <td>127.5</td>\n",
              "      <td>80.0</td>\n",
              "      <td>25.34</td>\n",
              "      <td>75.0</td>\n",
              "      <td>70.0</td>\n",
              "      <td>0</td>\n",
              "    </tr>\n",
              "    <tr>\n",
              "      <th>3</th>\n",
              "      <td>0</td>\n",
              "      <td>61</td>\n",
              "      <td>3.0</td>\n",
              "      <td>1</td>\n",
              "      <td>30.0</td>\n",
              "      <td>0.0</td>\n",
              "      <td>0</td>\n",
              "      <td>1</td>\n",
              "      <td>0</td>\n",
              "      <td>225.0</td>\n",
              "      <td>150.0</td>\n",
              "      <td>95.0</td>\n",
              "      <td>28.58</td>\n",
              "      <td>65.0</td>\n",
              "      <td>103.0</td>\n",
              "      <td>1</td>\n",
              "    </tr>\n",
              "    <tr>\n",
              "      <th>4</th>\n",
              "      <td>0</td>\n",
              "      <td>46</td>\n",
              "      <td>3.0</td>\n",
              "      <td>1</td>\n",
              "      <td>23.0</td>\n",
              "      <td>0.0</td>\n",
              "      <td>0</td>\n",
              "      <td>0</td>\n",
              "      <td>0</td>\n",
              "      <td>285.0</td>\n",
              "      <td>130.0</td>\n",
              "      <td>84.0</td>\n",
              "      <td>23.10</td>\n",
              "      <td>85.0</td>\n",
              "      <td>85.0</td>\n",
              "      <td>0</td>\n",
              "    </tr>\n",
              "  </tbody>\n",
              "</table>\n",
              "</div>\n",
              "      <button class=\"colab-df-convert\" onclick=\"convertToInteractive('df-b3c4dca8-866f-4727-90b4-b78d5fee7726')\"\n",
              "              title=\"Convert this dataframe to an interactive table.\"\n",
              "              style=\"display:none;\">\n",
              "        \n",
              "  <svg xmlns=\"http://www.w3.org/2000/svg\" height=\"24px\"viewBox=\"0 0 24 24\"\n",
              "       width=\"24px\">\n",
              "    <path d=\"M0 0h24v24H0V0z\" fill=\"none\"/>\n",
              "    <path d=\"M18.56 5.44l.94 2.06.94-2.06 2.06-.94-2.06-.94-.94-2.06-.94 2.06-2.06.94zm-11 1L8.5 8.5l.94-2.06 2.06-.94-2.06-.94L8.5 2.5l-.94 2.06-2.06.94zm10 10l.94 2.06.94-2.06 2.06-.94-2.06-.94-.94-2.06-.94 2.06-2.06.94z\"/><path d=\"M17.41 7.96l-1.37-1.37c-.4-.4-.92-.59-1.43-.59-.52 0-1.04.2-1.43.59L10.3 9.45l-7.72 7.72c-.78.78-.78 2.05 0 2.83L4 21.41c.39.39.9.59 1.41.59.51 0 1.02-.2 1.41-.59l7.78-7.78 2.81-2.81c.8-.78.8-2.07 0-2.86zM5.41 20L4 18.59l7.72-7.72 1.47 1.35L5.41 20z\"/>\n",
              "  </svg>\n",
              "      </button>\n",
              "      \n",
              "  <style>\n",
              "    .colab-df-container {\n",
              "      display:flex;\n",
              "      flex-wrap:wrap;\n",
              "      gap: 12px;\n",
              "    }\n",
              "\n",
              "    .colab-df-convert {\n",
              "      background-color: #E8F0FE;\n",
              "      border: none;\n",
              "      border-radius: 50%;\n",
              "      cursor: pointer;\n",
              "      display: none;\n",
              "      fill: #1967D2;\n",
              "      height: 32px;\n",
              "      padding: 0 0 0 0;\n",
              "      width: 32px;\n",
              "    }\n",
              "\n",
              "    .colab-df-convert:hover {\n",
              "      background-color: #E2EBFA;\n",
              "      box-shadow: 0px 1px 2px rgba(60, 64, 67, 0.3), 0px 1px 3px 1px rgba(60, 64, 67, 0.15);\n",
              "      fill: #174EA6;\n",
              "    }\n",
              "\n",
              "    [theme=dark] .colab-df-convert {\n",
              "      background-color: #3B4455;\n",
              "      fill: #D2E3FC;\n",
              "    }\n",
              "\n",
              "    [theme=dark] .colab-df-convert:hover {\n",
              "      background-color: #434B5C;\n",
              "      box-shadow: 0px 1px 3px 1px rgba(0, 0, 0, 0.15);\n",
              "      filter: drop-shadow(0px 1px 2px rgba(0, 0, 0, 0.3));\n",
              "      fill: #FFFFFF;\n",
              "    }\n",
              "  </style>\n",
              "\n",
              "      <script>\n",
              "        const buttonEl =\n",
              "          document.querySelector('#df-b3c4dca8-866f-4727-90b4-b78d5fee7726 button.colab-df-convert');\n",
              "        buttonEl.style.display =\n",
              "          google.colab.kernel.accessAllowed ? 'block' : 'none';\n",
              "\n",
              "        async function convertToInteractive(key) {\n",
              "          const element = document.querySelector('#df-b3c4dca8-866f-4727-90b4-b78d5fee7726');\n",
              "          const dataTable =\n",
              "            await google.colab.kernel.invokeFunction('convertToInteractive',\n",
              "                                                     [key], {});\n",
              "          if (!dataTable) return;\n",
              "\n",
              "          const docLinkHtml = 'Like what you see? Visit the ' +\n",
              "            '<a target=\"_blank\" href=https://colab.research.google.com/notebooks/data_table.ipynb>data table notebook</a>'\n",
              "            + ' to learn more about interactive tables.';\n",
              "          element.innerHTML = '';\n",
              "          dataTable['output_type'] = 'display_data';\n",
              "          await google.colab.output.renderOutput(dataTable, element);\n",
              "          const docLink = document.createElement('div');\n",
              "          docLink.innerHTML = docLinkHtml;\n",
              "          element.appendChild(docLink);\n",
              "        }\n",
              "      </script>\n",
              "    </div>\n",
              "  </div>\n",
              "  "
            ]
          },
          "metadata": {},
          "execution_count": 7
        }
      ],
      "source": [
        "df_disease = pd.read_csv('./heart_disease.csv')\n",
        "df_disease.head()"
      ]
    },
    {
      "cell_type": "code",
      "source": [
        "# prepocess data and delete null rows\n",
        "new_df_disease = df_disease.dropna()\n",
        "print(\"data rows:\", df_disease.shape[0])\n",
        "print(\"data rows after preprocess:\", new_df_disease.shape[0])"
      ],
      "metadata": {
        "colab": {
          "base_uri": "https://localhost:8080/"
        },
        "id": "bqccfW7EFOg1",
        "outputId": "d27e9f56-ccce-4b6a-f52c-5fdf719f50af"
      },
      "execution_count": null,
      "outputs": [
        {
          "output_type": "stream",
          "name": "stdout",
          "text": [
            "data rows: 4238\n",
            "data rows after preprocess: 3656\n"
          ]
        }
      ]
    },
    {
      "cell_type": "code",
      "source": [
        "from sklearn.linear_model import LogisticRegression\n",
        "\n",
        "X = new_df_disease.drop('TenYearCHD', axis=1)\n",
        "y = new_df_disease['TenYearCHD']\n",
        "X_train, X_test, y_train, y_test = train_test_split(X, y, test_size=0.2, random_state=4)\n",
        "clf = LogisticRegression(random_state=0).fit(X_train, y_train)"
      ],
      "metadata": {
        "id": "FoQ3tA9Xg1m6"
      },
      "execution_count": null,
      "outputs": []
    },
    {
      "cell_type": "code",
      "source": [
        "train_acc = clf.score(X_train, y_train)\n",
        "test_acc = clf.score(X_test, y_test)\n",
        "\n",
        "print(\"train data accuracy\", train_acc)\n",
        "print(\"test data accuracy\", test_acc)"
      ],
      "metadata": {
        "colab": {
          "base_uri": "https://localhost:8080/"
        },
        "id": "1mxijaM8G5-m",
        "outputId": "5a3c93c6-9a26-47c0-f152-c93a1005d7ae"
      },
      "execution_count": null,
      "outputs": [
        {
          "output_type": "stream",
          "name": "stdout",
          "text": [
            "train data accuracy 0.8512311901504788\n",
            "test data accuracy 0.8387978142076503\n"
          ]
        }
      ]
    }
  ],
  "metadata": {
    "colab": {
      "collapsed_sections": [
        "POtuoma8YjKB",
        "6GlQi7SyEPUw"
      ],
      "provenance": []
    },
    "kernelspec": {
      "display_name": "base",
      "language": "python",
      "name": "python3"
    },
    "language_info": {
      "name": "python",
      "version": "3.8.5 (default, Sep  3 2020, 21:29:08) [MSC v.1916 64 bit (AMD64)]"
    },
    "vscode": {
      "interpreter": {
        "hash": "23bf0724a01b6ea9814e66f76182ea78c0ee849a72ca257c0e116bf83bb4960a"
      }
    },
    "widgets": {
      "application/vnd.jupyter.widget-state+json": {
        "e33bf35657524681b00ecd3f7dee5f58": {
          "model_module": "@jupyter-widgets/controls",
          "model_name": "HBoxModel",
          "model_module_version": "1.5.0",
          "state": {
            "_dom_classes": [],
            "_model_module": "@jupyter-widgets/controls",
            "_model_module_version": "1.5.0",
            "_model_name": "HBoxModel",
            "_view_count": null,
            "_view_module": "@jupyter-widgets/controls",
            "_view_module_version": "1.5.0",
            "_view_name": "HBoxView",
            "box_style": "",
            "children": [
              "IPY_MODEL_cf548dfa224e46fcb04d20db44062442",
              "IPY_MODEL_fb5fe4f1726f4b439850a1460c8665f4",
              "IPY_MODEL_d96ec3929375495ca702d6ce41d61989"
            ],
            "layout": "IPY_MODEL_a56ced8ba1b94205bbbe776b73a5e51e"
          }
        },
        "cf548dfa224e46fcb04d20db44062442": {
          "model_module": "@jupyter-widgets/controls",
          "model_name": "HTMLModel",
          "model_module_version": "1.5.0",
          "state": {
            "_dom_classes": [],
            "_model_module": "@jupyter-widgets/controls",
            "_model_module_version": "1.5.0",
            "_model_name": "HTMLModel",
            "_view_count": null,
            "_view_module": "@jupyter-widgets/controls",
            "_view_module_version": "1.5.0",
            "_view_name": "HTMLView",
            "description": "",
            "description_tooltip": null,
            "layout": "IPY_MODEL_fd5a962054304c439b94f92531a0e904",
            "placeholder": "​",
            "style": "IPY_MODEL_712dbd76a96544508a04d6c26aabd7ee",
            "value": "100%"
          }
        },
        "fb5fe4f1726f4b439850a1460c8665f4": {
          "model_module": "@jupyter-widgets/controls",
          "model_name": "FloatProgressModel",
          "model_module_version": "1.5.0",
          "state": {
            "_dom_classes": [],
            "_model_module": "@jupyter-widgets/controls",
            "_model_module_version": "1.5.0",
            "_model_name": "FloatProgressModel",
            "_view_count": null,
            "_view_module": "@jupyter-widgets/controls",
            "_view_module_version": "1.5.0",
            "_view_name": "ProgressView",
            "bar_style": "success",
            "description": "",
            "description_tooltip": null,
            "layout": "IPY_MODEL_ba1caca230e24ba8a0882dffa0ac98d0",
            "max": 9912422,
            "min": 0,
            "orientation": "horizontal",
            "style": "IPY_MODEL_e43d0a569d184257a639df37479272e1",
            "value": 9912422
          }
        },
        "d96ec3929375495ca702d6ce41d61989": {
          "model_module": "@jupyter-widgets/controls",
          "model_name": "HTMLModel",
          "model_module_version": "1.5.0",
          "state": {
            "_dom_classes": [],
            "_model_module": "@jupyter-widgets/controls",
            "_model_module_version": "1.5.0",
            "_model_name": "HTMLModel",
            "_view_count": null,
            "_view_module": "@jupyter-widgets/controls",
            "_view_module_version": "1.5.0",
            "_view_name": "HTMLView",
            "description": "",
            "description_tooltip": null,
            "layout": "IPY_MODEL_badf81bb813248c98abc34a103cd5802",
            "placeholder": "​",
            "style": "IPY_MODEL_35767ab49bd04846aa9090de839b7b14",
            "value": " 9912422/9912422 [00:00&lt;00:00, 12242505.12it/s]"
          }
        },
        "a56ced8ba1b94205bbbe776b73a5e51e": {
          "model_module": "@jupyter-widgets/base",
          "model_name": "LayoutModel",
          "model_module_version": "1.2.0",
          "state": {
            "_model_module": "@jupyter-widgets/base",
            "_model_module_version": "1.2.0",
            "_model_name": "LayoutModel",
            "_view_count": null,
            "_view_module": "@jupyter-widgets/base",
            "_view_module_version": "1.2.0",
            "_view_name": "LayoutView",
            "align_content": null,
            "align_items": null,
            "align_self": null,
            "border": null,
            "bottom": null,
            "display": null,
            "flex": null,
            "flex_flow": null,
            "grid_area": null,
            "grid_auto_columns": null,
            "grid_auto_flow": null,
            "grid_auto_rows": null,
            "grid_column": null,
            "grid_gap": null,
            "grid_row": null,
            "grid_template_areas": null,
            "grid_template_columns": null,
            "grid_template_rows": null,
            "height": null,
            "justify_content": null,
            "justify_items": null,
            "left": null,
            "margin": null,
            "max_height": null,
            "max_width": null,
            "min_height": null,
            "min_width": null,
            "object_fit": null,
            "object_position": null,
            "order": null,
            "overflow": null,
            "overflow_x": null,
            "overflow_y": null,
            "padding": null,
            "right": null,
            "top": null,
            "visibility": null,
            "width": null
          }
        },
        "fd5a962054304c439b94f92531a0e904": {
          "model_module": "@jupyter-widgets/base",
          "model_name": "LayoutModel",
          "model_module_version": "1.2.0",
          "state": {
            "_model_module": "@jupyter-widgets/base",
            "_model_module_version": "1.2.0",
            "_model_name": "LayoutModel",
            "_view_count": null,
            "_view_module": "@jupyter-widgets/base",
            "_view_module_version": "1.2.0",
            "_view_name": "LayoutView",
            "align_content": null,
            "align_items": null,
            "align_self": null,
            "border": null,
            "bottom": null,
            "display": null,
            "flex": null,
            "flex_flow": null,
            "grid_area": null,
            "grid_auto_columns": null,
            "grid_auto_flow": null,
            "grid_auto_rows": null,
            "grid_column": null,
            "grid_gap": null,
            "grid_row": null,
            "grid_template_areas": null,
            "grid_template_columns": null,
            "grid_template_rows": null,
            "height": null,
            "justify_content": null,
            "justify_items": null,
            "left": null,
            "margin": null,
            "max_height": null,
            "max_width": null,
            "min_height": null,
            "min_width": null,
            "object_fit": null,
            "object_position": null,
            "order": null,
            "overflow": null,
            "overflow_x": null,
            "overflow_y": null,
            "padding": null,
            "right": null,
            "top": null,
            "visibility": null,
            "width": null
          }
        },
        "712dbd76a96544508a04d6c26aabd7ee": {
          "model_module": "@jupyter-widgets/controls",
          "model_name": "DescriptionStyleModel",
          "model_module_version": "1.5.0",
          "state": {
            "_model_module": "@jupyter-widgets/controls",
            "_model_module_version": "1.5.0",
            "_model_name": "DescriptionStyleModel",
            "_view_count": null,
            "_view_module": "@jupyter-widgets/base",
            "_view_module_version": "1.2.0",
            "_view_name": "StyleView",
            "description_width": ""
          }
        },
        "ba1caca230e24ba8a0882dffa0ac98d0": {
          "model_module": "@jupyter-widgets/base",
          "model_name": "LayoutModel",
          "model_module_version": "1.2.0",
          "state": {
            "_model_module": "@jupyter-widgets/base",
            "_model_module_version": "1.2.0",
            "_model_name": "LayoutModel",
            "_view_count": null,
            "_view_module": "@jupyter-widgets/base",
            "_view_module_version": "1.2.0",
            "_view_name": "LayoutView",
            "align_content": null,
            "align_items": null,
            "align_self": null,
            "border": null,
            "bottom": null,
            "display": null,
            "flex": null,
            "flex_flow": null,
            "grid_area": null,
            "grid_auto_columns": null,
            "grid_auto_flow": null,
            "grid_auto_rows": null,
            "grid_column": null,
            "grid_gap": null,
            "grid_row": null,
            "grid_template_areas": null,
            "grid_template_columns": null,
            "grid_template_rows": null,
            "height": null,
            "justify_content": null,
            "justify_items": null,
            "left": null,
            "margin": null,
            "max_height": null,
            "max_width": null,
            "min_height": null,
            "min_width": null,
            "object_fit": null,
            "object_position": null,
            "order": null,
            "overflow": null,
            "overflow_x": null,
            "overflow_y": null,
            "padding": null,
            "right": null,
            "top": null,
            "visibility": null,
            "width": null
          }
        },
        "e43d0a569d184257a639df37479272e1": {
          "model_module": "@jupyter-widgets/controls",
          "model_name": "ProgressStyleModel",
          "model_module_version": "1.5.0",
          "state": {
            "_model_module": "@jupyter-widgets/controls",
            "_model_module_version": "1.5.0",
            "_model_name": "ProgressStyleModel",
            "_view_count": null,
            "_view_module": "@jupyter-widgets/base",
            "_view_module_version": "1.2.0",
            "_view_name": "StyleView",
            "bar_color": null,
            "description_width": ""
          }
        },
        "badf81bb813248c98abc34a103cd5802": {
          "model_module": "@jupyter-widgets/base",
          "model_name": "LayoutModel",
          "model_module_version": "1.2.0",
          "state": {
            "_model_module": "@jupyter-widgets/base",
            "_model_module_version": "1.2.0",
            "_model_name": "LayoutModel",
            "_view_count": null,
            "_view_module": "@jupyter-widgets/base",
            "_view_module_version": "1.2.0",
            "_view_name": "LayoutView",
            "align_content": null,
            "align_items": null,
            "align_self": null,
            "border": null,
            "bottom": null,
            "display": null,
            "flex": null,
            "flex_flow": null,
            "grid_area": null,
            "grid_auto_columns": null,
            "grid_auto_flow": null,
            "grid_auto_rows": null,
            "grid_column": null,
            "grid_gap": null,
            "grid_row": null,
            "grid_template_areas": null,
            "grid_template_columns": null,
            "grid_template_rows": null,
            "height": null,
            "justify_content": null,
            "justify_items": null,
            "left": null,
            "margin": null,
            "max_height": null,
            "max_width": null,
            "min_height": null,
            "min_width": null,
            "object_fit": null,
            "object_position": null,
            "order": null,
            "overflow": null,
            "overflow_x": null,
            "overflow_y": null,
            "padding": null,
            "right": null,
            "top": null,
            "visibility": null,
            "width": null
          }
        },
        "35767ab49bd04846aa9090de839b7b14": {
          "model_module": "@jupyter-widgets/controls",
          "model_name": "DescriptionStyleModel",
          "model_module_version": "1.5.0",
          "state": {
            "_model_module": "@jupyter-widgets/controls",
            "_model_module_version": "1.5.0",
            "_model_name": "DescriptionStyleModel",
            "_view_count": null,
            "_view_module": "@jupyter-widgets/base",
            "_view_module_version": "1.2.0",
            "_view_name": "StyleView",
            "description_width": ""
          }
        },
        "a3d62494d4224474bde9f87734275e5e": {
          "model_module": "@jupyter-widgets/controls",
          "model_name": "HBoxModel",
          "model_module_version": "1.5.0",
          "state": {
            "_dom_classes": [],
            "_model_module": "@jupyter-widgets/controls",
            "_model_module_version": "1.5.0",
            "_model_name": "HBoxModel",
            "_view_count": null,
            "_view_module": "@jupyter-widgets/controls",
            "_view_module_version": "1.5.0",
            "_view_name": "HBoxView",
            "box_style": "",
            "children": [
              "IPY_MODEL_eadb248b93b440a2b3e7917e22c1be97",
              "IPY_MODEL_f49d89c6a4d443e89055874e04a51b9d",
              "IPY_MODEL_a4b470baf24d487689e79e75783cbaa2"
            ],
            "layout": "IPY_MODEL_4c72060cabe945c98e1a9acbe6e60348"
          }
        },
        "eadb248b93b440a2b3e7917e22c1be97": {
          "model_module": "@jupyter-widgets/controls",
          "model_name": "HTMLModel",
          "model_module_version": "1.5.0",
          "state": {
            "_dom_classes": [],
            "_model_module": "@jupyter-widgets/controls",
            "_model_module_version": "1.5.0",
            "_model_name": "HTMLModel",
            "_view_count": null,
            "_view_module": "@jupyter-widgets/controls",
            "_view_module_version": "1.5.0",
            "_view_name": "HTMLView",
            "description": "",
            "description_tooltip": null,
            "layout": "IPY_MODEL_701863fa5bc340ee83d7efa99ba14164",
            "placeholder": "​",
            "style": "IPY_MODEL_8acd6d19d7ff4fff853e3fbd52621719",
            "value": "100%"
          }
        },
        "f49d89c6a4d443e89055874e04a51b9d": {
          "model_module": "@jupyter-widgets/controls",
          "model_name": "FloatProgressModel",
          "model_module_version": "1.5.0",
          "state": {
            "_dom_classes": [],
            "_model_module": "@jupyter-widgets/controls",
            "_model_module_version": "1.5.0",
            "_model_name": "FloatProgressModel",
            "_view_count": null,
            "_view_module": "@jupyter-widgets/controls",
            "_view_module_version": "1.5.0",
            "_view_name": "ProgressView",
            "bar_style": "success",
            "description": "",
            "description_tooltip": null,
            "layout": "IPY_MODEL_4a415a350f764b278bbd3907c24d2b17",
            "max": 28881,
            "min": 0,
            "orientation": "horizontal",
            "style": "IPY_MODEL_3b5d879cebe242c990f085bb54de756c",
            "value": 28881
          }
        },
        "a4b470baf24d487689e79e75783cbaa2": {
          "model_module": "@jupyter-widgets/controls",
          "model_name": "HTMLModel",
          "model_module_version": "1.5.0",
          "state": {
            "_dom_classes": [],
            "_model_module": "@jupyter-widgets/controls",
            "_model_module_version": "1.5.0",
            "_model_name": "HTMLModel",
            "_view_count": null,
            "_view_module": "@jupyter-widgets/controls",
            "_view_module_version": "1.5.0",
            "_view_name": "HTMLView",
            "description": "",
            "description_tooltip": null,
            "layout": "IPY_MODEL_c4face4fd08b4611a5af3067a0e54f8f",
            "placeholder": "​",
            "style": "IPY_MODEL_9c454aa2a5ff4edab82398c3c389c593",
            "value": " 28881/28881 [00:00&lt;00:00, 1208999.39it/s]"
          }
        },
        "4c72060cabe945c98e1a9acbe6e60348": {
          "model_module": "@jupyter-widgets/base",
          "model_name": "LayoutModel",
          "model_module_version": "1.2.0",
          "state": {
            "_model_module": "@jupyter-widgets/base",
            "_model_module_version": "1.2.0",
            "_model_name": "LayoutModel",
            "_view_count": null,
            "_view_module": "@jupyter-widgets/base",
            "_view_module_version": "1.2.0",
            "_view_name": "LayoutView",
            "align_content": null,
            "align_items": null,
            "align_self": null,
            "border": null,
            "bottom": null,
            "display": null,
            "flex": null,
            "flex_flow": null,
            "grid_area": null,
            "grid_auto_columns": null,
            "grid_auto_flow": null,
            "grid_auto_rows": null,
            "grid_column": null,
            "grid_gap": null,
            "grid_row": null,
            "grid_template_areas": null,
            "grid_template_columns": null,
            "grid_template_rows": null,
            "height": null,
            "justify_content": null,
            "justify_items": null,
            "left": null,
            "margin": null,
            "max_height": null,
            "max_width": null,
            "min_height": null,
            "min_width": null,
            "object_fit": null,
            "object_position": null,
            "order": null,
            "overflow": null,
            "overflow_x": null,
            "overflow_y": null,
            "padding": null,
            "right": null,
            "top": null,
            "visibility": null,
            "width": null
          }
        },
        "701863fa5bc340ee83d7efa99ba14164": {
          "model_module": "@jupyter-widgets/base",
          "model_name": "LayoutModel",
          "model_module_version": "1.2.0",
          "state": {
            "_model_module": "@jupyter-widgets/base",
            "_model_module_version": "1.2.0",
            "_model_name": "LayoutModel",
            "_view_count": null,
            "_view_module": "@jupyter-widgets/base",
            "_view_module_version": "1.2.0",
            "_view_name": "LayoutView",
            "align_content": null,
            "align_items": null,
            "align_self": null,
            "border": null,
            "bottom": null,
            "display": null,
            "flex": null,
            "flex_flow": null,
            "grid_area": null,
            "grid_auto_columns": null,
            "grid_auto_flow": null,
            "grid_auto_rows": null,
            "grid_column": null,
            "grid_gap": null,
            "grid_row": null,
            "grid_template_areas": null,
            "grid_template_columns": null,
            "grid_template_rows": null,
            "height": null,
            "justify_content": null,
            "justify_items": null,
            "left": null,
            "margin": null,
            "max_height": null,
            "max_width": null,
            "min_height": null,
            "min_width": null,
            "object_fit": null,
            "object_position": null,
            "order": null,
            "overflow": null,
            "overflow_x": null,
            "overflow_y": null,
            "padding": null,
            "right": null,
            "top": null,
            "visibility": null,
            "width": null
          }
        },
        "8acd6d19d7ff4fff853e3fbd52621719": {
          "model_module": "@jupyter-widgets/controls",
          "model_name": "DescriptionStyleModel",
          "model_module_version": "1.5.0",
          "state": {
            "_model_module": "@jupyter-widgets/controls",
            "_model_module_version": "1.5.0",
            "_model_name": "DescriptionStyleModel",
            "_view_count": null,
            "_view_module": "@jupyter-widgets/base",
            "_view_module_version": "1.2.0",
            "_view_name": "StyleView",
            "description_width": ""
          }
        },
        "4a415a350f764b278bbd3907c24d2b17": {
          "model_module": "@jupyter-widgets/base",
          "model_name": "LayoutModel",
          "model_module_version": "1.2.0",
          "state": {
            "_model_module": "@jupyter-widgets/base",
            "_model_module_version": "1.2.0",
            "_model_name": "LayoutModel",
            "_view_count": null,
            "_view_module": "@jupyter-widgets/base",
            "_view_module_version": "1.2.0",
            "_view_name": "LayoutView",
            "align_content": null,
            "align_items": null,
            "align_self": null,
            "border": null,
            "bottom": null,
            "display": null,
            "flex": null,
            "flex_flow": null,
            "grid_area": null,
            "grid_auto_columns": null,
            "grid_auto_flow": null,
            "grid_auto_rows": null,
            "grid_column": null,
            "grid_gap": null,
            "grid_row": null,
            "grid_template_areas": null,
            "grid_template_columns": null,
            "grid_template_rows": null,
            "height": null,
            "justify_content": null,
            "justify_items": null,
            "left": null,
            "margin": null,
            "max_height": null,
            "max_width": null,
            "min_height": null,
            "min_width": null,
            "object_fit": null,
            "object_position": null,
            "order": null,
            "overflow": null,
            "overflow_x": null,
            "overflow_y": null,
            "padding": null,
            "right": null,
            "top": null,
            "visibility": null,
            "width": null
          }
        },
        "3b5d879cebe242c990f085bb54de756c": {
          "model_module": "@jupyter-widgets/controls",
          "model_name": "ProgressStyleModel",
          "model_module_version": "1.5.0",
          "state": {
            "_model_module": "@jupyter-widgets/controls",
            "_model_module_version": "1.5.0",
            "_model_name": "ProgressStyleModel",
            "_view_count": null,
            "_view_module": "@jupyter-widgets/base",
            "_view_module_version": "1.2.0",
            "_view_name": "StyleView",
            "bar_color": null,
            "description_width": ""
          }
        },
        "c4face4fd08b4611a5af3067a0e54f8f": {
          "model_module": "@jupyter-widgets/base",
          "model_name": "LayoutModel",
          "model_module_version": "1.2.0",
          "state": {
            "_model_module": "@jupyter-widgets/base",
            "_model_module_version": "1.2.0",
            "_model_name": "LayoutModel",
            "_view_count": null,
            "_view_module": "@jupyter-widgets/base",
            "_view_module_version": "1.2.0",
            "_view_name": "LayoutView",
            "align_content": null,
            "align_items": null,
            "align_self": null,
            "border": null,
            "bottom": null,
            "display": null,
            "flex": null,
            "flex_flow": null,
            "grid_area": null,
            "grid_auto_columns": null,
            "grid_auto_flow": null,
            "grid_auto_rows": null,
            "grid_column": null,
            "grid_gap": null,
            "grid_row": null,
            "grid_template_areas": null,
            "grid_template_columns": null,
            "grid_template_rows": null,
            "height": null,
            "justify_content": null,
            "justify_items": null,
            "left": null,
            "margin": null,
            "max_height": null,
            "max_width": null,
            "min_height": null,
            "min_width": null,
            "object_fit": null,
            "object_position": null,
            "order": null,
            "overflow": null,
            "overflow_x": null,
            "overflow_y": null,
            "padding": null,
            "right": null,
            "top": null,
            "visibility": null,
            "width": null
          }
        },
        "9c454aa2a5ff4edab82398c3c389c593": {
          "model_module": "@jupyter-widgets/controls",
          "model_name": "DescriptionStyleModel",
          "model_module_version": "1.5.0",
          "state": {
            "_model_module": "@jupyter-widgets/controls",
            "_model_module_version": "1.5.0",
            "_model_name": "DescriptionStyleModel",
            "_view_count": null,
            "_view_module": "@jupyter-widgets/base",
            "_view_module_version": "1.2.0",
            "_view_name": "StyleView",
            "description_width": ""
          }
        },
        "5a9badebc6014f41aada84be03375343": {
          "model_module": "@jupyter-widgets/controls",
          "model_name": "HBoxModel",
          "model_module_version": "1.5.0",
          "state": {
            "_dom_classes": [],
            "_model_module": "@jupyter-widgets/controls",
            "_model_module_version": "1.5.0",
            "_model_name": "HBoxModel",
            "_view_count": null,
            "_view_module": "@jupyter-widgets/controls",
            "_view_module_version": "1.5.0",
            "_view_name": "HBoxView",
            "box_style": "",
            "children": [
              "IPY_MODEL_ff1c69bc5deb46f7a6d9d1947247517d",
              "IPY_MODEL_0c7bd7ad012b4b88a82849550812d4db",
              "IPY_MODEL_4db1b6d726ee43ab9580568a5c46fa58"
            ],
            "layout": "IPY_MODEL_0d9c57da8fa34c8987caa2ce0ad3bffe"
          }
        },
        "ff1c69bc5deb46f7a6d9d1947247517d": {
          "model_module": "@jupyter-widgets/controls",
          "model_name": "HTMLModel",
          "model_module_version": "1.5.0",
          "state": {
            "_dom_classes": [],
            "_model_module": "@jupyter-widgets/controls",
            "_model_module_version": "1.5.0",
            "_model_name": "HTMLModel",
            "_view_count": null,
            "_view_module": "@jupyter-widgets/controls",
            "_view_module_version": "1.5.0",
            "_view_name": "HTMLView",
            "description": "",
            "description_tooltip": null,
            "layout": "IPY_MODEL_89ee1238297141b2967fdc75d99a1ce6",
            "placeholder": "​",
            "style": "IPY_MODEL_208248ad7a714291baa9ddbd7a5808c3",
            "value": "100%"
          }
        },
        "0c7bd7ad012b4b88a82849550812d4db": {
          "model_module": "@jupyter-widgets/controls",
          "model_name": "FloatProgressModel",
          "model_module_version": "1.5.0",
          "state": {
            "_dom_classes": [],
            "_model_module": "@jupyter-widgets/controls",
            "_model_module_version": "1.5.0",
            "_model_name": "FloatProgressModel",
            "_view_count": null,
            "_view_module": "@jupyter-widgets/controls",
            "_view_module_version": "1.5.0",
            "_view_name": "ProgressView",
            "bar_style": "success",
            "description": "",
            "description_tooltip": null,
            "layout": "IPY_MODEL_af12a464ee2741eea0a48b95ccba6933",
            "max": 1648877,
            "min": 0,
            "orientation": "horizontal",
            "style": "IPY_MODEL_f8daf17141254208833989de839a1456",
            "value": 1648877
          }
        },
        "4db1b6d726ee43ab9580568a5c46fa58": {
          "model_module": "@jupyter-widgets/controls",
          "model_name": "HTMLModel",
          "model_module_version": "1.5.0",
          "state": {
            "_dom_classes": [],
            "_model_module": "@jupyter-widgets/controls",
            "_model_module_version": "1.5.0",
            "_model_name": "HTMLModel",
            "_view_count": null,
            "_view_module": "@jupyter-widgets/controls",
            "_view_module_version": "1.5.0",
            "_view_name": "HTMLView",
            "description": "",
            "description_tooltip": null,
            "layout": "IPY_MODEL_52cd936a261e4690af94b3e59f564ada",
            "placeholder": "​",
            "style": "IPY_MODEL_c5daaf9314e140fcb95f7fb0028e9f5f",
            "value": " 1648877/1648877 [00:00&lt;00:00, 17359557.31it/s]"
          }
        },
        "0d9c57da8fa34c8987caa2ce0ad3bffe": {
          "model_module": "@jupyter-widgets/base",
          "model_name": "LayoutModel",
          "model_module_version": "1.2.0",
          "state": {
            "_model_module": "@jupyter-widgets/base",
            "_model_module_version": "1.2.0",
            "_model_name": "LayoutModel",
            "_view_count": null,
            "_view_module": "@jupyter-widgets/base",
            "_view_module_version": "1.2.0",
            "_view_name": "LayoutView",
            "align_content": null,
            "align_items": null,
            "align_self": null,
            "border": null,
            "bottom": null,
            "display": null,
            "flex": null,
            "flex_flow": null,
            "grid_area": null,
            "grid_auto_columns": null,
            "grid_auto_flow": null,
            "grid_auto_rows": null,
            "grid_column": null,
            "grid_gap": null,
            "grid_row": null,
            "grid_template_areas": null,
            "grid_template_columns": null,
            "grid_template_rows": null,
            "height": null,
            "justify_content": null,
            "justify_items": null,
            "left": null,
            "margin": null,
            "max_height": null,
            "max_width": null,
            "min_height": null,
            "min_width": null,
            "object_fit": null,
            "object_position": null,
            "order": null,
            "overflow": null,
            "overflow_x": null,
            "overflow_y": null,
            "padding": null,
            "right": null,
            "top": null,
            "visibility": null,
            "width": null
          }
        },
        "89ee1238297141b2967fdc75d99a1ce6": {
          "model_module": "@jupyter-widgets/base",
          "model_name": "LayoutModel",
          "model_module_version": "1.2.0",
          "state": {
            "_model_module": "@jupyter-widgets/base",
            "_model_module_version": "1.2.0",
            "_model_name": "LayoutModel",
            "_view_count": null,
            "_view_module": "@jupyter-widgets/base",
            "_view_module_version": "1.2.0",
            "_view_name": "LayoutView",
            "align_content": null,
            "align_items": null,
            "align_self": null,
            "border": null,
            "bottom": null,
            "display": null,
            "flex": null,
            "flex_flow": null,
            "grid_area": null,
            "grid_auto_columns": null,
            "grid_auto_flow": null,
            "grid_auto_rows": null,
            "grid_column": null,
            "grid_gap": null,
            "grid_row": null,
            "grid_template_areas": null,
            "grid_template_columns": null,
            "grid_template_rows": null,
            "height": null,
            "justify_content": null,
            "justify_items": null,
            "left": null,
            "margin": null,
            "max_height": null,
            "max_width": null,
            "min_height": null,
            "min_width": null,
            "object_fit": null,
            "object_position": null,
            "order": null,
            "overflow": null,
            "overflow_x": null,
            "overflow_y": null,
            "padding": null,
            "right": null,
            "top": null,
            "visibility": null,
            "width": null
          }
        },
        "208248ad7a714291baa9ddbd7a5808c3": {
          "model_module": "@jupyter-widgets/controls",
          "model_name": "DescriptionStyleModel",
          "model_module_version": "1.5.0",
          "state": {
            "_model_module": "@jupyter-widgets/controls",
            "_model_module_version": "1.5.0",
            "_model_name": "DescriptionStyleModel",
            "_view_count": null,
            "_view_module": "@jupyter-widgets/base",
            "_view_module_version": "1.2.0",
            "_view_name": "StyleView",
            "description_width": ""
          }
        },
        "af12a464ee2741eea0a48b95ccba6933": {
          "model_module": "@jupyter-widgets/base",
          "model_name": "LayoutModel",
          "model_module_version": "1.2.0",
          "state": {
            "_model_module": "@jupyter-widgets/base",
            "_model_module_version": "1.2.0",
            "_model_name": "LayoutModel",
            "_view_count": null,
            "_view_module": "@jupyter-widgets/base",
            "_view_module_version": "1.2.0",
            "_view_name": "LayoutView",
            "align_content": null,
            "align_items": null,
            "align_self": null,
            "border": null,
            "bottom": null,
            "display": null,
            "flex": null,
            "flex_flow": null,
            "grid_area": null,
            "grid_auto_columns": null,
            "grid_auto_flow": null,
            "grid_auto_rows": null,
            "grid_column": null,
            "grid_gap": null,
            "grid_row": null,
            "grid_template_areas": null,
            "grid_template_columns": null,
            "grid_template_rows": null,
            "height": null,
            "justify_content": null,
            "justify_items": null,
            "left": null,
            "margin": null,
            "max_height": null,
            "max_width": null,
            "min_height": null,
            "min_width": null,
            "object_fit": null,
            "object_position": null,
            "order": null,
            "overflow": null,
            "overflow_x": null,
            "overflow_y": null,
            "padding": null,
            "right": null,
            "top": null,
            "visibility": null,
            "width": null
          }
        },
        "f8daf17141254208833989de839a1456": {
          "model_module": "@jupyter-widgets/controls",
          "model_name": "ProgressStyleModel",
          "model_module_version": "1.5.0",
          "state": {
            "_model_module": "@jupyter-widgets/controls",
            "_model_module_version": "1.5.0",
            "_model_name": "ProgressStyleModel",
            "_view_count": null,
            "_view_module": "@jupyter-widgets/base",
            "_view_module_version": "1.2.0",
            "_view_name": "StyleView",
            "bar_color": null,
            "description_width": ""
          }
        },
        "52cd936a261e4690af94b3e59f564ada": {
          "model_module": "@jupyter-widgets/base",
          "model_name": "LayoutModel",
          "model_module_version": "1.2.0",
          "state": {
            "_model_module": "@jupyter-widgets/base",
            "_model_module_version": "1.2.0",
            "_model_name": "LayoutModel",
            "_view_count": null,
            "_view_module": "@jupyter-widgets/base",
            "_view_module_version": "1.2.0",
            "_view_name": "LayoutView",
            "align_content": null,
            "align_items": null,
            "align_self": null,
            "border": null,
            "bottom": null,
            "display": null,
            "flex": null,
            "flex_flow": null,
            "grid_area": null,
            "grid_auto_columns": null,
            "grid_auto_flow": null,
            "grid_auto_rows": null,
            "grid_column": null,
            "grid_gap": null,
            "grid_row": null,
            "grid_template_areas": null,
            "grid_template_columns": null,
            "grid_template_rows": null,
            "height": null,
            "justify_content": null,
            "justify_items": null,
            "left": null,
            "margin": null,
            "max_height": null,
            "max_width": null,
            "min_height": null,
            "min_width": null,
            "object_fit": null,
            "object_position": null,
            "order": null,
            "overflow": null,
            "overflow_x": null,
            "overflow_y": null,
            "padding": null,
            "right": null,
            "top": null,
            "visibility": null,
            "width": null
          }
        },
        "c5daaf9314e140fcb95f7fb0028e9f5f": {
          "model_module": "@jupyter-widgets/controls",
          "model_name": "DescriptionStyleModel",
          "model_module_version": "1.5.0",
          "state": {
            "_model_module": "@jupyter-widgets/controls",
            "_model_module_version": "1.5.0",
            "_model_name": "DescriptionStyleModel",
            "_view_count": null,
            "_view_module": "@jupyter-widgets/base",
            "_view_module_version": "1.2.0",
            "_view_name": "StyleView",
            "description_width": ""
          }
        },
        "67ce6bb2d8864640bd0283279f8e2e7d": {
          "model_module": "@jupyter-widgets/controls",
          "model_name": "HBoxModel",
          "model_module_version": "1.5.0",
          "state": {
            "_dom_classes": [],
            "_model_module": "@jupyter-widgets/controls",
            "_model_module_version": "1.5.0",
            "_model_name": "HBoxModel",
            "_view_count": null,
            "_view_module": "@jupyter-widgets/controls",
            "_view_module_version": "1.5.0",
            "_view_name": "HBoxView",
            "box_style": "",
            "children": [
              "IPY_MODEL_a2130c2ae74d41dc99b09f05e5727b72",
              "IPY_MODEL_a6b927818a0b4e589d348e95e649735c",
              "IPY_MODEL_4cb707a381af4d2b9fb985bdf9a79789"
            ],
            "layout": "IPY_MODEL_49d0987b07ab4416b6a6c6cb18d45d48"
          }
        },
        "a2130c2ae74d41dc99b09f05e5727b72": {
          "model_module": "@jupyter-widgets/controls",
          "model_name": "HTMLModel",
          "model_module_version": "1.5.0",
          "state": {
            "_dom_classes": [],
            "_model_module": "@jupyter-widgets/controls",
            "_model_module_version": "1.5.0",
            "_model_name": "HTMLModel",
            "_view_count": null,
            "_view_module": "@jupyter-widgets/controls",
            "_view_module_version": "1.5.0",
            "_view_name": "HTMLView",
            "description": "",
            "description_tooltip": null,
            "layout": "IPY_MODEL_1e3bd22fb0854c14a601dc7ca8f1a4f0",
            "placeholder": "​",
            "style": "IPY_MODEL_0d5305a661d94fd5920ad36a73351c0a",
            "value": "100%"
          }
        },
        "a6b927818a0b4e589d348e95e649735c": {
          "model_module": "@jupyter-widgets/controls",
          "model_name": "FloatProgressModel",
          "model_module_version": "1.5.0",
          "state": {
            "_dom_classes": [],
            "_model_module": "@jupyter-widgets/controls",
            "_model_module_version": "1.5.0",
            "_model_name": "FloatProgressModel",
            "_view_count": null,
            "_view_module": "@jupyter-widgets/controls",
            "_view_module_version": "1.5.0",
            "_view_name": "ProgressView",
            "bar_style": "success",
            "description": "",
            "description_tooltip": null,
            "layout": "IPY_MODEL_e4e6013c35df4085b776cdf7b88c292f",
            "max": 4542,
            "min": 0,
            "orientation": "horizontal",
            "style": "IPY_MODEL_656c74ced25a4ccf9dcea96a0c8ff997",
            "value": 4542
          }
        },
        "4cb707a381af4d2b9fb985bdf9a79789": {
          "model_module": "@jupyter-widgets/controls",
          "model_name": "HTMLModel",
          "model_module_version": "1.5.0",
          "state": {
            "_dom_classes": [],
            "_model_module": "@jupyter-widgets/controls",
            "_model_module_version": "1.5.0",
            "_model_name": "HTMLModel",
            "_view_count": null,
            "_view_module": "@jupyter-widgets/controls",
            "_view_module_version": "1.5.0",
            "_view_name": "HTMLView",
            "description": "",
            "description_tooltip": null,
            "layout": "IPY_MODEL_70614673c5fe46718a2f6a892e01ea46",
            "placeholder": "​",
            "style": "IPY_MODEL_905cdaeaf94b4825889486828592e6fa",
            "value": " 4542/4542 [00:00&lt;00:00, 139198.22it/s]"
          }
        },
        "49d0987b07ab4416b6a6c6cb18d45d48": {
          "model_module": "@jupyter-widgets/base",
          "model_name": "LayoutModel",
          "model_module_version": "1.2.0",
          "state": {
            "_model_module": "@jupyter-widgets/base",
            "_model_module_version": "1.2.0",
            "_model_name": "LayoutModel",
            "_view_count": null,
            "_view_module": "@jupyter-widgets/base",
            "_view_module_version": "1.2.0",
            "_view_name": "LayoutView",
            "align_content": null,
            "align_items": null,
            "align_self": null,
            "border": null,
            "bottom": null,
            "display": null,
            "flex": null,
            "flex_flow": null,
            "grid_area": null,
            "grid_auto_columns": null,
            "grid_auto_flow": null,
            "grid_auto_rows": null,
            "grid_column": null,
            "grid_gap": null,
            "grid_row": null,
            "grid_template_areas": null,
            "grid_template_columns": null,
            "grid_template_rows": null,
            "height": null,
            "justify_content": null,
            "justify_items": null,
            "left": null,
            "margin": null,
            "max_height": null,
            "max_width": null,
            "min_height": null,
            "min_width": null,
            "object_fit": null,
            "object_position": null,
            "order": null,
            "overflow": null,
            "overflow_x": null,
            "overflow_y": null,
            "padding": null,
            "right": null,
            "top": null,
            "visibility": null,
            "width": null
          }
        },
        "1e3bd22fb0854c14a601dc7ca8f1a4f0": {
          "model_module": "@jupyter-widgets/base",
          "model_name": "LayoutModel",
          "model_module_version": "1.2.0",
          "state": {
            "_model_module": "@jupyter-widgets/base",
            "_model_module_version": "1.2.0",
            "_model_name": "LayoutModel",
            "_view_count": null,
            "_view_module": "@jupyter-widgets/base",
            "_view_module_version": "1.2.0",
            "_view_name": "LayoutView",
            "align_content": null,
            "align_items": null,
            "align_self": null,
            "border": null,
            "bottom": null,
            "display": null,
            "flex": null,
            "flex_flow": null,
            "grid_area": null,
            "grid_auto_columns": null,
            "grid_auto_flow": null,
            "grid_auto_rows": null,
            "grid_column": null,
            "grid_gap": null,
            "grid_row": null,
            "grid_template_areas": null,
            "grid_template_columns": null,
            "grid_template_rows": null,
            "height": null,
            "justify_content": null,
            "justify_items": null,
            "left": null,
            "margin": null,
            "max_height": null,
            "max_width": null,
            "min_height": null,
            "min_width": null,
            "object_fit": null,
            "object_position": null,
            "order": null,
            "overflow": null,
            "overflow_x": null,
            "overflow_y": null,
            "padding": null,
            "right": null,
            "top": null,
            "visibility": null,
            "width": null
          }
        },
        "0d5305a661d94fd5920ad36a73351c0a": {
          "model_module": "@jupyter-widgets/controls",
          "model_name": "DescriptionStyleModel",
          "model_module_version": "1.5.0",
          "state": {
            "_model_module": "@jupyter-widgets/controls",
            "_model_module_version": "1.5.0",
            "_model_name": "DescriptionStyleModel",
            "_view_count": null,
            "_view_module": "@jupyter-widgets/base",
            "_view_module_version": "1.2.0",
            "_view_name": "StyleView",
            "description_width": ""
          }
        },
        "e4e6013c35df4085b776cdf7b88c292f": {
          "model_module": "@jupyter-widgets/base",
          "model_name": "LayoutModel",
          "model_module_version": "1.2.0",
          "state": {
            "_model_module": "@jupyter-widgets/base",
            "_model_module_version": "1.2.0",
            "_model_name": "LayoutModel",
            "_view_count": null,
            "_view_module": "@jupyter-widgets/base",
            "_view_module_version": "1.2.0",
            "_view_name": "LayoutView",
            "align_content": null,
            "align_items": null,
            "align_self": null,
            "border": null,
            "bottom": null,
            "display": null,
            "flex": null,
            "flex_flow": null,
            "grid_area": null,
            "grid_auto_columns": null,
            "grid_auto_flow": null,
            "grid_auto_rows": null,
            "grid_column": null,
            "grid_gap": null,
            "grid_row": null,
            "grid_template_areas": null,
            "grid_template_columns": null,
            "grid_template_rows": null,
            "height": null,
            "justify_content": null,
            "justify_items": null,
            "left": null,
            "margin": null,
            "max_height": null,
            "max_width": null,
            "min_height": null,
            "min_width": null,
            "object_fit": null,
            "object_position": null,
            "order": null,
            "overflow": null,
            "overflow_x": null,
            "overflow_y": null,
            "padding": null,
            "right": null,
            "top": null,
            "visibility": null,
            "width": null
          }
        },
        "656c74ced25a4ccf9dcea96a0c8ff997": {
          "model_module": "@jupyter-widgets/controls",
          "model_name": "ProgressStyleModel",
          "model_module_version": "1.5.0",
          "state": {
            "_model_module": "@jupyter-widgets/controls",
            "_model_module_version": "1.5.0",
            "_model_name": "ProgressStyleModel",
            "_view_count": null,
            "_view_module": "@jupyter-widgets/base",
            "_view_module_version": "1.2.0",
            "_view_name": "StyleView",
            "bar_color": null,
            "description_width": ""
          }
        },
        "70614673c5fe46718a2f6a892e01ea46": {
          "model_module": "@jupyter-widgets/base",
          "model_name": "LayoutModel",
          "model_module_version": "1.2.0",
          "state": {
            "_model_module": "@jupyter-widgets/base",
            "_model_module_version": "1.2.0",
            "_model_name": "LayoutModel",
            "_view_count": null,
            "_view_module": "@jupyter-widgets/base",
            "_view_module_version": "1.2.0",
            "_view_name": "LayoutView",
            "align_content": null,
            "align_items": null,
            "align_self": null,
            "border": null,
            "bottom": null,
            "display": null,
            "flex": null,
            "flex_flow": null,
            "grid_area": null,
            "grid_auto_columns": null,
            "grid_auto_flow": null,
            "grid_auto_rows": null,
            "grid_column": null,
            "grid_gap": null,
            "grid_row": null,
            "grid_template_areas": null,
            "grid_template_columns": null,
            "grid_template_rows": null,
            "height": null,
            "justify_content": null,
            "justify_items": null,
            "left": null,
            "margin": null,
            "max_height": null,
            "max_width": null,
            "min_height": null,
            "min_width": null,
            "object_fit": null,
            "object_position": null,
            "order": null,
            "overflow": null,
            "overflow_x": null,
            "overflow_y": null,
            "padding": null,
            "right": null,
            "top": null,
            "visibility": null,
            "width": null
          }
        },
        "905cdaeaf94b4825889486828592e6fa": {
          "model_module": "@jupyter-widgets/controls",
          "model_name": "DescriptionStyleModel",
          "model_module_version": "1.5.0",
          "state": {
            "_model_module": "@jupyter-widgets/controls",
            "_model_module_version": "1.5.0",
            "_model_name": "DescriptionStyleModel",
            "_view_count": null,
            "_view_module": "@jupyter-widgets/base",
            "_view_module_version": "1.2.0",
            "_view_name": "StyleView",
            "description_width": ""
          }
        }
      }
    }
  },
  "nbformat": 4,
  "nbformat_minor": 0
}