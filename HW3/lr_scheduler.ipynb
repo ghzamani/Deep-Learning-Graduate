{
  "cells": [
    {
      "cell_type": "markdown",
      "id": "85823c38",
      "metadata": {
        "id": "85823c38"
      },
      "source": [
        "The following additional libraries are needed to run this\n",
        "notebook. Note that running on Colab is experimental, please report a Github\n",
        "issue if you have any problem."
      ]
    },
    {
      "cell_type": "code",
      "execution_count": null,
      "id": "1dc49ec9",
      "metadata": {
        "id": "1dc49ec9"
      },
      "outputs": [],
      "source": [
        "!pip install d2l==1.0.0-beta0"
      ]
    },
    {
      "cell_type": "markdown",
      "id": "89511a4d",
      "metadata": {
        "origin_pos": 0,
        "id": "89511a4d"
      },
      "source": [
        "# Learning Rate Scheduling\n",
        ":label:`sec_scheduler`\n",
        "\n",
        "So far we primarily focused on optimization *algorithms* for how to update the weight vectors rather than on the *rate* at which they are being updated. Nonetheless, adjusting the learning rate is often just as important as the actual algorithm. There are a number of aspects to consider:\n",
        "\n",
        "* Most obviously the *magnitude* of the learning rate matters. If it is too large, optimization diverges, if it is too small, it takes too long to train or we end up with a suboptimal result. We saw previously that the condition number of the problem matters (see e.g., :numref:`sec_momentum` for details). Intuitively it is the ratio of the amount of change in the least sensitive direction vs. the most sensitive one.\n",
        "* Secondly, the rate of decay is just as important. If the learning rate remains large we may simply end up bouncing around the minimum and thus not reach optimality. :numref:`sec_minibatch_sgd` discussed this in some detail and we analyzed performance guarantees in :numref:`sec_sgd`. In short, we want the rate to decay, but probably more slowly than $\\mathcal{O}(t^{-\\frac{1}{2}})$ which would be a good choice for convex problems.\n",
        "* Another aspect that is equally important is *initialization*. This pertains both to how the parameters are set initially (review :numref:`sec_numerical_stability` for details) and also how they evolve initially. This goes under the moniker of *warmup*, i.e., how rapidly we start moving towards the solution initially. Large steps in the beginning might not be beneficial, in particular since the initial set of parameters is random. The initial update directions might be quite meaningless, too.\n",
        "* Lastly, there are a number of optimization variants that perform cyclical learning rate adjustment. This is beyond the scope of the current chapter. We recommend the reader to review details in :citet:`Izmailov.Podoprikhin.Garipov.ea.2018`, e.g., how to obtain better solutions by averaging over an entire *path* of parameters.\n",
        "\n",
        "Given the fact that there is a lot of detail needed to manage learning rates, most deep learning frameworks have tools to deal with this automatically. In the current chapter we will review the effects that different schedules have on accuracy and also show how this can be managed efficiently via a *learning rate scheduler*.\n",
        "\n",
        "## Toy Problem\n",
        "\n",
        "We begin with a toy problem that is cheap enough to compute easily, yet sufficiently nontrivial to illustrate some of the key aspects. For that we pick a slightly modernized version of LeNet (`relu` instead of `sigmoid` activation, MaxPooling rather than AveragePooling), as applied to Fashion-MNIST. Moreover, we hybridize the network for performance. Since most of the code is standard we just introduce the basics without further detailed discussion. See :numref:`chap_cnn` for a refresher as needed.\n"
      ]
    },
    {
      "cell_type": "code",
      "execution_count": null,
      "id": "74f67fbc",
      "metadata": {
        "execution": {
          "iopub.execute_input": "2023-02-10T05:16:06.094656Z",
          "iopub.status.busy": "2023-02-10T05:16:06.094173Z",
          "iopub.status.idle": "2023-02-10T05:16:09.296744Z",
          "shell.execute_reply": "2023-02-10T05:16:09.291419Z"
        },
        "origin_pos": 2,
        "tab": [
          "pytorch"
        ],
        "id": "74f67fbc"
      },
      "outputs": [],
      "source": [
        "%matplotlib inline\n",
        "import math\n",
        "import torch\n",
        "from torch import nn\n",
        "from torch.optim import lr_scheduler\n",
        "from d2l import torch as d2l\n",
        "\n",
        "\n",
        "def net_fn():\n",
        "    model = nn.Sequential(\n",
        "        nn.Conv2d(1, 6, kernel_size=5, padding=2), nn.ReLU(),\n",
        "        nn.MaxPool2d(kernel_size=2, stride=2),\n",
        "        nn.Conv2d(6, 16, kernel_size=5), nn.ReLU(),\n",
        "        nn.MaxPool2d(kernel_size=2, stride=2),\n",
        "        nn.Flatten(),\n",
        "        nn.Linear(16 * 5 * 5, 120), nn.ReLU(),\n",
        "        nn.Linear(120, 84), nn.ReLU(),\n",
        "        nn.Linear(84, 10))\n",
        "\n",
        "    return model\n",
        "\n",
        "loss = nn.CrossEntropyLoss()\n",
        "device = d2l.try_gpu()\n",
        "\n",
        "batch_size = 256\n",
        "train_iter, test_iter = d2l.load_data_fashion_mnist(batch_size=batch_size)\n",
        "\n",
        "# The code is almost identical to `d2l.train_ch6` defined in the\n",
        "# lenet section of chapter convolutional neural networks\n",
        "def train(net, train_iter, test_iter, num_epochs, loss, trainer, device,\n",
        "          scheduler=None):\n",
        "    net.to(device)\n",
        "    animator = d2l.Animator(xlabel='epoch', xlim=[0, num_epochs],\n",
        "                            legend=['train loss', 'train acc', 'test acc'])\n",
        "\n",
        "    for epoch in range(num_epochs):\n",
        "        metric = d2l.Accumulator(3)  # train_loss, train_acc, num_examples\n",
        "        for i, (X, y) in enumerate(train_iter):\n",
        "            net.train()\n",
        "            trainer.zero_grad()\n",
        "            X, y = X.to(device), y.to(device)\n",
        "            y_hat = net(X)\n",
        "            l = loss(y_hat, y)\n",
        "            l.backward()\n",
        "            trainer.step()\n",
        "            with torch.no_grad():\n",
        "                metric.add(l * X.shape[0], d2l.accuracy(y_hat, y), X.shape[0])\n",
        "            train_loss = metric[0] / metric[2]\n",
        "            train_acc = metric[1] / metric[2]\n",
        "            if (i + 1) % 50 == 0:\n",
        "                animator.add(epoch + i / len(train_iter),\n",
        "                             (train_loss, train_acc, None))\n",
        "\n",
        "        test_acc = d2l.evaluate_accuracy_gpu(net, test_iter)\n",
        "        animator.add(epoch+1, (None, None, test_acc))\n",
        "\n",
        "        if scheduler:\n",
        "            if scheduler.__module__ == lr_scheduler.__name__:\n",
        "                # Using PyTorch In-Built scheduler\n",
        "                scheduler.step()\n",
        "            else:\n",
        "                # Using custom defined scheduler\n",
        "                for param_group in trainer.param_groups:\n",
        "                    param_group['lr'] = scheduler(epoch)\n",
        "\n",
        "    print(f'train loss {train_loss:.3f}, train acc {train_acc:.3f}, '\n",
        "          f'test acc {test_acc:.3f}')"
      ]
    },
    {
      "cell_type": "markdown",
      "id": "7d468f7a",
      "metadata": {
        "origin_pos": 4,
        "id": "7d468f7a"
      },
      "source": [
        "Let's have a look at what happens if we invoke this algorithm with default settings, such as a learning rate of $0.3$ and train for $30$ iterations. Note how the training accuracy keeps on increasing while progress in terms of test accuracy stalls beyond a point. The gap between both curves indicates overfitting.\n"
      ]
    },
    {
      "cell_type": "code",
      "execution_count": null,
      "id": "a13f8138",
      "metadata": {
        "execution": {
          "iopub.execute_input": "2023-02-10T05:16:09.305033Z",
          "iopub.status.busy": "2023-02-10T05:16:09.301709Z",
          "iopub.status.idle": "2023-02-10T05:19:08.127839Z",
          "shell.execute_reply": "2023-02-10T05:19:08.126588Z"
        },
        "origin_pos": 6,
        "tab": [
          "pytorch"
        ],
        "id": "a13f8138"
      },
      "outputs": [],
      "source": [
        "lr, num_epochs = 0.3, 30\n",
        "net = net_fn()\n",
        "trainer = torch.optim.SGD(net.parameters(), lr=lr)\n",
        "train(net, train_iter, test_iter, num_epochs, loss, trainer, device)"
      ]
    },
    {
      "cell_type": "markdown",
      "id": "ff48280d",
      "metadata": {
        "origin_pos": 8,
        "id": "ff48280d"
      },
      "source": [
        "## Schedulers\n",
        "\n",
        "One way of adjusting the learning rate is to set it explicitly at each step. This is conveniently achieved by the `set_learning_rate` method. We could adjust it downward after every epoch (or even after every minibatch), e.g., in a dynamic manner in response to how optimization is progressing.\n"
      ]
    },
    {
      "cell_type": "code",
      "execution_count": null,
      "id": "bc879ad9",
      "metadata": {
        "execution": {
          "iopub.execute_input": "2023-02-10T05:19:08.137279Z",
          "iopub.status.busy": "2023-02-10T05:19:08.133569Z",
          "iopub.status.idle": "2023-02-10T05:19:08.156129Z",
          "shell.execute_reply": "2023-02-10T05:19:08.151948Z"
        },
        "origin_pos": 10,
        "tab": [
          "pytorch"
        ],
        "id": "bc879ad9"
      },
      "outputs": [],
      "source": [
        "lr = 0.1\n",
        "trainer.param_groups[0][\"lr\"] = lr\n",
        "print(f'learning rate is now {trainer.param_groups[0][\"lr\"]:.2f}')"
      ]
    },
    {
      "cell_type": "markdown",
      "id": "60f893b6",
      "metadata": {
        "origin_pos": 12,
        "id": "60f893b6"
      },
      "source": [
        "More generally we want to define a scheduler. When invoked with the number of updates it returns the appropriate value of the learning rate. Let's define a simple one that sets the learning rate to $\\eta = \\eta_0 (t + 1)^{-\\frac{1}{2}}$.\n"
      ]
    },
    {
      "cell_type": "markdown",
      "id": "cfd5c07b",
      "metadata": {
        "origin_pos": 20,
        "id": "cfd5c07b"
      },
      "source": [
        "This worked quite a bit better than previously. Two things stand out: the curve was rather more smooth than previously. Secondly, there was less overfitting. Unfortunately it is not a well-resolved question as to why certain strategies lead to less overfitting in *theory*. There is some argument that a smaller stepsize will lead to parameters that are closer to zero and thus simpler. However, this does not explain the phenomenon entirely since we do not really stop early but simply reduce the learning rate gently.\n",
        "\n",
        "## Policies\n",
        "\n",
        "While we cannot possibly cover the entire variety of learning rate schedulers, we attempt to give a brief overview of popular policies below. Common choices are polynomial decay and piecewise constant schedules. Beyond that, cosine learning rate schedules have been found to work well empirically on some problems. Lastly, on some problems it is beneficial to warm up the optimizer prior to using large learning rates.\n",
        "\n",
        "### Factor Scheduler\n",
        "\n",
        "One alternative to a polynomial decay would be a multiplicative one, that is $\\eta_{t+1} \\leftarrow \\eta_t \\cdot \\alpha$ for $\\alpha \\in (0, 1)$. To prevent the learning rate from decaying beyond a reasonable lower bound the update equation is often modified to $\\eta_{t+1} \\leftarrow \\mathop{\\mathrm{max}}(\\eta_{\\mathrm{min}}, \\eta_t \\cdot \\alpha)$.\n"
      ]
    },
    {
      "cell_type": "markdown",
      "id": "75e37de4",
      "metadata": {
        "origin_pos": 22,
        "id": "75e37de4"
      },
      "source": [
        "This can also be accomplished by a built-in scheduler in MXNet via the `lr_scheduler.FactorScheduler` object. It takes a few more parameters, such as warmup period, warmup mode (linear or constant), the maximum number of desired updates, etc.; Going forward we will use the built-in schedulers as appropriate and only explain their functionality here. As illustrated, it is fairly straightforward to build your own scheduler if needed.\n",
        "\n",
        "### Multi Factor Scheduler\n",
        "\n",
        "A common strategy for training deep networks is to keep the learning rate piecewise constant and to decrease it by a given amount every so often. That is, given a set of times when to decrease the rate, such as $s = \\{5, 10, 20\\}$ decrease $\\eta_{t+1} \\leftarrow \\eta_t \\cdot \\alpha$ whenever $t \\in s$. Assuming that the values are halved at each step we can implement this as follows.\n"
      ]
    },
    {
      "cell_type": "code",
      "execution_count": null,
      "id": "661bd6cc",
      "metadata": {
        "execution": {
          "iopub.execute_input": "2023-02-10T05:22:06.015801Z",
          "iopub.status.busy": "2023-02-10T05:22:06.014096Z",
          "iopub.status.idle": "2023-02-10T05:22:06.281818Z",
          "shell.execute_reply": "2023-02-10T05:22:06.280979Z"
        },
        "origin_pos": 24,
        "tab": [
          "pytorch"
        ],
        "id": "661bd6cc"
      },
      "outputs": [],
      "source": [
        "net = net_fn()\n",
        "trainer = torch.optim.SGD(net.parameters(), lr=0.5)\n",
        "scheduler = lr_scheduler.MultiStepLR(trainer, milestones=[15, 30], gamma=0.5)\n",
        "\n",
        "def get_lr(trainer, scheduler):\n",
        "    lr = scheduler.get_last_lr()[0]\n",
        "    trainer.step()\n",
        "    scheduler.step()\n",
        "    return lr\n",
        "\n",
        "d2l.plot(torch.arange(num_epochs), [get_lr(trainer, scheduler)\n",
        "                                  for t in range(num_epochs)])"
      ]
    },
    {
      "cell_type": "markdown",
      "id": "4667de78",
      "metadata": {
        "origin_pos": 26,
        "id": "4667de78"
      },
      "source": [
        "The intuition behind this piecewise constant learning rate schedule is that one lets optimization proceed until a stationary point has been reached in terms of the distribution of weight vectors. Then (and only then) do we decrease the rate such as to obtain a higher quality proxy to a good local minimum. The example below shows how this can produce ever slightly better solutions.\n"
      ]
    },
    {
      "cell_type": "markdown",
      "id": "0f1db4de",
      "metadata": {
        "origin_pos": 30,
        "id": "0f1db4de"
      },
      "source": [
        "### Cosine Scheduler\n",
        "\n",
        "A rather perplexing heuristic was proposed by :citet:`Loshchilov.Hutter.2016`. It relies on the observation that we might not want to decrease the learning rate too drastically in the beginning and moreover, that we might want to \"refine\" the solution in the end using a very small learning rate. This results in a cosine-like schedule with the following functional form for learning rates in the range $t \\in [0, T]$.\n",
        "\n",
        "$$\\eta_t = \\eta_T + \\frac{\\eta_0 - \\eta_T}{2} \\left(1 + \\cos(\\pi t/T)\\right)$$\n",
        "\n",
        "\n",
        "Here $\\eta_0$ is the initial learning rate, $\\eta_T$ is the target rate at time $T$. Furthermore, for $t > T$ we simply pin the value to $\\eta_T$ without increasing it again. In the following example, we set the max update step $T = 20$.\n"
      ]
    },
    {
      "cell_type": "code",
      "execution_count": null,
      "id": "0ed1cd2d",
      "metadata": {
        "execution": {
          "iopub.execute_input": "2023-02-10T05:25:27.665878Z",
          "iopub.status.busy": "2023-02-10T05:25:27.663051Z",
          "iopub.status.idle": "2023-02-10T05:25:28.061418Z",
          "shell.execute_reply": "2023-02-10T05:25:28.060125Z"
        },
        "origin_pos": 32,
        "tab": [
          "pytorch"
        ],
        "id": "0ed1cd2d"
      },
      "outputs": [],
      "source": [
        "class CosineScheduler:\n",
        "    def __init__(self, max_update, base_lr=0.01, final_lr=0,\n",
        "               warmup_steps=0, warmup_begin_lr=0):\n",
        "        self.base_lr_orig = base_lr\n",
        "        self.max_update = max_update\n",
        "        self.final_lr = final_lr\n",
        "        self.warmup_steps = warmup_steps\n",
        "        self.warmup_begin_lr = warmup_begin_lr\n",
        "        self.max_steps = self.max_update - self.warmup_steps\n",
        "\n",
        "    def get_warmup_lr(self, epoch):\n",
        "        increase = (self.base_lr_orig - self.warmup_begin_lr) \\\n",
        "                       * float(epoch) / float(self.warmup_steps)\n",
        "        return self.warmup_begin_lr + increase\n",
        "\n",
        "    def __call__(self, epoch):\n",
        "        if epoch < self.warmup_steps:\n",
        "            return self.get_warmup_lr(epoch)\n",
        "        if epoch <= self.max_update:\n",
        "            self.base_lr = self.final_lr + (\n",
        "                self.base_lr_orig - self.final_lr) * (1 + math.cos(\n",
        "                math.pi * (epoch - self.warmup_steps) / self.max_steps)) / 2\n",
        "        return self.base_lr\n",
        "\n",
        "scheduler = CosineScheduler(max_update=20, base_lr=0.3, final_lr=0.01)\n",
        "d2l.plot(torch.arange(num_epochs), [scheduler(t) for t in range(num_epochs)])"
      ]
    },
    {
      "cell_type": "markdown",
      "id": "b96206f1",
      "metadata": {
        "origin_pos": 33,
        "id": "b96206f1"
      },
      "source": [
        "In the context of computer vision this schedule *can* lead to improved results. Note, though, that such improvements are not guaranteed (as can be seen below).\n"
      ]
    },
    {
      "cell_type": "code",
      "execution_count": null,
      "id": "65d74e19",
      "metadata": {
        "execution": {
          "iopub.execute_input": "2023-02-10T05:25:28.067165Z",
          "iopub.status.busy": "2023-02-10T05:25:28.066817Z",
          "iopub.status.idle": "2023-02-10T05:28:53.332047Z",
          "shell.execute_reply": "2023-02-10T05:28:53.324359Z"
        },
        "origin_pos": 35,
        "tab": [
          "pytorch"
        ],
        "id": "65d74e19"
      },
      "outputs": [],
      "source": [
        "net = net_fn()\n",
        "trainer = torch.optim.SGD(net.parameters(), lr=0.3)\n",
        "train(net, train_iter, test_iter, num_epochs, loss, trainer, device,\n",
        "      scheduler)"
      ]
    },
    {
      "cell_type": "markdown",
      "id": "ed8f2cb0",
      "metadata": {
        "origin_pos": 37,
        "id": "ed8f2cb0"
      },
      "source": [
        "### Warmup\n",
        "\n",
        "In some cases initializing the parameters is not sufficient to guarantee a good solution. This is particularly a problem for some advanced network designs that may lead to unstable optimization problems. We could address this by choosing a sufficiently small learning rate to prevent divergence in the beginning. Unfortunately this means that progress is slow. Conversely, a large learning rate initially leads to divergence.\n",
        "\n",
        "A rather simple fix for this dilemma is to use a warmup period during which the learning rate *increases* to its initial maximum and to cool down the rate until the end of the optimization process. For simplicity one typically uses a linear increase for this purpose. This leads to a schedule of the form indicated below.\n"
      ]
    },
    {
      "cell_type": "code",
      "execution_count": null,
      "id": "56f245a3",
      "metadata": {
        "execution": {
          "iopub.execute_input": "2023-02-10T05:28:53.337906Z",
          "iopub.status.busy": "2023-02-10T05:28:53.337301Z",
          "iopub.status.idle": "2023-02-10T05:28:53.571827Z",
          "shell.execute_reply": "2023-02-10T05:28:53.570950Z"
        },
        "origin_pos": 39,
        "tab": [
          "pytorch"
        ],
        "id": "56f245a3"
      },
      "outputs": [],
      "source": [
        "scheduler = CosineScheduler(20, warmup_steps=5, base_lr=0.3, final_lr=0.01)\n",
        "d2l.plot(torch.arange(num_epochs), [scheduler(t) for t in range(num_epochs)])"
      ]
    },
    {
      "cell_type": "markdown",
      "id": "d53aed03",
      "metadata": {
        "origin_pos": 40,
        "id": "d53aed03"
      },
      "source": [
        "Note that the network converges better initially (in particular observe the performance during the first 5 epochs).\n"
      ]
    },
    {
      "cell_type": "code",
      "execution_count": null,
      "id": "607ecaad",
      "metadata": {
        "execution": {
          "iopub.execute_input": "2023-02-10T05:28:53.579577Z",
          "iopub.status.busy": "2023-02-10T05:28:53.576793Z",
          "iopub.status.idle": "2023-02-10T05:32:21.333841Z",
          "shell.execute_reply": "2023-02-10T05:32:21.329126Z"
        },
        "origin_pos": 42,
        "tab": [
          "pytorch"
        ],
        "id": "607ecaad"
      },
      "outputs": [],
      "source": [
        "net = net_fn()\n",
        "trainer = torch.optim.SGD(net.parameters(), lr=0.3)\n",
        "train(net, train_iter, test_iter, num_epochs, loss, trainer, device,\n",
        "      scheduler)"
      ]
    },
    {
      "cell_type": "markdown",
      "id": "5949b08f",
      "metadata": {
        "origin_pos": 44,
        "id": "5949b08f"
      },
      "source": [
        "Warmup can be applied to any scheduler (not just cosine). For a more detailed discussion of learning rate schedules and many more experiments see also :cite:`Gotmare.Keskar.Xiong.ea.2018`. In particular they find that a warmup phase limits the amount of divergence of parameters in very deep networks. This makes intuitively sense since we would expect significant divergence due to random initialization in those parts of the network that take the most time to make progress in the beginning.\n",
        "\n",
        "## Summary\n",
        "\n",
        "* Decreasing the learning rate during training can lead to improved accuracy and (most perplexingly) reduced overfitting of the model.\n",
        "* A piecewise decrease of the learning rate whenever progress has plateaued is effective in practice. Essentially this ensures that we converge efficiently to a suitable solution and only then reduce the inherent variance of the parameters by reducing the learning rate.\n",
        "* Cosine schedulers are popular for some computer vision problems. See e.g., [GluonCV](http://gluon-cv.mxnet.io) for details of such a scheduler.\n",
        "* A warmup period before optimization can prevent divergence.\n",
        "* Optimization serves multiple purposes in deep learning. Besides minimizing the training objective, different choices of optimization algorithms and learning rate scheduling can lead to rather different amounts of generalization and overfitting on the test set (for the same amount of training error).\n",
        "\n",
        "## Exercises\n",
        "\n",
        "1. Experiment with the optimization behavior for a given fixed learning rate. What is the best model you can obtain this way?\n",
        "1. How does convergence change if you change the exponent of the decrease in the learning rate? Use `PolyScheduler` for your convenience in the experiments.\n",
        "1. Apply the cosine scheduler to large computer vision problems, e.g., training ImageNet. How does it affect performance relative to other schedulers?\n",
        "1. How long should warmup last?\n",
        "1. Can you connect optimization and sampling? Start by using results from :citet:`Welling.Teh.2011` on Stochastic Gradient Langevin Dynamics.\n"
      ]
    },
    {
      "cell_type": "markdown",
      "id": "ed740ecc",
      "metadata": {
        "origin_pos": 46,
        "tab": [
          "pytorch"
        ],
        "id": "ed740ecc"
      },
      "source": [
        "[Discussions](https://discuss.d2l.ai/t/1080)\n"
      ]
    }
  ],
  "metadata": {
    "accelerator": "GPU",
    "kernelspec": {
      "display_name": "Python 3",
      "name": "python3"
    },
    "language_info": {
      "name": "python"
    },
    "colab": {
      "provenance": []
    }
  },
  "nbformat": 4,
  "nbformat_minor": 5
}