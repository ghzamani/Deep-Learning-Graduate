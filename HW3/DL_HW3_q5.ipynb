{
  "nbformat": 4,
  "nbformat_minor": 0,
  "metadata": {
    "colab": {
      "provenance": []
    },
    "kernelspec": {
      "name": "python3",
      "display_name": "Python 3"
    },
    "language_info": {
      "name": "python"
    }
  },
  "cells": [
    {
      "cell_type": "code",
      "execution_count": 1,
      "metadata": {
        "id": "Nh74fg3JjhPB"
      },
      "outputs": [],
      "source": [
        "w1 = 1\n",
        "w2 = -1\n",
        "w3 = -1\n",
        "b = 1\n",
        "\n",
        "forward = lambda x1, x2: w1*x1**2 + w2*x2**2 + w3*x1*x2 + b"
      ]
    },
    {
      "cell_type": "code",
      "source": [
        "import numpy as np\n",
        "\n",
        "def mse_loss(y, y_hat):\n",
        "    return np.average((y - y_hat)**2)"
      ],
      "metadata": {
        "id": "zy7sFfaKm51u"
      },
      "execution_count": 3,
      "outputs": []
    },
    {
      "cell_type": "code",
      "source": [
        "def grad_w1(y, y_hat, x1):\n",
        "    return -np.sum((y-y_hat) * x1**2)\n",
        "\n",
        "def grad_w2(y, y_hat, x2):\n",
        "    return -np.sum((y-y_hat) * x2**2)\n",
        "\n",
        "def grad_w3(y, y_hat, x1, x2):\n",
        "    return -np.sum((y-y_hat) * x1 * x2)\n",
        "\n",
        "def grad_b(y, y_hat):\n",
        "    return -np.sum(y-y_hat)"
      ],
      "metadata": {
        "id": "pgXextcenp7z"
      },
      "execution_count": 11,
      "outputs": []
    },
    {
      "cell_type": "code",
      "source": [
        "v_t = 0\n",
        "\n",
        "def update(grad, x_t, v_t, rho=0.9, lr=0.1):\n",
        "    v_t_1 = rho * v_t + grad\n",
        "    x_t_1 =  x_t - lr * v_t_1\n",
        "    return (v_t_1, x_t_1)"
      ],
      "metadata": {
        "id": "2ZbhFdzhvhyq"
      },
      "execution_count": 14,
      "outputs": []
    },
    {
      "cell_type": "markdown",
      "source": [
        "# batch 1"
      ],
      "metadata": {
        "id": "YgsueEN1vm9W"
      }
    },
    {
      "cell_type": "code",
      "source": [
        "print(forward(1, -1))\n",
        "print(forward(2, 0))"
      ],
      "metadata": {
        "colab": {
          "base_uri": "https://localhost:8080/"
        },
        "id": "SyKZptczldas",
        "outputId": "704f3b94-b85d-4aca-9670-ffec633ea43f"
      },
      "execution_count": 2,
      "outputs": [
        {
          "output_type": "stream",
          "name": "stdout",
          "text": [
            "2\n",
            "5\n"
          ]
        }
      ]
    },
    {
      "cell_type": "code",
      "source": [
        "y_b1 = np.array([10, 13])\n",
        "y_hat_b1 = np.array([2, 5])\n",
        "print(mse_loss(y_b1, y_hat_b1))"
      ],
      "metadata": {
        "colab": {
          "base_uri": "https://localhost:8080/"
        },
        "id": "m7NbvA1onOQJ",
        "outputId": "e1f3d937-cbfa-4021-e4ee-a1d80b72899c"
      },
      "execution_count": 7,
      "outputs": [
        {
          "output_type": "stream",
          "name": "stdout",
          "text": [
            "64.0\n"
          ]
        }
      ]
    },
    {
      "cell_type": "code",
      "source": [
        "x1 = np.array([1, 2])\n",
        "x2 = np.array([-1, 0])\n",
        "\n",
        "print(grad_w1(y_b1, y_hat_b1, x1))\n",
        "print(grad_w2(y_b1, y_hat_b1, x2))\n",
        "print(grad_w3(y_b1, y_hat_b1, x1, x2))\n",
        "print(grad_b(y_b1, y_hat_b1))"
      ],
      "metadata": {
        "colab": {
          "base_uri": "https://localhost:8080/"
        },
        "id": "Czt-xPc4soqe",
        "outputId": "80e848ec-3f72-43de-c0f5-8ab459e7ca53"
      },
      "execution_count": 12,
      "outputs": [
        {
          "output_type": "stream",
          "name": "stdout",
          "text": [
            "-40\n",
            "-8\n",
            "8\n",
            "-16\n"
          ]
        }
      ]
    },
    {
      "cell_type": "code",
      "source": [
        "v_t_w1, w1 = update(-40, 1, v_t)\n",
        "v_t_w2, w2 = update(-8, -1, v_t)\n",
        "v_t_w3, w3 = update(8, -1, v_t)\n",
        "v_t_b, b = update(-16, 1, v_t)\n",
        "\n",
        "print(w1)\n",
        "print(w2)\n",
        "print(w3)\n",
        "print(b)"
      ],
      "metadata": {
        "colab": {
          "base_uri": "https://localhost:8080/"
        },
        "id": "_LQadW02wo5U",
        "outputId": "3997d6e0-04b0-4de1-8de8-c394596557d8"
      },
      "execution_count": 18,
      "outputs": [
        {
          "output_type": "stream",
          "name": "stdout",
          "text": [
            "5.0\n",
            "-0.19999999999999996\n",
            "-1.8\n",
            "2.6\n"
          ]
        }
      ]
    },
    {
      "cell_type": "code",
      "source": [
        "w2 = -0.2"
      ],
      "metadata": {
        "id": "yd2LFnRw0Ni2"
      },
      "execution_count": 19,
      "outputs": []
    },
    {
      "cell_type": "markdown",
      "source": [
        "# batch 2"
      ],
      "metadata": {
        "id": "h4kqcuiQ0LYv"
      }
    },
    {
      "cell_type": "code",
      "source": [
        "print(forward(0, 2))\n",
        "print(forward(-1, 1))"
      ],
      "metadata": {
        "colab": {
          "base_uri": "https://localhost:8080/"
        },
        "outputId": "a19881cf-08a4-48d7-ed29-3677c619ef4f",
        "id": "gCacTnjY0Wi8"
      },
      "execution_count": 20,
      "outputs": [
        {
          "output_type": "stream",
          "name": "stdout",
          "text": [
            "1.8\n",
            "9.2\n"
          ]
        }
      ]
    },
    {
      "cell_type": "code",
      "source": [
        "y_b2 = np.array([11, 4])\n",
        "y_hat_b2 = np.array([1.8, 9.2])\n",
        "print(mse_loss(y_b2, y_hat_b2))"
      ],
      "metadata": {
        "colab": {
          "base_uri": "https://localhost:8080/"
        },
        "outputId": "83ffcde4-2bd2-47b8-83b6-b274160a057d",
        "id": "O__WRpWS0Wi-"
      },
      "execution_count": 22,
      "outputs": [
        {
          "output_type": "stream",
          "name": "stdout",
          "text": [
            "55.83999999999999\n"
          ]
        }
      ]
    },
    {
      "cell_type": "code",
      "source": [
        "x1 = np.array([0, -1])\n",
        "x2 = np.array([2, 1])\n",
        "\n",
        "print(grad_w1(y_b2, y_hat_b2, x1))\n",
        "print(grad_w2(y_b2, y_hat_b2, x2))\n",
        "print(grad_w3(y_b2, y_hat_b2, x1, x2))\n",
        "print(grad_b(y_b2, y_hat_b2))"
      ],
      "metadata": {
        "colab": {
          "base_uri": "https://localhost:8080/"
        },
        "outputId": "b93d9341-f1cd-4708-ee24-b1389abddc9a",
        "id": "vvgH5Onk0Wi_"
      },
      "execution_count": 23,
      "outputs": [
        {
          "output_type": "stream",
          "name": "stdout",
          "text": [
            "5.199999999999999\n",
            "-31.599999999999998\n",
            "-5.199999999999999\n",
            "-4.0\n"
          ]
        }
      ]
    },
    {
      "cell_type": "code",
      "source": [
        "v_t_w1, w1 = update(5.2, w1, v_t_w1)\n",
        "v_t_w2, w2 = update(-31.6, w2, v_t_w2)\n",
        "v_t_w3, w3 = update(-5.2, w3, v_t_w3)\n",
        "v_t_b, b = update(-4, b, v_t_b)\n",
        "\n",
        "print(w1)\n",
        "print(w2)\n",
        "print(w3)\n",
        "print(b)"
      ],
      "metadata": {
        "colab": {
          "base_uri": "https://localhost:8080/"
        },
        "outputId": "59d35a53-5b86-4754-8224-a8db1230e94c",
        "id": "vOgeNX4m0WjA"
      },
      "execution_count": 25,
      "outputs": [
        {
          "output_type": "stream",
          "name": "stdout",
          "text": [
            "8.08\n",
            "3.6800000000000006\n",
            "-2.0\n",
            "4.4399999999999995\n"
          ]
        }
      ]
    }
  ]
}